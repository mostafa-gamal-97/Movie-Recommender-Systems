{
  "nbformat": 4,
  "nbformat_minor": 0,
  "metadata": {
    "colab": {
      "name": "movies_recomendation_v1.ipynb",
      "provenance": [],
      "collapsed_sections": [
        "_6znkUWGmlxp"
      ],
      "toc_visible": true
    },
    "kernelspec": {
      "name": "python3",
      "display_name": "Python 3"
    },
    "language_info": {
      "name": "python"
    }
  },
  "cells": [
    {
      "cell_type": "markdown",
      "source": [
        "# Getting Started\n",
        "\n",
        "During the last few decades, with the rise of Youtube, Amazon, Netflix, and many other such web services, recommender systems have taken more and more place in our lives. From e-commerce (suggest to buyers articles that could interest them) to online advertisement (suggest to users the right contents matching their preferences).\n",
        "\n",
        "In a general way, recommender systems are algorithms aimed at suggesting relevant items to users (items being movies to watch, books to read, products to buy or anything depending on industry).\n",
        "\n",
        "**In this notebook**, We will go through different types of recommender systems.\n",
        "For each of them, we will present how they work, theory behind each one, and discuss their strength and weaknesses."
      ],
      "metadata": {
        "id": "hN08HIoq_tGG"
      }
    },
    {
      "cell_type": "markdown",
      "source": [
        "So let's go\n",
        "\n",
        "There are basically three types of of recommender systems:\n",
        "\n",
        "\n",
        "1.   Demographic Filtering : They offer us generalized recommendation for every user based on a certain feature such as (imdb rating, popularity, genre, budger, or revenue).\n",
        "The system recommends the same movies to users with similar demographic features. Since each user has a different taste and preferences, this approach is too simple.\n",
        "\n",
        "In a nutshell: Movies that are more popular or have high imdb rating have higher probability of being liked by and recommended to the average user.\n",
        "\n",
        "---\n",
        "\n",
        "2.  Content Based Filtering: They suggest similar items based on the items metadata such as description, genres, or leading actors for movies, to make recommendations\n",
        "\n",
        "In a nutshell: If a person liked a certain item, he/she will like items similar to it.\n",
        "\n",
        "---\n",
        "\n",
        "3. Collabrative Filtering: This system matches people with similar interests and provides recommendations based on this matching. Collabrative Filters do not require items metadata.\n",
        "\n",
        "\n",
        "In a nutshell: We have person-1 and person-2.\n",
        "If person-1 likes movies A, B, C, and D, person-2 likes movies C, and D, Then the system will recommend movies A, and B to person-2."
      ],
      "metadata": {
        "id": "wKJfRKubILyb"
      }
    },
    {
      "cell_type": "code",
      "execution_count": null,
      "metadata": {
        "colab": {
          "base_uri": "https://localhost:8080/"
        },
        "id": "EzgNK9Ab_MG4",
        "outputId": "ce693d51-3a74-4944-babf-99e7c3f02420"
      },
      "outputs": [
        {
          "output_type": "stream",
          "name": "stdout",
          "text": [
            "Mounted at /content/drive\n"
          ]
        }
      ],
      "source": [
        "# Lets start by mounting our drive\n",
        "from google.colab import drive\n",
        "drive.mount('/content/drive')"
      ]
    },
    {
      "cell_type": "code",
      "source": [
        "# Import necessary libararies\n",
        "import numpy as np \n",
        "import pandas as pd\n",
        "import matplotlib.pyplot as plt\n",
        "import seaborn as sns\n",
        "import os\n",
        "# sklearn\n",
        "from sklearn.feature_extraction.text import TfidfVectorizer\n",
        "from sklearn.feature_extraction.text import CountVectorizer\n",
        "from sklearn.metrics.pairwise import linear_kernel\n",
        "from sklearn.metrics.pairwise import cosine_similarity\n",
        "from ast import literal_eval\n",
        "\n",
        "%matplotlib inline\n",
        "sns.set_style('whitegrid')\n",
        "\n",
        "# Check current working directory\n",
        "print(os.getcwd())\n",
        "# Change directory to where our dataset is located\n",
        "data_path = '/content/drive/MyDrive/Colab Notebooks/Movies Recommendation' \n",
        "os.chdir(data_path)\n",
        "# List all files in directory\n",
        "for dirname, _, filenames in os.walk(data_path):\n",
        "    for filename in filenames:\n",
        "        print(os.path.join(dirname, filename))"
      ],
      "metadata": {
        "colab": {
          "base_uri": "https://localhost:8080/"
        },
        "id": "cClUPzXJ_YgG",
        "outputId": "15ff9b36-bf3d-4585-bea2-7193c1696d10"
      },
      "execution_count": null,
      "outputs": [
        {
          "output_type": "stream",
          "name": "stdout",
          "text": [
            "/content\n",
            "/content/drive/MyDrive/Colab Notebooks/Movies Recommendation/tmdb_5000_credits.csv\n",
            "/content/drive/MyDrive/Colab Notebooks/Movies Recommendation/tmdb_5000_movies.csv\n",
            "/content/drive/MyDrive/Colab Notebooks/Movies Recommendation/movies_metadata.csv\n",
            "/content/drive/MyDrive/Colab Notebooks/Movies Recommendation/credits.csv\n"
          ]
        }
      ]
    },
    {
      "cell_type": "markdown",
      "source": [
        "## Working with TMDB5000 Dataset"
      ],
      "metadata": {
        "id": "XjhbATmCz8aZ"
      }
    },
    {
      "cell_type": "markdown",
      "source": [
        "**About the data**\n",
        "\n",
        "We have two datasets : movies and credits.\n",
        "\n",
        "The movies datasets contains:\n",
        "\n",
        "\n",
        "*   budget - the cost of making the movie\n",
        "*   genres - the genre of the movie, Action, SciFi, Fantasy\n",
        "*   homepage - a link to movie's homepage\n",
        "*   id - movie_id as in the second dataset\n",
        "*   keywords - tags related to the movie\n",
        "*   original_language - the language in which a movie was made\n",
        "*   original_title - the title of the movie before translation or adapted\n",
        "*   overview - A short description of the movie\n",
        "*   popularity - A number that represents movie popularity\n",
        "*   production_companies - The production house of the movie\n",
        "*   production_countries - The country the movie was produced in\n",
        "*   release_date - date of movie release\n",
        "*   revenue - the worldwide revenue generated by movie\n",
        "*   runtime - the running time of movie in minutes\n",
        "*   status - 'Released' or 'Rumored'\n",
        "*   tagline - movie's tagline\n",
        "*   title - movie's title\n",
        "*   vote_average - average ratings that movie received\n",
        "*   vote_count- the count of votes received\n",
        "\n",
        "\n",
        "The credits dataset contains:\n",
        "\n",
        "\n",
        "*   movie_id - a unique key for each movie\n",
        "*   title - movie's title\n",
        "*   cast - the name of lead and secondary actors\n",
        "*   crew - the name of director, editor, composer, writer, etc.\n"
      ],
      "metadata": {
        "id": "pCxt0HLyLdiT"
      }
    },
    {
      "cell_type": "code",
      "source": [
        "# Load our data\n",
        "# Put your own paths of files\n",
        "meta = pd.read_csv('/content/drive/MyDrive/Colab Notebooks/Movies Recommendation/tmdb_5000_movies.csv') \n",
        "credits = pd.read_csv('/content/drive/MyDrive/Colab Notebooks/Movies Recommendation/tmdb_5000_credits.csv')"
      ],
      "metadata": {
        "id": "XVayMFOj_Ypk"
      },
      "execution_count": null,
      "outputs": []
    },
    {
      "cell_type": "code",
      "source": [
        "# view head of our data\n",
        "display(meta.head(1))\n",
        "print('-' * 80)\n",
        "print(meta.shape)\n",
        "print()\n",
        "display(credits.head(1))\n",
        "print('-' * 80)\n",
        "print(credits.shape)"
      ],
      "metadata": {
        "colab": {
          "base_uri": "https://localhost:8080/",
          "height": 382
        },
        "id": "AGdo6CYF_Yse",
        "outputId": "7a700053-58a7-4ddf-990e-9402e67da8dc"
      },
      "execution_count": null,
      "outputs": [
        {
          "output_type": "display_data",
          "data": {
            "text/plain": [
              "      budget                                             genres  \\\n",
              "0  237000000  [{\"id\": 28, \"name\": \"Action\"}, {\"id\": 12, \"nam...   \n",
              "\n",
              "                      homepage     id  \\\n",
              "0  http://www.avatarmovie.com/  19995   \n",
              "\n",
              "                                            keywords original_language  \\\n",
              "0  [{\"id\": 1463, \"name\": \"culture clash\"}, {\"id\":...                en   \n",
              "\n",
              "  original_title                                           overview  \\\n",
              "0         Avatar  In the 22nd century, a paraplegic Marine is di...   \n",
              "\n",
              "   popularity                               production_companies  \\\n",
              "0  150.437577  [{\"name\": \"Ingenious Film Partners\", \"id\": 289...   \n",
              "\n",
              "                                production_countries release_date     revenue  \\\n",
              "0  [{\"iso_3166_1\": \"US\", \"name\": \"United States o...   2009-12-10  2787965087   \n",
              "\n",
              "   runtime                                   spoken_languages    status  \\\n",
              "0    162.0  [{\"iso_639_1\": \"en\", \"name\": \"English\"}, {\"iso...  Released   \n",
              "\n",
              "                       tagline   title  vote_average  vote_count  \n",
              "0  Enter the World of Pandora.  Avatar           7.2       11800  "
            ],
            "text/html": [
              "\n",
              "  <div id=\"df-c8c45a52-e49a-421c-909f-d02af1be3ba7\">\n",
              "    <div class=\"colab-df-container\">\n",
              "      <div>\n",
              "<style scoped>\n",
              "    .dataframe tbody tr th:only-of-type {\n",
              "        vertical-align: middle;\n",
              "    }\n",
              "\n",
              "    .dataframe tbody tr th {\n",
              "        vertical-align: top;\n",
              "    }\n",
              "\n",
              "    .dataframe thead th {\n",
              "        text-align: right;\n",
              "    }\n",
              "</style>\n",
              "<table border=\"1\" class=\"dataframe\">\n",
              "  <thead>\n",
              "    <tr style=\"text-align: right;\">\n",
              "      <th></th>\n",
              "      <th>budget</th>\n",
              "      <th>genres</th>\n",
              "      <th>homepage</th>\n",
              "      <th>id</th>\n",
              "      <th>keywords</th>\n",
              "      <th>original_language</th>\n",
              "      <th>original_title</th>\n",
              "      <th>overview</th>\n",
              "      <th>popularity</th>\n",
              "      <th>production_companies</th>\n",
              "      <th>production_countries</th>\n",
              "      <th>release_date</th>\n",
              "      <th>revenue</th>\n",
              "      <th>runtime</th>\n",
              "      <th>spoken_languages</th>\n",
              "      <th>status</th>\n",
              "      <th>tagline</th>\n",
              "      <th>title</th>\n",
              "      <th>vote_average</th>\n",
              "      <th>vote_count</th>\n",
              "    </tr>\n",
              "  </thead>\n",
              "  <tbody>\n",
              "    <tr>\n",
              "      <th>0</th>\n",
              "      <td>237000000</td>\n",
              "      <td>[{\"id\": 28, \"name\": \"Action\"}, {\"id\": 12, \"nam...</td>\n",
              "      <td>http://www.avatarmovie.com/</td>\n",
              "      <td>19995</td>\n",
              "      <td>[{\"id\": 1463, \"name\": \"culture clash\"}, {\"id\":...</td>\n",
              "      <td>en</td>\n",
              "      <td>Avatar</td>\n",
              "      <td>In the 22nd century, a paraplegic Marine is di...</td>\n",
              "      <td>150.437577</td>\n",
              "      <td>[{\"name\": \"Ingenious Film Partners\", \"id\": 289...</td>\n",
              "      <td>[{\"iso_3166_1\": \"US\", \"name\": \"United States o...</td>\n",
              "      <td>2009-12-10</td>\n",
              "      <td>2787965087</td>\n",
              "      <td>162.0</td>\n",
              "      <td>[{\"iso_639_1\": \"en\", \"name\": \"English\"}, {\"iso...</td>\n",
              "      <td>Released</td>\n",
              "      <td>Enter the World of Pandora.</td>\n",
              "      <td>Avatar</td>\n",
              "      <td>7.2</td>\n",
              "      <td>11800</td>\n",
              "    </tr>\n",
              "  </tbody>\n",
              "</table>\n",
              "</div>\n",
              "      <button class=\"colab-df-convert\" onclick=\"convertToInteractive('df-c8c45a52-e49a-421c-909f-d02af1be3ba7')\"\n",
              "              title=\"Convert this dataframe to an interactive table.\"\n",
              "              style=\"display:none;\">\n",
              "        \n",
              "  <svg xmlns=\"http://www.w3.org/2000/svg\" height=\"24px\"viewBox=\"0 0 24 24\"\n",
              "       width=\"24px\">\n",
              "    <path d=\"M0 0h24v24H0V0z\" fill=\"none\"/>\n",
              "    <path d=\"M18.56 5.44l.94 2.06.94-2.06 2.06-.94-2.06-.94-.94-2.06-.94 2.06-2.06.94zm-11 1L8.5 8.5l.94-2.06 2.06-.94-2.06-.94L8.5 2.5l-.94 2.06-2.06.94zm10 10l.94 2.06.94-2.06 2.06-.94-2.06-.94-.94-2.06-.94 2.06-2.06.94z\"/><path d=\"M17.41 7.96l-1.37-1.37c-.4-.4-.92-.59-1.43-.59-.52 0-1.04.2-1.43.59L10.3 9.45l-7.72 7.72c-.78.78-.78 2.05 0 2.83L4 21.41c.39.39.9.59 1.41.59.51 0 1.02-.2 1.41-.59l7.78-7.78 2.81-2.81c.8-.78.8-2.07 0-2.86zM5.41 20L4 18.59l7.72-7.72 1.47 1.35L5.41 20z\"/>\n",
              "  </svg>\n",
              "      </button>\n",
              "      \n",
              "  <style>\n",
              "    .colab-df-container {\n",
              "      display:flex;\n",
              "      flex-wrap:wrap;\n",
              "      gap: 12px;\n",
              "    }\n",
              "\n",
              "    .colab-df-convert {\n",
              "      background-color: #E8F0FE;\n",
              "      border: none;\n",
              "      border-radius: 50%;\n",
              "      cursor: pointer;\n",
              "      display: none;\n",
              "      fill: #1967D2;\n",
              "      height: 32px;\n",
              "      padding: 0 0 0 0;\n",
              "      width: 32px;\n",
              "    }\n",
              "\n",
              "    .colab-df-convert:hover {\n",
              "      background-color: #E2EBFA;\n",
              "      box-shadow: 0px 1px 2px rgba(60, 64, 67, 0.3), 0px 1px 3px 1px rgba(60, 64, 67, 0.15);\n",
              "      fill: #174EA6;\n",
              "    }\n",
              "\n",
              "    [theme=dark] .colab-df-convert {\n",
              "      background-color: #3B4455;\n",
              "      fill: #D2E3FC;\n",
              "    }\n",
              "\n",
              "    [theme=dark] .colab-df-convert:hover {\n",
              "      background-color: #434B5C;\n",
              "      box-shadow: 0px 1px 3px 1px rgba(0, 0, 0, 0.15);\n",
              "      filter: drop-shadow(0px 1px 2px rgba(0, 0, 0, 0.3));\n",
              "      fill: #FFFFFF;\n",
              "    }\n",
              "  </style>\n",
              "\n",
              "      <script>\n",
              "        const buttonEl =\n",
              "          document.querySelector('#df-c8c45a52-e49a-421c-909f-d02af1be3ba7 button.colab-df-convert');\n",
              "        buttonEl.style.display =\n",
              "          google.colab.kernel.accessAllowed ? 'block' : 'none';\n",
              "\n",
              "        async function convertToInteractive(key) {\n",
              "          const element = document.querySelector('#df-c8c45a52-e49a-421c-909f-d02af1be3ba7');\n",
              "          const dataTable =\n",
              "            await google.colab.kernel.invokeFunction('convertToInteractive',\n",
              "                                                     [key], {});\n",
              "          if (!dataTable) return;\n",
              "\n",
              "          const docLinkHtml = 'Like what you see? Visit the ' +\n",
              "            '<a target=\"_blank\" href=https://colab.research.google.com/notebooks/data_table.ipynb>data table notebook</a>'\n",
              "            + ' to learn more about interactive tables.';\n",
              "          element.innerHTML = '';\n",
              "          dataTable['output_type'] = 'display_data';\n",
              "          await google.colab.output.renderOutput(dataTable, element);\n",
              "          const docLink = document.createElement('div');\n",
              "          docLink.innerHTML = docLinkHtml;\n",
              "          element.appendChild(docLink);\n",
              "        }\n",
              "      </script>\n",
              "    </div>\n",
              "  </div>\n",
              "  "
            ]
          },
          "metadata": {}
        },
        {
          "output_type": "stream",
          "name": "stdout",
          "text": [
            "--------------------------------------------------------------------------------\n",
            "(4803, 20)\n",
            "\n"
          ]
        },
        {
          "output_type": "display_data",
          "data": {
            "text/plain": [
              "   movie_id   title                                               cast  \\\n",
              "0     19995  Avatar  [{\"cast_id\": 242, \"character\": \"Jake Sully\", \"...   \n",
              "\n",
              "                                                crew  \n",
              "0  [{\"credit_id\": \"52fe48009251416c750aca23\", \"de...  "
            ],
            "text/html": [
              "\n",
              "  <div id=\"df-e8948d3d-8fa8-4bf8-8bb1-2e02ec965a9c\">\n",
              "    <div class=\"colab-df-container\">\n",
              "      <div>\n",
              "<style scoped>\n",
              "    .dataframe tbody tr th:only-of-type {\n",
              "        vertical-align: middle;\n",
              "    }\n",
              "\n",
              "    .dataframe tbody tr th {\n",
              "        vertical-align: top;\n",
              "    }\n",
              "\n",
              "    .dataframe thead th {\n",
              "        text-align: right;\n",
              "    }\n",
              "</style>\n",
              "<table border=\"1\" class=\"dataframe\">\n",
              "  <thead>\n",
              "    <tr style=\"text-align: right;\">\n",
              "      <th></th>\n",
              "      <th>movie_id</th>\n",
              "      <th>title</th>\n",
              "      <th>cast</th>\n",
              "      <th>crew</th>\n",
              "    </tr>\n",
              "  </thead>\n",
              "  <tbody>\n",
              "    <tr>\n",
              "      <th>0</th>\n",
              "      <td>19995</td>\n",
              "      <td>Avatar</td>\n",
              "      <td>[{\"cast_id\": 242, \"character\": \"Jake Sully\", \"...</td>\n",
              "      <td>[{\"credit_id\": \"52fe48009251416c750aca23\", \"de...</td>\n",
              "    </tr>\n",
              "  </tbody>\n",
              "</table>\n",
              "</div>\n",
              "      <button class=\"colab-df-convert\" onclick=\"convertToInteractive('df-e8948d3d-8fa8-4bf8-8bb1-2e02ec965a9c')\"\n",
              "              title=\"Convert this dataframe to an interactive table.\"\n",
              "              style=\"display:none;\">\n",
              "        \n",
              "  <svg xmlns=\"http://www.w3.org/2000/svg\" height=\"24px\"viewBox=\"0 0 24 24\"\n",
              "       width=\"24px\">\n",
              "    <path d=\"M0 0h24v24H0V0z\" fill=\"none\"/>\n",
              "    <path d=\"M18.56 5.44l.94 2.06.94-2.06 2.06-.94-2.06-.94-.94-2.06-.94 2.06-2.06.94zm-11 1L8.5 8.5l.94-2.06 2.06-.94-2.06-.94L8.5 2.5l-.94 2.06-2.06.94zm10 10l.94 2.06.94-2.06 2.06-.94-2.06-.94-.94-2.06-.94 2.06-2.06.94z\"/><path d=\"M17.41 7.96l-1.37-1.37c-.4-.4-.92-.59-1.43-.59-.52 0-1.04.2-1.43.59L10.3 9.45l-7.72 7.72c-.78.78-.78 2.05 0 2.83L4 21.41c.39.39.9.59 1.41.59.51 0 1.02-.2 1.41-.59l7.78-7.78 2.81-2.81c.8-.78.8-2.07 0-2.86zM5.41 20L4 18.59l7.72-7.72 1.47 1.35L5.41 20z\"/>\n",
              "  </svg>\n",
              "      </button>\n",
              "      \n",
              "  <style>\n",
              "    .colab-df-container {\n",
              "      display:flex;\n",
              "      flex-wrap:wrap;\n",
              "      gap: 12px;\n",
              "    }\n",
              "\n",
              "    .colab-df-convert {\n",
              "      background-color: #E8F0FE;\n",
              "      border: none;\n",
              "      border-radius: 50%;\n",
              "      cursor: pointer;\n",
              "      display: none;\n",
              "      fill: #1967D2;\n",
              "      height: 32px;\n",
              "      padding: 0 0 0 0;\n",
              "      width: 32px;\n",
              "    }\n",
              "\n",
              "    .colab-df-convert:hover {\n",
              "      background-color: #E2EBFA;\n",
              "      box-shadow: 0px 1px 2px rgba(60, 64, 67, 0.3), 0px 1px 3px 1px rgba(60, 64, 67, 0.15);\n",
              "      fill: #174EA6;\n",
              "    }\n",
              "\n",
              "    [theme=dark] .colab-df-convert {\n",
              "      background-color: #3B4455;\n",
              "      fill: #D2E3FC;\n",
              "    }\n",
              "\n",
              "    [theme=dark] .colab-df-convert:hover {\n",
              "      background-color: #434B5C;\n",
              "      box-shadow: 0px 1px 3px 1px rgba(0, 0, 0, 0.15);\n",
              "      filter: drop-shadow(0px 1px 2px rgba(0, 0, 0, 0.3));\n",
              "      fill: #FFFFFF;\n",
              "    }\n",
              "  </style>\n",
              "\n",
              "      <script>\n",
              "        const buttonEl =\n",
              "          document.querySelector('#df-e8948d3d-8fa8-4bf8-8bb1-2e02ec965a9c button.colab-df-convert');\n",
              "        buttonEl.style.display =\n",
              "          google.colab.kernel.accessAllowed ? 'block' : 'none';\n",
              "\n",
              "        async function convertToInteractive(key) {\n",
              "          const element = document.querySelector('#df-e8948d3d-8fa8-4bf8-8bb1-2e02ec965a9c');\n",
              "          const dataTable =\n",
              "            await google.colab.kernel.invokeFunction('convertToInteractive',\n",
              "                                                     [key], {});\n",
              "          if (!dataTable) return;\n",
              "\n",
              "          const docLinkHtml = 'Like what you see? Visit the ' +\n",
              "            '<a target=\"_blank\" href=https://colab.research.google.com/notebooks/data_table.ipynb>data table notebook</a>'\n",
              "            + ' to learn more about interactive tables.';\n",
              "          element.innerHTML = '';\n",
              "          dataTable['output_type'] = 'display_data';\n",
              "          await google.colab.output.renderOutput(dataTable, element);\n",
              "          const docLink = document.createElement('div');\n",
              "          docLink.innerHTML = docLinkHtml;\n",
              "          element.appendChild(docLink);\n",
              "        }\n",
              "      </script>\n",
              "    </div>\n",
              "  </div>\n",
              "  "
            ]
          },
          "metadata": {}
        },
        {
          "output_type": "stream",
          "name": "stdout",
          "text": [
            "--------------------------------------------------------------------------------\n",
            "(4803, 4)\n"
          ]
        }
      ]
    },
    {
      "cell_type": "code",
      "source": [
        "# Columns and data types\n",
        "print(meta.info())\n",
        "print('-' * 80)\n",
        "print()\n",
        "print(credits.info())"
      ],
      "metadata": {
        "colab": {
          "base_uri": "https://localhost:8080/"
        },
        "id": "foPrKcmiksJp",
        "outputId": "dc0a0b01-4d96-4c31-c043-cd91859d9c73"
      },
      "execution_count": null,
      "outputs": [
        {
          "output_type": "stream",
          "name": "stdout",
          "text": [
            "<class 'pandas.core.frame.DataFrame'>\n",
            "RangeIndex: 4803 entries, 0 to 4802\n",
            "Data columns (total 20 columns):\n",
            " #   Column                Non-Null Count  Dtype  \n",
            "---  ------                --------------  -----  \n",
            " 0   budget                4803 non-null   int64  \n",
            " 1   genres                4803 non-null   object \n",
            " 2   homepage              1712 non-null   object \n",
            " 3   id                    4803 non-null   int64  \n",
            " 4   keywords              4803 non-null   object \n",
            " 5   original_language     4803 non-null   object \n",
            " 6   original_title        4803 non-null   object \n",
            " 7   overview              4800 non-null   object \n",
            " 8   popularity            4803 non-null   float64\n",
            " 9   production_companies  4803 non-null   object \n",
            " 10  production_countries  4803 non-null   object \n",
            " 11  release_date          4802 non-null   object \n",
            " 12  revenue               4803 non-null   int64  \n",
            " 13  runtime               4801 non-null   float64\n",
            " 14  spoken_languages      4803 non-null   object \n",
            " 15  status                4803 non-null   object \n",
            " 16  tagline               3959 non-null   object \n",
            " 17  title                 4803 non-null   object \n",
            " 18  vote_average          4803 non-null   float64\n",
            " 19  vote_count            4803 non-null   int64  \n",
            "dtypes: float64(3), int64(4), object(13)\n",
            "memory usage: 750.6+ KB\n",
            "None\n",
            "--------------------------------------------------------------------------------\n",
            "\n",
            "<class 'pandas.core.frame.DataFrame'>\n",
            "RangeIndex: 4803 entries, 0 to 4802\n",
            "Data columns (total 4 columns):\n",
            " #   Column    Non-Null Count  Dtype \n",
            "---  ------    --------------  ----- \n",
            " 0   movie_id  4803 non-null   int64 \n",
            " 1   title     4803 non-null   object\n",
            " 2   cast      4803 non-null   object\n",
            " 3   crew      4803 non-null   object\n",
            "dtypes: int64(1), object(3)\n",
            "memory usage: 150.2+ KB\n",
            "None\n"
          ]
        }
      ]
    },
    {
      "cell_type": "code",
      "source": [
        "# check for null values\n",
        "print(meta.isna().sum())\n",
        "print('-' * 80)\n",
        "print(credits.isna().sum())\n",
        "print('-' * 80)"
      ],
      "metadata": {
        "colab": {
          "base_uri": "https://localhost:8080/"
        },
        "id": "ObkMNaMeymdV",
        "outputId": "5820c4ab-2f4a-409a-8e4e-3d813d0502b8"
      },
      "execution_count": null,
      "outputs": [
        {
          "output_type": "stream",
          "name": "stdout",
          "text": [
            "budget                     0\n",
            "genres                     0\n",
            "homepage                3091\n",
            "id                         0\n",
            "keywords                   0\n",
            "original_language          0\n",
            "original_title             0\n",
            "overview                   3\n",
            "popularity                 0\n",
            "production_companies       0\n",
            "production_countries       0\n",
            "release_date               1\n",
            "revenue                    0\n",
            "runtime                    2\n",
            "spoken_languages           0\n",
            "status                     0\n",
            "tagline                  844\n",
            "title                      0\n",
            "vote_average               0\n",
            "vote_count                 0\n",
            "dtype: int64\n",
            "--------------------------------------------------------------------------------\n",
            "movie_id    0\n",
            "title       0\n",
            "cast        0\n",
            "crew        0\n",
            "dtype: int64\n",
            "--------------------------------------------------------------------------------\n"
          ]
        }
      ]
    },
    {
      "cell_type": "markdown",
      "source": [
        "We will ignore some of the null values since we won't be using the entire movies metadata for our analysis. Lets merge the credits and metadata in one dataframe on **id**."
      ],
      "metadata": {
        "id": "GxtLxqtG320D"
      }
    },
    {
      "cell_type": "code",
      "source": [
        "# first, rename the column movie_id to id in credits dataframe\n",
        "credits.rename(columns = {'movie_id':'id', 'title': 'title', 'cast':'cast', 'crew': 'crew' }, inplace = True)\n",
        "# now, merge\n",
        "data = meta.merge(credits, on = 'id')\n",
        "print(\"Full data shape: \", data.shape)"
      ],
      "metadata": {
        "colab": {
          "base_uri": "https://localhost:8080/"
        },
        "id": "dW_EMa7Z0PHP",
        "outputId": "8508a0ec-631a-4405-96a5-651420529ef1"
      },
      "execution_count": null,
      "outputs": [
        {
          "output_type": "stream",
          "name": "stdout",
          "text": [
            "Full data shape:  (4803, 23)\n"
          ]
        }
      ]
    },
    {
      "cell_type": "code",
      "source": [
        "# Check for duplicates Before starting our process.\n",
        "print(\"Number of duplicate records: \", data.duplicated().sum())\n",
        "print(\"Full data shape: \", data.shape)"
      ],
      "metadata": {
        "colab": {
          "base_uri": "https://localhost:8080/"
        },
        "id": "vyLqOFW20Vxo",
        "outputId": "506621e4-d386-4e97-ab70-00216789337c"
      },
      "execution_count": null,
      "outputs": [
        {
          "output_type": "stream",
          "name": "stdout",
          "text": [
            "Number of duplicate records:  0\n",
            "Full data shape:  (4803, 23)\n"
          ]
        }
      ]
    },
    {
      "cell_type": "markdown",
      "source": [
        "## Demographic Filtering\n"
      ],
      "metadata": {
        "id": "7Dk8eE1WnGRl"
      }
    },
    {
      "cell_type": "markdown",
      "source": [
        "### 1. Rank-Based System"
      ],
      "metadata": {
        "id": "o4XTAUqynP9o"
      }
    },
    {
      "cell_type": "markdown",
      "source": [
        "\n",
        "This system uses the weighted rating of each movie, and the higher-scoring movies have higher probabilities of being recommended to the average user.\n",
        "\n",
        "Before getting started with this type of system, we need to consider one thing:\n",
        "\n",
        "If we use the 'average_rating' column for rating our movies, this won't be fair because a movie with 8.5 average rating and only 3 votes will be considered better than a 8.0 movie with 50 votes, So we'll use IMDB's weighted rating formula to evaluate a new scoring metric.\n"
      ],
      "metadata": {
        "id": "Hk68LhQ0TRgJ"
      }
    },
    {
      "cell_type": "markdown",
      "source": [
        "![idmb weighted rating.png](data:image/png;base64,iVBORw0KGgoAAAANSUhEUgAAAXAAAACZCAIAAAC5R/aWAAB9fklEQVR42u1dBVxVSdvn3W/fd1vXtQuR7gYBSRGku0UpMQCRMMBCwG5EEQQFBEURRAUEAWkEpLtBuvsCt883cw4gGLu4y4bu/e9P9tw5c6bnP8/MPPMMHUIDDTTQME+g+7sTQAMNNHw5oBEKDTTQMG+gEQoNNNAwb/gSCIVEIhFQEIlE8ExEQaFQ/prYqVQqFikJBRUFmUz+u0uFBhr+BnwJhPIxgI79Z0fxPnH8ZURGAw3/QHz2hAI6cFBQkIeHx7Fjx86fP+/t7Q3+nj59enBwEPmTOQXjjvHx8evXr589e/bq1asgduAyNDSUlpaG0MiFhn8fPntCAZSRnJwsJCS0ePHiR48ePXv27PHjx5aWlgICAu3t7dgE5M+IFyOLe/fubdy48eLFi5GRkSDq8PBwFxcXDQ0NQGrgLZgH/d3FQwMNfyk+b0KZJgtubu7Lly9Puw8PD69cudLc3BxBez6JRML6P/APOvmvUwyQOLq6upCPSzfAHQvNzc1t1apVqampM98CaeWXX36pqakBfggEApgTYUsqACAZWHqwZ5r8QsOXh8+bULA+CXovHR1daGgoHo8fGBgALiUlJV9//TWYB/2O0DIyMqytrcEDoIMPesOIxsfH58cff8zJyUHQlZRpjnjz5o20tPT7/jFgnEIDDV8qvgRCefnyJZAU+vv7McfOzk4wDQHzDqwn19fX3717F5AOeAZ0ExAQ0N3djXxIAJkmlJ07dyIfJxSAvr4+QGFHjhwBz4DFZr4C0s2ZM2dA4M3NzWAKlp2dDRzj4uLAnCgqKgo85+fnP336FMyVOjo6kL9k5ZgGGv4yfN6EgsHR0ZGFhSU8PPzGjRs7duwAPwFrYK9qa2v9/f13794tKysLfra2tgIiAD6R2Sum2CwGm56kp6cDQgEPgCkw95l9Hvtq7969YEoFKIOCYmZiQCDYenBgYODVq1fXrl176dIlQCjPnj0TFBR0cXEB7s+fP7eysjI1NUVoMgsNXxY+e0IBvR2wibm5eUNDQ0VFxYMHD5YsWVJWVgbccThccHDw6Oiom5ublJQUtkC7a9eu+Ph45ONbMIWFhXZ2dh+LDtsnXrduHR8fH/LetvE09RQVFQHaAm8XLVoEhBHMERCKvLw8xiARERHCwsLIr8pBNNDw2eGzJxTAGt999920SAJAT09/4MAB0LcBlfT09IAOzMHBAWQE7O3NmzfBpAOZQSig2xcUFOTm5ubk5Lx+/RpINNra2uAhKysrLy/v1atXYA6FTJEFxiAMDAyAGjChZjpezENVVRV4APMv8MrX11dAQABBxRAikbhixQrAI9hPAwMDdXV1EAJtJ4iGLwmfMaFgHfjp06dr1qx58+YNJoD09fV988032HLs2NgY+AskhQULFoDJDoKyD5hxAFkGmSFNAEdLS0t9fX1DQ0MjIyPAFExMTOABuJiYmKioqERHRyNTcxOMQYAHZWVlbP8ICwRzBwQESGQ6hWpqajo6OtgzkFmYmZmHh4exeMGzj48PQtNVoeHLwrwRyvuLi3/2ciPWFbdu3QoEEGSqw7e0tNDR0WEKZiMjI+DvqVOnZGVlMUEgPT394cOHyK92YyBiODg4/HqkYIbFzs4+/RPLKeCyo0ePYmvDWGLAtGiaX1xcXISEhLDnxMREIEYBDgLiT319/V9QVjTQ8Nfgr5NQ5r3PYEIBCwsLEBYwBRPws6mpCRDK7du3EXR2A/6eO3dOVFQU9PyBgQHQvTFZ5h1CAd8SCISJiQnwNyUlZceOHeABSC7YEaH39eu7u7s5OTnt7e2xZIAAAS94enoCMpp2KS0tXblyZW9vL5ZxSUlJbK0XPG/fvl1JSQl84uXlNTQ0hPn/yyqCBhr+PPwhQsG6JejDGzduXL58uYiIyJkzZ4BLQUGBpqbmihUrWFlZQ0JCMM9hYWGMjIz8/PwxMTF/MNFYD09KSlJUVARhAmEB4w7snJ6trS2YsAAewaY2oMfu3r0bdH4gtpSVlSEfF08w98zMzD179iAf13PFOj/gFOAN8IK1tTWI0c/PD1OBmT4ZGBERAd5OkxeYOhUWFmIh5Obm6urqgnlZY2MjQpv10PAF4Y9KKJhs//LlSyAXTO+egF7U2dn5v//97+LFi8hUzwQd+9ixY0VFRe8LCH8lfkUWwFIFJBQwjUJ+df/lV5Ro5x7dHD3QQMNnhD9KKNhoXFJSsnDhQmyigbkAivnmm29OnDiBTBFKQkLC9B7HPGbg/dM6v3s1B/PW3NyMrcL+ugmCuZwSmunhnWcaj9DwReKPEgo2qre1ta1fvx7bWwFdZWRk5MqVK0BmcXZ2xvyMj4+DOQgQUjCLIX93rmmggYY/BfNDKIBBeHl57ezssLE3NDS0tLR0xYoV2PE8BFUbff36NfKR9QIgwnR/HF1dXX+lsga2EPOXRUcDDV8S/iihTEvvUlJS6urq4KG6uhoQCngAhGJgYAAYpLOzE1M8+9jxmfLyciUlJUVFxS1btijOBnAHIWMncWaSEXaW9wsAbUWWhi8J87BtjIkPGhoa/Pz8Y2NjERERgCCAy5o1awBBIOjGLaadQZvs0EDDl415IBTsuC0QRjg4OACVXL16FXMXFBTU19evqqqKjIycmJiYLzbBhvSKigo9PT1DQ0O9zxZGRkbgb1ZWFvJbC8A00PC5YB4IBdteNTc3/+mnn3x9fYEwgq1B6OjoCAkJAYGlpaUF+Yh4Ms0OysrKSii2zAD4qaKiIiMjM3PKg4UDYomOjo6NjY3+bIElvr29HaHJbjR8KZg3QrGzs6OjowOdBJnq+fv27fu///u/pKQk5Le2ikEIHR8H6HK0E3Q00PBZYN4IZefOnVJSUsiMwdbJyQkIF8iUqtv8phvTjvsCQJNNaPiSMA+EgskjqampYGozs3vk5eXl5uYiNNVyGmj41+AzNl9AAw00/NMwb4RCJpPfN4b4D9m8mGn4/jdtGo2Njf3mQikW4LRFe+zOQGSGtWraRIaGfydoEspbYIyTnp5uZWWFfLpxRpp+LQ00/CsI5fXr14GBgZjRtvr6+hs3bnxQSJmL1XtMM7iqqur27dvV1dUjIyNPnz4NDg7GNrMSExMfPXoUGho6NDSE0DaDafj34UsmFGzClZKSAnq4qqoqdrAI9Hk6Orq6ujpkRofHNlywaRGQUKytrcEDHo9/fyMGIx0vL69Tp04xMjIGBAQkJycDthIQEHBzc4uIiIiPj1dWVnZ3d0doNwfS8O/DF0somCjR3d0Nejv4qa6uPm02SVtbG9O1+yCKioo+ZvUeY5OEhISsrCwgnvz000/AM4LqCoPnAwcOYN5cXFy2bduGvHdlDw00fPH4YgkFw9jY2OjoaFNT05o1a7ClVgAgPkzfCoagax/Z2dlgpgNkE/DXx8dHQ0MjMzMTiDbY37a2NmTGMcje3l7wd9euXSYmJggqB1VWVi5atAiz/wii4+PjO3LkCPBMuyKDhn8bvnBCwRZKgcjAysqKoKQAqARQBg6HQ6amPOB5586dgB22bt1qamqqqKjIwsICRAzgYmZmpqmpian/zlxzBc/s7OyY+SiA4OBgCQkJ7Lmrq2vJkiWAiRDaCR0a/n34wgkFkxF0dXVtbW0xl5CQEOx60I+tmIK5jKOj468HC+YyQOTBzvUBqKqqYtcAAly4cEFMTAw8REdH085Y0/Bvw7+CUIyNjYG4gc1Nbt26hV2vMbOfz93qPfZVeHg4GxsbtogLXFavXo1dsgMgIiJy8OBBIKGEhobSzJ3Q8G/DF04o02ZiwXTm8OHDvr6+v3JF+Vys3mN+zp8/b21tjYUDWENBQQEjKYBnz54Bgcjb25u2c0zDvxBfOKF8EuZu9Z4GGmj4IP4thEKdwq/7AX9bW1uxi5B/ZUn1naBmzmvmEhENNHyp+LcQCg000PAXgEYo72L66j8aaKDhU0EjFBpooGHeQCMUGmigYd5AIxQaaKBh3kAjFBpooGHeMHdCoVKgUTa4G/qbl5PPfPd3Z5AGGmj46/ABQqGSySR0mwNQCJFEpgIHaCtkIibw4tX7SUQikUwkkijUSb/AB2YPEeUOCnw3yTsUMnDF/qD36QBvRBKNYGig4QvGXCQUKraJ6rZd1+TIs1kv3vFH/ZV3f3dGaaCBhj8fswiFQoTUUeHtYeXoO4Eg+U8uaO461o8gfWVRO3ceO+tuu5KFW05ZQkBA0uFxMfyA2OmlocTPyycsZRJaPIAgI/ePGeuYbRcx86gmIem+9kL8/AJCEl4P8oHfjvT7O/QditFzeRTaVIgGGr5EzCYUEjwON5jsuZrdpKybEOHMTvcVz5NWpMhLW9DaN+SMwX9+EQt+VR5xcedCDrkWhBqhJblezqVheDjliNlS/j3lQ8MnxOiW80vHlPfmhx1k5tDOaBpqSDrDslwmoXFisDLayf5ExTBCIxQaaPhSMXvKQ6WgixxNqvwaj5JfXTNYsnq5ROCjfG9pvluvKryct+sfCAWvB0vDVblkWsn9SgLLpc0O3XsYGQgo5muRkJTiyyb8V16PgYCuqnIskLEICA17cOfykgXfOIcX/d05pYEGGv50vLOGQiUT4QLq/d2CkhtlzRUvxwedMxAWY+XR6x4fvmBvabT/PpVKbXkVJMe7uQXftVl01SZtI0sLi90AB68U1VZ7awlEdyBUKs6Ng4NFWsva0txil43tbtf48t6/O6c00EDDn453F2WBjAL+die50dHRsboWIJ0xbP+lW6AVCBxP79mq7wQllNbsIGlWiWYqwVVg7caT8cAF/zJQRce9srX1qgb34xZISUlO8mxyp2CIhNgd6pppLcTxrsKwu1EdYwjNSAgNNHypeG+Xhwq3fKlDxUrc7Gczu6mUTh1Zlr23MwAFXHC0MT/yBHjpznu0XVS+jIpMVLxQXruehZ19zTKePX6vcISe6zqisV0wGCK++pDGcnoWdubVC/X3eg3iqY1xV8T41LMHYBxkCo1RaKDhC8THt42npIhpaWKWlY/pR8JQU9ObAdykLSLqLKYgtr9p7OjFTb+CBhP/7gzTQAMNfx7+kOr9rKnLO9OYX1NKoYEGGr5MzMNZHprqPQ000ICBdjiQBhpomDfQCIUGGmiYN9AIhQYaaJg30AiFBhpomDfQCIUGGmiYN9AIhQYaaJg30AiFBhpomDfMD6GQp4DdoYddbYOB+lbjlvqOCw000PCF4d8ooVApf9QeC5X6sTMEVNrpAhr+zfhDhILJI01NTZs2beLg4Ni4ceO5c+eAS2FhoZ6eHicnJx8fX2hoKOb5wYMHPDw8GzZsiI2N/evyR+vdNNDwF+KPSigkEgnQytOnT+no6CIjI8fHxymozeqampqvvvrKw8MDj8cTidAQXF9fn5OTU3JyMoFAmHm7+PvA5kQ54VcD7uehv5GSB0HevtHYKcOOgsdXzkcMIVQSiUgE/wgE1ITLQOBFz7jiRuCbRMBDZ/wEnkCijreG+fqlFfUSCCTokQqt0nXUVPUM4SjQQh0GaHQbi5oMPiaCILvCb91Mr+pAUEvd4G9/ZfL5M0cOuLl7ergfcHHzj0waQ814k4jgPzQEaD2TShwbqKjsJpNxT26dv/+yAHxMmBgnEAnQBzT3jX4CPRMJ8A+RRnc0fGH4o4SCXQNcWlq6YMGCu3fvTru8fv36u+++O3nyJHjGCCUtLe3hw4fIlFwzCSo8gjwD6DUdaB9+4b5xBf3eAcgnQ2brFtLRMRZB85FIuBE/I5vb6CxGAl8N+V10iC2oeJepxjPUhaSuxUz1XNQg3SGOtQE5fSAhMz2iVhumXaj6UtLuYa+hOxEP/jY/2ffTEjZtByeXAwe3btVf9z2dTUA2Mnt2A38NpaxYZTmGIM9uudxNSHu3sD4+U6KBhi8Df5RQMHZobW1lYGDA6AO4TExMXLhwAcgs+/fvR1CJA0gl58+f7+3tndOiLOphsDyck00waxxB2qPZJCQ4BBc6xPcgyKieIIPDQyC5jASd3qOqpGxi5V4zBLyPPgwOf1UDDWUHu5tpqGlv27nLyfXh0GCtnaGUmKqxsZ6awc6D7QiSHniaeckiYVWzKjLSHXvXXFNNVcP4bHQFFnNBpKu2ps42C2MWenG/uFqYHRK0zPAmxoFLM3A6gSme3Cvkr4KHeF8PXVVlFS2js7dKEaTHfa/Gop8XO3tej45PSMh+gx8o23/A9tARY1VVTcsrz/rhpyP3Lh3U0tA0d7ty++yVNwS0wGgsQ8OXgvkhlOHhYR4eHnt7e8zxwYMHBQUFy5cvt7S0xFzCwsKAhILMFE9Q1sC1lcXFPouOiQWIiY6Oe5E5iG4TwX9DZcYL15ytQLqum6nYn7t9fY+QcTiC5HKtlXpS1vH0ghmfhGVS8stDmvwbVLzBjEqOXeTUo/xEL0n6NbKhTyNMF/2Pjm5L2+iAg8zPK4XVw6MeGkpw6Do9bSlJE1n6s9GZwMaUKNmfOW0Dnr8M8GBeJHShkEp8fZB1AcORm+GXHRS/pvvpdmo7TDARdvrmmCOM620yyyqryssK0p7q8Syzf1Q1Gn2HeamoZ+zLRK+D3D/LRHWOZYW4/rSILyop3lJN0fxkHLH1AWBV7t2nnoae/O+SNSFlXQm+dkvYxO9EPrHREFiwgiUP2q+bnAvRQMMXgD9KKNQps0uSkpLa2trgoa6uDsx9gOPKlSsNDAwAgwwODt64cQOZbeiAis4v2rOCpSWERQBERUWERWQ3u7XC6RE29xg7Zyq37eJr/53Kh2+8qMt/yCdhVJnuIahoXlJfY8y+RN4jsqWp/mnAAbqfOOrG+y22aF8MeWghwHY9B17VQa54yM5p3t5bvF1V8fQTaNE25fZhbhk38ODIyxpe0RNz2exnbpWEsuY3ZS8MuZg0Dkff2iWtvu8emrpWLfHNFx+XIVMSSvuLc8sWLmXlAuDmZKX/mu67iLoxZKjjRXxiZklptPch/uW8QQ2AWRPXMZuAOdJhE/39N9JHGiKYOHUaYYDkfaI8/nHxh9Tkd3pWgt/DFc/UecVfj8NXNEKh4YvBPGwbY0skampqAgICYLLz9OlTIJ4Al9WrVyspKYGHixcv9vSA2co7llPg80R/y6vM3JzcXPAvJz/nVU7NOMol2CwgOeiCOK8Sj6R5YFYf0lfmKi6yZbOw1cmb3a1Fiv9ZwC2nICEhvklJS9/ibDepc+tmrTP+t7eKSiYPIvhxAtKfwMFr3tqVv11D68zjHgqZ8vSGi4iSJ5VCteJlDsoou3vFYgUzi6qclKSMrKqG4Z2UVy7qMm6hqVTiBBlpM5ZTO/8I3j00OeWJdmDdcmF8MuX9B4WZbIJLOkoiRPnZxMTFFeRkeEU2hNeRKe1P6RkN+8nD+410Hb1TB+siWLnN+6DJy95d4sI3wkL2Gkl5ZVMIExOjrSW2nCLpNEKh4cvCPBAKHg+XLYEwAobv6urqS5cuYe58fHx6enoNDQ1gBjQ2Nvbujcjo3Kc55ZbCZiV1TS0tTS11HSUVLdfGCfgWW1fA1cSJ0tH9uNm+CnY8gu9xBTq6/116XI4Q+mwYV+++B+UOUoWXnd01BBk0lFP3iog5ILrU0A0upsacsFy81Kh7sMRMTfXMI7hfE33jkIiyJ3jYxsIUVNKXeXXnClFTdOeI6mW7727hULSTKPOGI3AW0ha/YR27d1w98nYNxZFd/gIO5IEEb2H1M2LdGZh+yVmVxcgDBlAauoGH9zGYIbU9WsWsN4KQXY11nK6nDtVFsnJv74Y++iyE+ULTctyMBeV2BoLfWb6669iFi2mEQsOXhXkgFAIBdjkzM7OFCxcGBAS0t7djGz2ampri4uKRkZGNjVDq/+BWMWl8pLe/px9ioL+vt39gANtKxfZDqPg35hyL5Pf6kYA4Q0UKbx+g+0bwQTX0Uhx9lH/lYknJjfQ/fL3rfAIV6VEVUToXVdVbFabMzSUtKybBTLdopWlHb5mhjrp7TCcIM+rqAW5Z2P+vaa1kEJTNq28+KC26il9iIxfzL/zm6S0kpO+lAeMybjE5DRWe/3zL6xODLsqiayhNT5zWbjmLQ7MB0hV1UGm95LmcdD/utUs2bpTcoK7DzbxIzTUAP1LMRPe9ua2z9TZzuwspAzUPVq83Rwll0I6d3ju5oas6XmEjj4SM9Ib1dMv5xIpohELDl4V5IxRbW1tMFQWZ4o69e/d+9dVXcXFxCKqu8rvCpgz2dvYNjk3+wA03t/WMUScXbTsbixLiXxRWoh0WIfZ09Q6N4fKTImLTM6praooTTqxnO95HIvb19w3hYXrGRwY7u+HOM3G4pbioGG4NjXXlpia+zMzvJU7lZbgxPSmxsLq+rWtoBAclL2zxmDQ+1N47PN3xwc+21gHABc0VeQlJyTXdI0MdtRW1b0A0nXVVldUNvf2DA8N4CmmsvX0AvRmaMtTRPjyOK32VGBGfU1VTkxN+UWy9eOEEVEyhEQoNXwzmjVB27tzJz8+PoGyCzW4cHBw2bNiA7RN/dKt4Ug8FesD+P8dIZ6/GvJV9Il05uUUk/G57CfLzW99M+fUwZv5AJaI/u2dTn1yzZt6g5B3sp7ece+uu5zBeEuUPB0sDDf8UzAOhYBOcmJiY6urqme6pqalJSUnTHn4fZnPRez9mvJ56ouQlPHB1dn74suK9b6YeqbMeqO/4eMfpQ1FPh0Cdjdkukx4nv5hUN6FWpjw85rr/1vOCP17yNNDwT8OXdjhwZrcnU/5xg/8sQqTJJjR8cZg3Qpm2XTDT5Y/IJr8XVDIZHvAhkf+Z3ZVKIcPDPCTaygkNXyK+NAmFBhpo+Bsxz4QCRBL0GC2RRJo+yUv8PCwqofafPjGlf9HlqnAT/R9chNTfmz7sPOh8pWEei+hjoVHnv8J/T4iTBn1mH6ydwwm5OdUStj3yu/PzF0konwen0PBZYtY6/Sd//N7q+1xe/XlZ+Nwxn4QCiM3Dw0NVVVVSUnLHjh0ODg7W1tba2tr5+fnInCsbBIKuxpAhcaNSA2VK1Y2MLougThTUnTrpjnoHv6iTn75dzaGiPoHDtPSBBT1TGMG2ZMZ6qgO9A4o6RicjRYOZjACNbZreJwMHfD/SkZmZ2zFEmAx/OsapD2bmi0qZYSZzKpEzszY9XKMhzHgx0Zebmd7UA1VWyKj1mamszwz8bc6pk4kkUz7kdVbxzgwBSwP6D/vkrTUJNEHItKFPLGSs1EnQHkRPdUFafj0J+3ay5CdTNKPYJ/M+XeoUKinv+YPgiAwC8AtEWuwddUbCkUmx8W2ZUSjvCTVoeKSxN3W17X0TyIytf+qUMgFsGNTJUD8sDRDwwyMTWNF/NDT0y/6SpJjMKjR509mdWWYz8j0V09uqIU/Z5pguZwqVgOtMiHg++AmWLaCvssTI3OaRwbaKxOfP41+8eBH3/HlCWnMf8d22QKVOUxWVPF6Wm1raNAjek0jk6QY3s21Cmz1kSmd1QUpyHun3GtuYN0LB+KKzs1NRUVFYWLipqamlpaW1tfX69es///xzTk7OtJ8P2kCZGcgHC3ESs1d5fy3H1LdN6q3/WSu1k6lB7TMh1w5qLRfeVjZAmqXg8u7KLnZggOgpLRrTiiCDkVIc2gnlM1JPfc/GyhxKbtYn01Q4FRlCznJSVwx+2k+ZmfVZlf3+DveHI3j39MO8jItU6gv9LZyHHsxM2ux++140WCl1vVi6jOHwvcxZ2Z/54+PL6tMkBf6OvclUkeJk5+Bg5uLxTYOnJeC8G35Kctt1+NzD2ne+nZE2KpFAHO7rvbhLa+vRW6gWI4JrylCWnAotvQHB9gqpFCIYL6hdqpt5r8YV/0pRzNaOor6TIeS9DFGIvacdlc3vlMHEkKYZ8CMdBC23icbH63g3tBEpIfZ6Pyxcwqyqqi4tI7KefuESycfFfbNJAOqUtz7cu+fCfZAzn12Sbhdr3k/yO62U3JyoaqIfkj+CNv9PbiLzTCgjIyPLli0DJDLtPjw8zMrKqqamNsdwBpvybnlfvHjNP69xiDTU/iI+7Q3KvKP9b16kJIFRY6Q449bVKzcDo2oGoZG0/uayV7VVCUGhBTUEQnuu//VLl6/dySxvxEIbelMSePP67fjM/NSMtiGogFeTl+R95dKdsNgBAlqjFCpoKm11qZuFhRRM3duG8Aix70XwzTNnL4dn18H6626qKM99+uTJnUxYGYD1y9Ifii1ZaHU5urslQUFRzeVySMBNr4cvstDwkJGO4tveV7z979d146YKBpZMR3l2QvErf2/v4NjMptaK+37eASHRDaMoceA6wvy9z1649rIAJrut7FVeYTfaDckt6blFjc3lpQX1qDJvWdT9yxeu3IvPhyr7b4cfhNRfe9fv6sVL1xNfN6IqyZSGwpfXzp+9cut+N3o2arpd9Dfk+l27eAkUb+3AzIbd2VCcnl8cE+x9zS+kCRYUpbK4uKqpD+aou+l1bjGBMpGTkZKZ+vD6NZ+kvPLm4qTrXtfvxWSCZKUc3SRl6XE/7O7lq3559R1YiI2F8d6XLt9+kDAABztyZUleRk7Sg/t3S1BRCyH23L9qu3SV1JO86sHWqqLS/Ef37j+tG0dIHU9Dr587d+VpKlQjovY3pqUmRdwLuH4rpLi2LS0h/Or1m0l5XVjNwQ5Ixbltk1undhzQQfr1PWys0lV42E1JFGpL1UtZPjZZA5eOUfJYR0XAtQvnrgWUvhmcaq/wz0B94j4t1f/8h073TCBqmmbk2FZZBnU38Jx2bTcbmwwMjQqXBMHLgkBTnh2OLeNIZ21O3POYgBtewU9ymlrrA32u+ITGdw2hfD/ekxDsd+XSjdiS9sk+3VXxwN/r0uWbca9KQJzjbWVpxVXpT/wvX/PPrYd+auMvyyrLl8Jk//rOH7q0QR27tGudwrUM8Nt3q6y4yWXC5FuCkQSTwokn4KmpMMH7ygUv3+CKdhKC77qzQ5BBQiemsrmp8nVpOx4ZqAEJyIq+c+mq36vqZvRbcknKQ+9rNyPi4xOTK0GA4YeUNY+cRVXSP3kvct4IBRtaa2pq6OjooqKiwM/R0VHgkpCQAFwePHiATJEOEdff093Vg6K7q6u3r4eATBlVevNSgHnB5q3Wu4y3rJcxKS2IF/qB2elxB3gZc3X7Qs6dnUUpSgsZN2231BfmXy/vUolHKvxN6RiX8G6wigi4pb3+J3GtHbu2ibKJyGS2UgndmfIb1m7UMVfXUviWji6kYrg8K4iBi93Q0mqTKLO80+UBCkJGhZbSDH+W1UsZeJSLO9uvGSst5FGytjZZ/C2bS0LzeGGg2AK67zgkLO4Xos2QEnv18PIfv5fYdrCuqVqfk+7HdXxWVvos61gvP2snDr42FOaW1bU0VmQT3GBX20uC4iTaHMPM6Om+Z9c1M1nFwbZGUM542zZe5lWyJ0IRyrCjAQ/DRk1ra72VzDz3Xjc9O62ziGvHBIgLVyG3eMnJRw8NFWROveiruXFo7Q/cllZW/ItYtC8mEaeX2XD16mLLeZVMQKmtYt0Q1zAw8iZFWYBNz3aPrvgqXhXzvmlDlg0v+Jh+2rLNepeRIoOodtUwTBh2uvvhEVm65et2WFlu4V28QcebjExYKMibu0eDdyUPT4hzKHTiG9f/TEfHxW9mrMrBsmqD9KZtJqoMq7/xyR2tCdD6L3izZbu5lvA6dqmctuGmLD8xJg4TKysZ5hUaO8JAnTsb89PR/VdSxzTpDZxUIhP1Dmabvvtu6eHAF8UhNqv/R7dG0vRKTsnd3TyM7CrW1kasi1d7RlUSygJ/pKOj36iuJSLMvIJTVEN/q6rU+sXaKV1EIG1CiiWWbJfa7BnUBidH1RnbeAR8UImETKUUvvRlWrWcVVDvdXGaziZGcZ0dO3QlVwkppzUOTzU3ZLSzPj8754C+tMmBqzA0fME2yc0ng9thaFXppryCN+GYQh1DY9qhs2nXpafgyc+CiY7uK23z7Vx0K7k5pJS2W0osWqfjEk3CD91U2sTAr2JlqbNsocjpnCFkrMSM4xeejSY7d6uxc6y5XzzRE72PbskibQNjUyVuZl6T0j5QFIXGurJHH0PuxoSUiZHhns6ObqyH9HR1dfWj8hFahROF6xn5EurhWHXHfPN6rdOjGG0N1JlyszmGvK7Pu0u/eqGRtbWxkhC3+v5RXM1xidU/rxS8Ep/qYrzB0KsZyfX4z5IFKjoGZuqCDOzaJT3jpQ9NGH9etW2H+XrQUelUW0BwVZdZ5ayy2knIp4ux8yyhACphZGQcHBzEHIuLizk4OM6ePYsxDibD18RcYGdhZmFhAZILCzOzmMxhzHYr+DPSXnIr5BHkl57Xa1Ysim7svuGgKbfjGnh9jIvdPaLJ32oDkxY8MYwMZ0os5Tj2pP3Nk0P0K60bwdc9WQF+T+Cxn/Y7gvwcwXnk0tsWy9a7Qs+44k1sLFGlFQfVxBRs70OH1/e4fmJ82Aw+I4+jY/pRU/0Dt/OQnjj6hfyJ6OGhvIs7lkl4NhU+2CIo/LiiF8sCKgNO7OJiCgHC9XCylIjEzVR4Kshrt4GG8+Mcb8MFkodQ4fmN8LqVB8KgOiwFPcf0yE5Qfz+0gBm4R1Fc3R08lIcd3KxoWVN2bxWTaiUaY6itxEbnW32NaUK8zLc6EHKG5y/r7PGjxVvV9P0epWgxLdn1AEpJXeEHf1ikW4IKaDA54y3+t4NQwaBPkmPxsZjClrRby39giwVJpnRFhN+b7kBDrYW3QiNhajqz6VctDC4ZQPse/PKRi76gJDQwjtSGrlimO4iMHzQx3Hc5AThUPL2oJmPcjW/cwMbjlgwlYXMZEVMvOEh679fderW25qbmIgUL2CEQwm4xjkO+j9w0+TYcfgF+j1Xc/fZH1pLBcXcrERnj02OTTQXWNaUukpnNGJRVjb+liJxBKx7BZVwVWMufgOYk1XuHyMa9NWX3efnVy0AKW8I42VaEQAM1LdbCjGdygYhGhe1kuMhIe/PxyBY4+NcmWqgJBVbBsMdQqtxvqHsirKwu9uAyEUesXxzcvErvRhaCSprTM9qHTnpWDpdgaIN5htqbTzxGQ6tJMFcTCoKhkeFRMErNdmnjkwF1VITkbbtZwQ4OkPF7mVdIHoRldt5Ezvp0cda91QuYotCzZfctpVfI3CAR3oT6hrYAmYySoyO9zClsCJd5kn6J8RvopWLDOulbmYBR8Ie0TXZ5xAMn0gRsOzWRblKsTCysnGxs7Gyghyi71EDxBza9idoQHga74g7ILeE2OnTfLeMRlxARFedjXU63QKWwj9JVnRb05CV4250d8vOypfkI0nxmq6LtTThPt1Dcc6OdWuq1bqF2OXqEfjOXgldE7E6R5a7hUFRpDvVgXq9XTwYlWyjFrPXgdReCfPI693wuyoK4t2/fDhjE39/f09Nz8+bNOjo6RUVFCDqtnU7ZWF9LVmbWJF5l5eY1EqdaPLm38Jg+H9P69dIqUouXLw1tIHU9OU6vYPmiPJWfhbMRP+poIbmakYmfg5Obj5uNaeP1hObCh7v51AFHUCY6qp01N7EwM7IyrFrApPSsqve+vcC2m7VUPA4U/2Vh0ZD0nDPmMvTreHg4OTnZOUUkNJIgD1EnSIAphhwM9RyvJvdX3mcTsSEgZBxuYrTuvpCYbcpjn6O21m9gFggUOLkFDx1mXOv9CnDk3mdSstsfF0A1usv7d5sd87lqoLhwPSsnBxsHjyAjM/fZaLi+QkEllFATwavpDUBa8bFUtnMPopKIeXfdDIzs77ttU7K7TaAQcDhCS6g5o4HrGHn4sLrCrquvn26XMzmagZCL9VX1r90KExZby83JCWiYR5hnvah14QDaLaFI3u5nL8PCyCghL7Vy9UKXsFcgyhA3U4aVq9Yzc7reTsZTsUPSCKk7z1V3sniXrVkdVNgzRSjkkGM6invSEDJhuOYJM8fWIQTnbGTkcCmBRCLXxHupSeh3TNSJsSmmt5CIpN5tqvqnQguIRIrvcU9rt5ry62qbTj4hkSfASO5vrnzQ84TWKvoV3DwcLMwcvEL0XGqFg337DfSd/dLhKhaRhBIKtbvgLiOL4QCJnOdmcPhqEHDJu3V0u6ZNH0LC4fC1L2/rKm7Lz/Hhl3ZpJlLIzY/NDzkldyHEwcK9Kjw+hXBSBjvFeJGZusrp8A6orVCfbqkg4osSyjiUYPr3aOm6+sWF7pQ09i5CYAEjicfEeJxCkMmVFCqRABcjb9lqmDmicwdc3jY1lTOPYGiE+jQQmh88TEJGmStDW1nLKwGQ88RFO1X94/lkAjHnzjbN65kUIiH3srHRwYvpL3y+WbJYiJeTlYWVR5BDxswHTxm7ZKXLxsrEtn7t4hU8Z5IH+xIcWWR9iAiJSKnaJKoalNkBhlJXC31Lzyi0qcCuMNHbkJcN+wZAFugqxfXjUNKFrwbSTrDJHW1CjSsHWSrxye9JKyzILygoTLrPz7j2XEItvinBQpaHkYFJRmnDckaOLDK54pqB8t4LeNKwu7n8zhud5MJjjOIXhhAykdKoKa9/5U6Aocim1wRkDDdB7oln5zSoIQLZuFJKWDE0u/XvJ5SVK1c6OztDq+4EQmNj46JFi4DMAtwxI0zY0FSXcFNZSdvQyMjI0EjXRMtg27muKQPR8ed0GfjPwKbflSjFuDoUsCW5aquErqwEu8Sxx6BqnZU5ZJx9YGQjDb7nruV3IhX3d/Bo+IOunrtfdZGaUycIqfWZlKj+8xoky2sLozJqnGU8ZxMzU0T+633yEttcU4ADvrPs6hXvyj5I/HhI96P7TQ2dvdNwzY/XrVDG1vHyL5mtkb1aFh9wzMa6CSSPSpraoW83ZGcLawQj/nM5GeNHcLRErjhabfeMeLFLmU/XG/26+d6Vi5motVtMQrlvKnotEa4LXLdW2Xn0FshxXugxTR3HvMQL9GKm2InpZzbSIrtggjP9XTREOFfxmsU0jFNJ+UbqBj6h0ZvYl55+BT0O5saeuvp4GCYb/mt46rR8pXUzHFWbDARYLrwoaqtOD3sBhaPO7KAfFy95AqVY2CyiT2oxCl8AD8SOuI1M9BFN49OEEuaurWgXBx5Hqh6zcprikDEbLfXdV+GK6asrNmKbtvWN123kVoqrA0PogLmq1vHA1yDMW0fcdh2qqbqtu1rvACp9jDtIcRy9dt+Fk8PEpxSG2/3yyplAMqAnYyPnq0lUdDMJawa9xffZOE0GESTHY6vblVugBusjTogxbSpAzVjFeW1fJePUXO7PL+HQQKBSm59bHTmc0kNFhopslfh9ighwJIDBtOySkzY6DtPZk+YntoonFZo1J03AghnYra3t+bAiP2g7o+ZZrImeklur4/dWQiGhxjICHfSsDlyFsgG1yVpGytgNeuhOvblhNS8aGmrAAl9iIKrmdvcNaMtX96rqHc4EX2bf3q1/IwM8vL681cDFK/uF7yp6nhxU4M276+OT0t4fdmSZoEoq+E0o27pJ4XQcYeLVftbNF3Aw8kp5EdWQrE4KQnQ1MtvtgR7Kx8Ooql/4Gehu0TY0MTbaaqynoLHjzBsoocCKGi3wZlm3u6Ab5vy21Rbpbd7Tve/gZmHfmBRvG5WNeo9gaWRd42NkByJdxTkNmf2gyxBPWirY+HRSit1YZdx74ByqUVNW79ajh6asa84mwjlUWdhJenrdBjLg4jIZLt2HuZ1/M6H09vb++OOPYWFh2E8SiURPT4/ZqcaMMGHNeritMiU99RWKzIzUV7kluClCKQ11Yfiv2IlTJ52MBZd/RafnAMXmhKM6dHT/CyyAMnV9hDfTcr4dnqecVKUXMBmltyOFvnqLN0H7kvWBB35gF3E+ddJVV+XrrxdreCf3VsXK8K8zdnDbo/A13Vd0EQ0TaWFH6Tn4jp46ZbKFm03Lvm4cLu2hhDJktUXJBFZq9z5xTtYt1ic9nVYtYLVJbe19cs7GUAduHiBETEIBObDl+j8py9Ot9dF8G5QDUUI5aa0nYx463PRUfMWibYdOHbHgYmQUTatHN6FRCeWO0pqTMSXg4ZKOiIEdNHCd6+8oKajRjWvdvnGlmO5ezxN29KwsPslQrCf3vpJbSPetxkk4FI1kyIvLXYjvTHTdupBZ6dSpU3KrGIUs78C5BxWG3Pfaj+v/ePZ5nDpmo8z8PZ3c1qDC5Ourly9yOHnqxF7dFRLalSOTxVsYuJ/hGwmPUycdDPmX/YfO1BVa+UX3zcj+B+T5dsEFguGKez8uUGoHk6CzhivZhY4cP8xLR/ezmP4QrnzdzxueVIMW36smLLv3Jty2u3TAQWd/aV2oIph8y5ifOLKLj4VJvqiFWBi2i2UV9zFQzqL/FVA8NI7gLTZvsfCMQ7CVRzQx3Xn+P/ysBio100nRweMybNEjxU6SawUl93h62vMv+Mn9XhOx2HMB304wrCCNj7T27IoDLXz4tanY0nM5sDmNE6CYkRp58lsGHkcPzy18Pxsdv05EL1IhoIOEi47YOmG9grwnGzlXGDl4utmorxKUTm8eQSYFYkAVMCW+26V1d5zCzPGlRHh+y8Dr5Om5hfdnY7cbaGhEAizm8YP66gcuxkBWspSQOQSHpfRrOtJnEsFDzukt4pbHBgfaHUQF2LTtT3nar/i/9baR9aS8oDUsrNvcTp20NF76ww/8hyJy7tsslXWHCx/UEq7VEreyAKPWb1NQdAmErE9E093fWpOVkpKVlQ17SAboKqWj0B1dICWUSjBKvKyDljR8NAU5VNxGoAl4UKTkA7z0mw8HPfa0ZlyjfurkSWvl1T/S0bk/aO3PPPYfBk6X6CxXI0mDK+3knP3fixzshtmvFWWW9o6rzPLdzkG/6ajbXuEFdIuWajWBTlrvz8ZtltlE/NsIBTNAAGY669atGxgYwBIB+OWrr746efIkdgnpnAKa6H1+xcPR0TkwPjM7OsTPOwsORJ3Fj4JT+vCTXuqiQ1wcHVw9vXM7IZ13VGRGpKP9nTQQefuCs6NzQERSYvy9Cw9SBwb6c14meJ0/ExLpLc+02CcbLiokR9xydth34sKt9jEs5VhiCdkvU7NK28HzeHfF9RMHbGydL0cXIXBXsjQ/I20E9Ttt4aApM/Cit19Ld0d8SkY9avCkLDfrRQZcwWt6fdvV2f7A0QuvG9GPppQuG18+LmuDaxY1afGZr6Ek3V9f8DL2JQGugRSfPrJ/r/2BByml0yWamRCRWloHGZjQ8zIppRSukI3GXnC33+d45k7cMILMqOyJ3KCrBxwcL9+PLciIuHYmHszhCmJuH9i31+GgWwK6+jOZ7rGemMvuDo7OwQlZr57e9ffJRSaphlpXnBpTDFcviENNDx+mDsIe1Bnmc/bgEbegyIjI+DQCeSjqYWLrMPA9kfI8Ob8O2vCvLMtPqxwce/MyKOD+uROHHA6dzKjoQZM0mh553tHe3u1saDusJdKrl2nZZdMjHroQ1Vf3IDwd8lP+y4KyKiLqSugtvnHSZd8+Z79wqLtEai95mFIIu99oc1pubjvo9KS+7MRH5b1ktD6gqhL4LiMqwHHvnlM3QtGOCvOKbXc25iVcOHeufpjYXppy3Hmv/f7jqdU90wMbMrWF3JCVkJFTQZl0p6Q/9ne0mxEavK0Jdq2KgK2S5g6dE0h53ssXaKn2VqcllMNM9Ve9jM8qADVE7iy/6XZwn5OLXxJ22H08+fEtF0enS/5PMzOenA2Mrq4qePKqCt23HHgakVjfj9Rk3uKTEcnrp8xplwch+Zqt0fN5BRtS8vPE9FLyZMNEqmIe+8WXTPQ1hp496uB88Gl2QWLwrfsPmgAH3/e/ejW5rDgnNb12nNpTHJZahm79Dcc9SapsHehpb4iN8j975mLMvV3r6B1Bru8dVZOyO9xPekc74S8kFAw6OjrCwsLIlJXZlpYWMHAFBATAbt/R8bZg3up4TSotvX31W1HMViRBfn1TqzHpDLOIUkJjd5yLNfMPJhUjhNlff1i7enZ0v6UX884LyjtqMnNSdZ4dwlTDfi+m2To0M7Qp5nQrySfjd2tfU95VbZhzSLO1eOZ4Gnt2sfy2Ha9fr5QPh0ZFNfiILQYy/Nfiyj6e/rk0nnfQd9KGS+MaNFpKJJGngpndQaa1QdDyGa4PE+KTLsXN2XLQb5Qi6fr2NQpmB1s6qgy3iMi6pCE9SbLqoj7ZqKX3T9fBnwer9wgqjBQWFi5atEhUVBTwCGafrb29/euvv/bw8GhqavLz85vTAQEqrDpUDZGMPmDqi1CHb7qyUHfwhzSteTh5sBjae0W/Rf8jgsIgjrwIPr9Vf4u6sVNmAw5LLRY4vPBwdvWT36oyUtAYyJN3/VHfasFOA6qIgiYGYpyqbbQJoKuk8DsseZR3PpnUQCW/zRcZbUMwC6Spu+WRt9mcOjA9pS48WTjkqay/LbVJd/JkzrAj15j2I2nWtWqU94t3Mnlo+jA/pOmMT5/IgumkQncqlrbJbE/qY1LQA1ykmWFOJ3Uy1zP7xXRiSFj2ZwwqaJlM5hFLAwkrE+yk1WRpkN7N/iRI73AFGhgJW7jB8vzBHjJdd78SGqarN1iWEpNRRZql9TqrEU41nrcXRU6GNVlBlLfNFS1PAq4rMTKqE9tAnHOnq0yOyqwdBiERiG8HMBAxEa0MGNd0HyGjS0WkSQ1rGDMs0ukEwJIcbc+7dGSXyubN+87cA5JLX31+4stX43+Xpiw2l8nKyjIxMTE0NNTT0wsODkamiObOnTsHDx68ceMGDoebdqSBhs8Sf2Lr/Qf2i9+ZpC/cfMG0FjONymiYB8zrmebpIP/uVLzTSf5Q8PO2KEuYwsz1V8x8ASZ2zmcJ0EADDf9IfOESCg000PBX4vMmlHk0eEN5f9Vw3lNL+cD67lxy+Kemal5ioX7MMsDvD44m0n6W+LwJZd7w6a33TzDeNQuf1brP3LcwyZ9wU8rfnSsafgf+AYQy0/rDjJsopl5NG/uZur+HOmmgCLgPttYUV7aQpl5NhTe9xkSdGTz1nTgxSpi6fKMmIz4uu4I0GQB15grVZKpQz1Pub+N6m7xZCcD+zTT1ggy/KX7yLLGbhO6BokclKdPZpFJnMsj0A663Kb+kBv+B8D+w1DzTjgb1vYU2ylSOp/OCvQCPpOHOosLqscmfHyiuX68+4LO3NC2jvPvtZ1MV9zZW6ttcTZmAmhXRzBoZbilKyHyD/B69Khr+ZswboRCJRGxvGEH3kicmJma9ftf+5cd1w+behKjUVHNdXueQGQ7vLlB/WHdttskv8GOkMl58+TLn2/lQMfJDwj91tjYH+JP35K6pPdRVJxHI77ya9eHbx1GntQySOld731F+e1c7A9PnGj+2xzM0vafztZ/oJntk9gezfv0eG07vls94ddhmJcW2d29QmuVvts2fGbcNgb/k6o0buKPrcO/GNSupMOTk8xoXXsIjZ4SZdqzes3U61vpqN/+mxC5MpJlLBmn4p+CPEgo29+7o6PD19VVSUrp58yb4+eLFi0WLFmHasb+5v4Mb7CkpLyrMjXsQ/iQPPWfR/qaptQsql08M99TVNpKoxNqqiury9MhHjwtqmvvflEQ+jIjPKgcRpx2Wl9599mVqUtiDJzWdg1iA+MHW54/Dwp8kdI3AtLU21VfVlaYkxdf2o+e/UD9Dbbnhd4PCo1NR+0P4x8dNObilU+rbyPAEIDLa2vi6EtOEQwa6G0tq4WnBzoKUkKC7z9LhfcTU0Q4PG411fDrVLX2AUnJfRt8Piyis6cQSMNxZ++Re8N2IuB7MuBHKMl3ZoVxLVp6PhmffKKP1zyNCQx88q+6A+R3tbqrpbC98kVRRB38CgauzKVOah2PrQb/XCTcZ+LZn5afcD76f2zyIpZ/c3fQi4mHE05dvRiY1+jB1s7Y3jeWVr188jYxPLxjsbU+PDo+IzRoiEOFrYm9mfPjdkIe5NT0g/tKKop5hzJbAaG1ZdXtrc25+CQ4tm/rizAdhYcnZFajO2a/zO9RoA38SLkjzHvIh4AaKisp7MYYa6S4sKyaCoqjLDw+5Gx6b1gNkv6GavaJLNjrdbkJtEVW+TgkLe5CeX4vFMNCUFx5092F0BtT4RsiPDlur6N6CyuyzuIeGfzrmgVCAYOLn59fQ0GBlZaWoqAgcW1tb2dnZq6rgSXKstZPxuDEcbgwF8D82MUqaelX6zJ2Ojm7dZhlVGS46PuM23Mg+LVXTY1HgVeXTsxs55NsJLTwr6ehYGVW3SHJxMcnKSYGHNat+CCjC1QUZ/AC+FVVVl+VkFlDM7xzHD9foKPFzy6gobGBh03PsGBt3s5Kgo/uaf7PK09phbEQdrQ/ewvCTlIbWZoGVEtrHOkeHzm5Zv2DR8uP3EybQzt8W7vnTgk1RTWQqQjxpJStkdKEuMXDNT+vUtLT4lq1XPhIz0JkuzkP//SKG4Lj80Bt7FzLyqqrKr+YVDnzdQh5/Y6PIK6aupyq2jk1Ov2WcTEWH/RSPrQu/+0Zhj2cfrujgpmUcompaynws7Fsym3AlwZb/4WXgZlW996wNFRqIqZGnVy5exMyjExt1nu5ruv9JSGrKC9Hxa2YBmm0q283KwyWjoiTAvU56f8kwnD+hh2tHXbeJ0H39jaymkgDzqg3S4mpb1ATW0Ol7JgAyvLGDl5lFWktLdu0ygSeFZdb8q6ROPAJRjWf5CCzfcvPOdWZ2vV4EyY+5vJqNTVVVlY2D0S4gnoSuVSNQCiPiRkdw4+NYBY6MjEF9XCoVPVvXvZGf62ZuO7UpifUbNreXgyAD0dcslvDteFOWLLx0naSWlhzzem4T/+qiENlvv/+FX/NRLTkjynMxEzuIiJGd+fCjvImRUn2eNYr6OnKcC7lFXTtHkaHcEHMp+Xw4BNBuMPqc8IcIBWOEvr4+zOgJIJHo6Gjs1YEDB3p7e6f9FD/y4OLk5OLm5uHh5uTgVNA8A8+WoY219NnJVcwqWfB3w6a1q2KbWk9Ybd19Ohb8ronzUpHQ7SI0i7Oz7Y6Anc1Kll/dA7667qikf7G64Y7+T2KaDbBZj1oJMR+4nZjgb7+MayeahM4ti5acT665uk+SX9EZlUSoqKo74bLGahnzu9ALqUphxaob2V21L25oyJsOItCYAdpJOjSF+V3DSpHhym3rxe+8rNojxGYaAA9cEHIDli+WS+4gFz88IaLrjZBzVnzH/qgajqrB26Q2mF5obUpm/GppEDRYMx5482ITbmoSga/WXs8Cgii8qMnGbwbPliKEI0o8W488zAt3o19hUjw0afsaPVI/sVNN4/yz6sHS28vWyqbBwulRpl96r27o+VHd5cI7oFkE5I0+M6fJZWimYBx2vLEjZpslLW6Bp+QrVitELIEo1BVry64f3JR6kXeNQAJqkzDsoJqk7om84OPLOfaBRD901thi5t7+JomD23IM36rMyb7rOjwxWH/vOBODXN7YpBmj7pwQPSE2Tm5+Xl5efi5OdqkdyfVQmIJJHU2TYjGNyAZURzpiskndIQjU63F+vqNBZVeNpcTt7sBYezNEVwqcTWqJNuQ3C3uDUCsF17AdfQiNReVf2cUmbJ6W5PPLz2zw6nhSud/pkFYQdkecthK312sao3xmmLe7je/evbtixYppQ0pnzpwBRINMEcpQR23CiwQwFUpIgP/Ss+qnjzK+enhaQP4QNC6DrzFm50lrbTtuDgglBgRVn3hDVVS7g9Aowa6Q3IQnkgasNA3dA1+TiJQ7J0+ZH62qvqklffwhgUIYJyIBFltcroTF+totW8opJMDDzcPLtoTxTnrJcXNDW+8kyCZEAnrGaNSJhy/w9RvS2BjoKycVha7El5Y+vaIma9ACMkKF1pJAsp44b+Z09n+V4sfDp4gjt0nwbUmo7AEDNGA9TdEtoVlNL4OPi2lfwbVH861ax8PDxy8gyL92repeHxxp4tFJK8Y1y9m4hVz8EtBD8ejC7VChBgNbFpl4b7vq/rP3iJTxMTwS7Waxx/lSQuj+DZrhCDy9DtcliRQgF3SZKWmeuve6ITuAS8yOjFAI5GYzbu7Y8qZrJ/QW068XFxIQEOJlWcdt54Va20BNANnp6zlfT6aSiE+uu8rqngezhfbsEGnNR6k+rmaGBwYR4tgYsfypl66CaTe5kWc9T2ZtuaOhvENwFdIWycBh1TNSbS7NxcImICgkKMDKIixnVgSJDC6YEAebc5NBzSUmJCQkggpML+wZI1Mp6GSkNlBI2jqlBg9yWepvt07dNqshS5iBvYnYv01J/VJEIShnIjLoYqTl7BV/z1lsR2A5cThHTYidnUNAUFBQgIlJXM2xYWjA75DGwsWr2HnFz4bFwhMn48Xm2oqH70NiJtHubP18MA+EQiAQAGtYWFioqalh54wzMjJiYmKmLw8Hfyue+2hrm+7YAWZFVlutTHft8xtEJhftciPOCckdgKYtCNVanLzpba0HTQx2XoT9pDT4sISUYS++UZpH6WklDvQZa01tF2gghxp4ws3SsaouyJDe5Ci2PXF0C+9hn+jHZ7dziJwewBHG+lsCb1wrb2s6Zrnd7lwcdmoK1QLBuQittfXOR9PeKcZCfymrsSL2qoqCCbrkQ6Jgp8LqIjYwqmloCqtcBlJFwwYG8Vuv0CWS5iiOFQoJNcMpga5SW+8gg4/XfCefWNFPIIy/igm+8zSr+01JzMtcEoXanhe+dOlCn9fwvDw8FT9SqMrCmU1CYuzkFQ3OYbaFXY3FVV0CcyOchQ0CyRQqdtIOtdjes01Z6+rzuq7CuzwbbEbgMf1mAx6u2IZu333y3HqO3eMEfE/9/es+z4uhySU8JMoRJxMj+4sJIK5n3gcltTxBLjpz70jJRBbcd5XkN2hAY4y6bLFexgKM+yF7hUUUlbeJ6QK5AF8axCJgOzxaosgocsK/CFRofUGit/+9DliycLToKX1hb6VtZLnTesdOaws93R1HC5pwkKPBu7ZHwszGT4qG0AWnbC0RXbUtQiKHAD+OmEnL2ftAS5EIsVSFXfzko6p7e3gsHnchEykCy8W8I2tARJVZz26GxtSWZ6cXNI2RKY3Z1+gXiD6oICHD6VqGopjdEyJNQvl8MA+EghlPUlFRcXJyQtDtHi8vr4YG2ICnV2S7a3IeRUU9j4V49vRx/Mtc2FZRCSX97tFVXDaQhwhVyj///KRx+NEZg5W80t6+3tL/oftRUGNwvJp5seijMvDFoK7Ept1X04Hf64cd1fcWNz5Qp6Oj03D28XFXZFolkFJNaC8JZWNhdvEOvelu/guHdGpz1z5NVZOjcDsGEApmXqA42ILhO67TAbdPW/Axr9evm0BK7h2R5t0CR0MqtKKE8g7htORqOro1adD+PDFoj/oabg2/27d3iPKuNbo8gCDZAXvpftnwqjTPUlNQaqtLaKiPEDfDLv+U9toohpU/H/IOved3bDGbYGwDZroEoQ7nK/y0EPSm8WJf0YXLLQ8HBJw3ZVvI/ChrKO+OwQpFfwSe4p0mlP6dmwWEVPclRJxdyWKJGiJu1l78k3/FSHd8MMtyfluf0NsuFouXygXnDVAp0OIhKBxzxS3bTzwHT+Fn9jBLHgYPnVnXlnPfoQxkGDMtUTQ6GxBwTPSXRUd8i0CW+nNuQJPEjo+Bt65XN39YrDWMUL2d1Vml9UJDQ7cq8YpYenZTJy0PDnfWvXgc8Swm7vnz53HRTyOeJrcPwjkkusHVpsovG5Jcg1V11D5lOrr/BBQMgCjSrtjTrxU7dfv2CT25H0R35U8g8ft56KRtMrpHT9vIcyiYhYaGaEgxb3a5W5F+loGO0T3g3r3rezk5TF+3IcTKx7oyIk970HqjbR5/PpgHQsGMFdy7d09cXDwgIMDf3x9IKMgc9new120VWb5BqejJ/8E472tlA1RkrPmGh6OZ5a5zPtd9QqMmyAMB1x/W9IJYJp7ej0wqgpJEUW7K49weXO3jcx4XHWysTMxtojImr84oTQzdsc1om6VtbDG0spvw+NnzLPhqpgmRtPtHtxkamu0+mlE7CH72lGZEBUfChQnULBa2L9OW/+S6d+qkXSdqb5Cbo6G+4c4jPuXwC2TwTd7hQ07h6TXISIOLrYWxyfZzgbGoGgspL+q65VZDw61WPnGlb5VW8N2x129Uo3dXNGQF2JiBL3bfjYPr1i2vo29GV0yVGLYTSyl8HuK4zyU1J/VWUCoqzowm+ngXtMCVi+qo27u2GW+zdrpfgJosmlQrnYh7FPX8FWTF6tyXtx9kg4exzuIb4XDpZ6A2znWPmbHx9vMB6ZPzh7HOh+evp7fAyxJGO0u9bzyD2Sf0+J45aGJs7ORxvRPdovpVBVpoowCB9rd5NM+EYy6jTWne5x53TeoM4GN9TpoaGJjZuSc1wRFkqD7N1eXo3ToyQu64cGyfsbGJy/nb6LYOIfHc0e36ekbbdz5Ig6tC6b7HFTYcHsSGARqffD6YT8W23NzclJSUqqoq6hSmX2E2Y6buzHt7s98H8btnzO/roXxwbHv30rzfCPT9cGbf5zTrzXuKoO+H/ut6KL+Zx9lFNycV9XcMF31ctWO2WT3Kh+vv7a2NaFhAoOt/LsAtlNo69m5GKR8LDiG982a2T3xfxR5eQe90HGqzg0YnnxPm+V6e3wHUPA/WkqkkIhG7j5JEIsL/0KPKcB5CnBR7p+0qoSZz4LoIPOCMXs0+bSMHM28DQ8Au0HxrqehtnNi1i6iXt7aE3reiRJyevlPR2zIxozVTirMgdegNpRTsbnjiZAhUMpYcaPBm1mV/k7nDjDC9NVwEs0t8b90Rpg74n1E45KnPyVPX0L+TL/LkIhEsHMz8F0wbCTP8M315/XSOqNA+z9RloyAwLFdYykDZz/VqTLQ0quJCovPaJwuNMC1TUKdKgkSaKmciZnro3YioJMxCE/p3pDnnbmA89dPZloa/HfMpoZBnXZhKw78Ff5ZtCtpU5zPEP+AsDw2fP/4Mu0N/d55o+D2gEQoNNNAwb/jMCOUj1un+BMt8/0R8Ujapn1oon/QB5veT45gZwOz167mHNGef7xxo/HR7EHPI3kd9TJ23/rMxl9J4z8/7H33Qy/R59E/IyWdGKP8ofGi5958LuLr7F61xvl1+ntcwSX+l1SVov55MQa9SmCw3dJmdiNk0xSzxw70CCoX8IdNcf3ZC0asd5nKNBAW9JIA63Vap6LUMaLIn186nXaYs9U82bHgRwtu9grlmaH4IBbvKC7MdO31vAHbkffoOgT8WPpZR6hgBT367rTxt64M0NjHxB/Wz5zzqzdXwwpwG0k8ZM6kkwhiO9KFy/NBONQHfPzJE/Gj47yeOgsP1j6A6iu8PVu99ThodHsaTKBN4AmHq8pqPZpf6IQcKfqh/AP+2H1LG8eP4OewQU0iEweHhCdJvL9uAXjIyNDwyNjY6PDQyihsbGxkZwaEGnuZ0W9Jv+5hdE++JWxONdZ1Tz79LjPuwKP5uLnFjI+MfL7ff0mF4n6HfU7wgDzW29xNIc2WUf7qEMpUNVFwdiLdWVglPHkbe3qKEHhQqSHE3sC5CrwOf1tKmvh/GR+OYq6w9/YSOSMQX4TFhcVAhmDKjm79PK78Z68wzCr/itzPHX0nTEB64JJPez+W0SSpMKw/pit+h7ZRaih6ug96pSV7nMyo7PhAxpsyHjIZevnjmBrwsFd7jPBXae+GjWjSEqj1mdtmNlX77Nh86X4ZMXRKMpYg60fHo9Nla3OybXabIf/JhuMDcYEdu1/hUHsb91DXCalFV/xlxIm+TNxJy83Fy+SBloMHb0DobNyvzs8xYTanqjDYkWsiwsnHyikpIbhAW5OFkZVNxKOgmfrRe3tqvgn/7WnMt9FSlZWX1TA8XwCsLRyNvHjfR1zXS0dUzt79VjoeHP084KW/epG7mktQ8gSBTNqXQz1PPbbfzzYSJJ38gmb/V0KjU91I1DTQS0svHsaExdeAhxGh7zBs88t4FZrAQoM5iw+X9xvKyshomu56UQD1PQluRs7WB/CYF+7OBQ7CikcE3+Q6m2nKbFMwuPx1Ev81/dttQQ1FeWe90fC2C9F8y3BqaUP7BxLyP+bGH0tjYePr0aUdHx/7+/lu3bl25csXMzKyzszM5Ofn8+fN2dnYhISGfGvLY4MDwGKz+8eG+7kFUYZXQ8upFQlP7ZHcaHejuH4fDI7G3szj51cBUjY3296FDGIIb7BscHv9wlWF/J3D9A+iFoaTRzp5hyvs+Zj+BFHS0tAyMYXbdcM4GKio2dyZrnzjW1dE7g1dI3W2tXcOEWUFO2i0hDg6NTBoB6eoaxqPRon9IY0O9faPvRTqJ8f66xJSX+MlKJQ4NYgaNKAM9XUPYmeZJ43O4vlEy0vtEnE8/PAv6IRBA88LtZl1+OChrsoh6O9u6+qfThbb5oVMHj+0+XQp8dnQPvQ0NofZ2duMmJg2vQCUbGGIBL6N0VHFTU1FiXvEgmnRcW3vrIDxuiZA7M+V/XhpRP9l1B7q7h0YJMwLE9wxMILg8dga5xMbRqaxSahJeNo1Mlt/YUH//ZO4Q7CwCldKmIiSx/04eMlh1TJL/FREZ72oeIr4tqZG+nv7BqbrGLGaMdeUlx8bGPN8l9ousvdfzmNiYVxVjJHxna1vvKH5GehDcUE/f25rC1Jpbd7IxLTdyexIVablxEd+2e8hIkabJJqPTQdH37ly7cTunh1R62+b7JWK+UVHHdeXY1Q41E7E1G/Rq0I50sXVbUnqwMMk9nW3dA7/aDkkTQzhMuZg6NDSMiXz9Xd3DOOLMhkMcG+zsQc+kUyeObNOQt7oF3M8LrQ2uwSGz1EFhfaLaUoSAQ3JMwrJRUU+OWcgukzIaQkh7tfjWKO+Ninooy7vCxvsZ+O6Y3PrVWw5HRYUIrVhvF1lNqY8XXr7K+NTDx1ecVq4Sf9yE9MZ58PHtb/5wDt7FPFz0BSaVDx48ePXqFS8vr5KSUm1tbW9vr7GxMfgZFhbW09MTFxfHxMQ0l8UjdNoydumQ0VK2FXwinJw8gnY22xX4uRjX/Oz+uBoZK96x2+5J2cDTAxt+FtvEzcO1ehG3X0YnvjHrqt02ICqkuMr9IiXHwcWxSlx5u/0OSQEuegaevU9rEULeBmGjHPSW3WsWap4BsZWvgles+YVfnouNca3pnp3bNvFwMK3Ucjg7AE2AEOAJwtJbQhwGOS0TINUZrmZbrL06+vL2SK3g4OJiXsty+l5WSbLPyiULFi1leVba0Z/6QGbZWjZW1hU8Rs+aCZThqn0GUpzcHOvXLj/oGzdtVYTQUXRMh2edgAj7voCu4ZYThmJMbGwMq5k8A6DFgMqYE2JMDNw83Eu/+3GLSQCCtCmJ60YVwLN/D4+YOZzwb6p+sUX3HK49a+s+fXFxfnWVQMJEm4WOJBMrKxMLy9GwDJBsfEOKIgcbOw8v84ql/11rlNY0KQI8u3zwl5++X8G7MautP8jOiJ6Vi4uVWdD0SjsR1TGDxY73P+e8eim9vBQPEwPTtvPP4ZHfzlJ7Lm5GVlaGNSIHworRjKCnP4nFEgLayaU1d87bHAhrIuNyNMSFeECxrxJ2j808a6r243ffiW117BoZPi+9gQEkbw33tsuJeEhO6XvklrNx8zKuWPjf/27K7yFPdarxkF3qWZ3dVw/oLWFdJirOvX4th4lvKhkeDYMGYp4FHPhl4Q/LGTbnlOY5q6z8RVyJj5ttzTLtl28oyMSIn64aEygFetYthx7gEOQdi9shlnz7ItDbr0cqzYT42bi4WBgE9vjlgOwE7uZY/YuwNC83y5qlrr7PMS1DWFN9rzl5RZ7DER0ZjHNewWhTWfbU1lLlYVF7Z0crSvmjBlIsFjfhTelIX6y0sELQK8jCRDws0Cc2smqu92BgY01HVGUYObgY6dcrX0kl1gVLKBwqg0LmoPO2rSfv5g83PmFiXsPGz2lzwllskyQHz1rp7Y7tw0NnN4qg5cZj5pUMWu3rQBtWRVU9aS7WdSvtzkeWpPivWrbw56XMEekF/nuUAu/dUpJVD62FElKMr72Ihu0QxpbEVhfbbR6PoamMvoIASX6N4rpngksVoythRitO75FS3FtUnci4njUZHUFKb28X0b0a4rWLVXkXyrhjp03FNI7mgGp3ZuO49Qqa2vvNVax5sIfS2tr6+PFjEonEwcERHo6d6YD3HAsJCWHPWVlZjIyMb2Vy8Jc0GOl9wMBoq9n2bdvNTA31t918mEuBrQe8m3C3klwiYluLw4e7qn3LKF/YQ83zlV+t7IdMZClIKAdm9IVtXcmreHwQ9LTtMly7QzqKEg+rS1YiSJwty3rBvb2k8eMmG35hM20YJkacNhTcYoWbqORcJ5/WDEvpvJbYoWtR5SmX//c9p1/xwECG1/ffLr6Q3o2vvMAqoJJQg4o8gOIpLZs5F1s/roRNZ6Og/dUnt3axCCpdmYBXJp9au4Avt3fQc4eutlMIQu7Q+P6XHeFN4MMnFoosRjczHrqvXi1VDcKpitxmaQYPuKHjOjJQYsj4P9V9F/pIyAOnTcxqF2HDzLtGv0YprSjdiJPB9noemNnsZV3DuekcgrQIM8nez4Hz8JC9GlZOV2sKH6zn2jkyWq6warG0U+AwaeKqvSar2lEYcE4AwwrerOHhS5t4WUyv9CPkxDP6P6yUfNkGuwcRRj68Q4DFM7qw6sG55Suln3ZRkb589TUsqmczYYlDCqUGHNFdLGBaPwoy6L1gNUPUyHiQAg+bkTdsWc/OrVitFtcEOQHaiyEWifJqppSVn96xyfx6R723+Ncb9wPnusgre4/6N7UUKaxZHzeMRFttWbvRGbbVkjDWpeJ3Svui7OhZNp7qQ5AM351LfhB71TVNKLhLm9niWrtOWogvEdjdMI4k+uxiFlGDdmUpeJg6pN1ARu5gwCvAs9YcP+i7JoEcHRVi0w4sKb1ss3y9HjwT1ZclvZLPObIZzTIFmboO9YYRm7l/AZk8dlJehMn4LEhPc8SpX36WeVw7eEPv+wWCGo1kpCXBg2EhU1wLcTI9VOLYOGoSouL1TslvJfc+aM0M5KSjY+SXEGBe/pPckbrBZt2NSl7PKsFQQcWV6giIHr9fDONFRbmjUrwn7mWBgJ66GC9i3lo2gVTEXOJV3p2ddoN/w+58OO8ctFRRO+Sbjau/+5+v/7fnZhqxP4N+xTd8Jt6Abe4ab14v5wKljoIQ5qUb71aMVwVY/rBIIruD3J1xcfkClZpx3HlbQ1UbaPvmojJ/UkPVdnExG+9sUDlHxYX0XbIQzDIpNvmldASctGNdSCeqE4F0hXKLW+U0wcuzWh4cUrFwSEp5yMdv3gmnZpTmxIui/JpOh/Zq7PBDHcZvO2pJ6F4EPfa+FYPa1RRkDkc95mENBTNZEBkZuWrVqmnGAGxy48YNbEHK3t6eh4dnehcKXZMbT3ty28PdzR3CzcP9THRyA6xGdKbiZKy790oCeEoIOCapeRoWf8Fdrs0PkfFM1U3aQald4dsEb5UNw+PyWR5c2hcqXsUf1d8MOvBTC16PePB/JHCX2p6jt8FDZeQZ9U1mbaMVQqxb0t4AcYN6UU/quM+TV7HXhTY5wtQ0P+PgMKqFza9MQdEjoQC2fzKajpfHVdeaRuKqIhUZNBPLm/Zxs4dWjaLJx9nyckSV1V+2N99+IgYZSfru5wVqRua7du00UOFdwGj9uuq10QYWPlkNO2e3zDq44oPN6vH1aQe0NiagVi6tmJcslda22bXTcrv+j8sZnNxP6Ihp1qKl8/rJeW5ZNwTpkOCQD8vpAGkOddDZdcC7tvgRu7Dj2HCKNNe2eNh6h08YibPzq9vb21noKK39nuNZaYnWRsXgjCbYJzoeSstrRRVBDiXg4Wi1X4LvdkphyHl7RctrWC3E+zhuUPZEGx+cbZ8/fGTPuXzYoSbanLZK2frFbtfi5JJR271n724L5YVf8/mlQeV6IkooG3g1kssqLtqpml9qGK66I7eGR3izjv2Rq3lA9McVazLzFA0O2BsLrhPetMfG3nan9qpv2DzvP7cSEfDN7YKR47IF2VVSmnBvCUWVP7mz/aChtsN12HCrY6/pbNSAZzopBNQeXfc2RY1TEeXIRM0RrQ2JwzCMZH8r+R0BVzx0lrCL7LK1t9ttxL6E3uQElBoo6EkCbAnnphGrRTAYGNrkN2y6lViDZr3TbLPSqZBU7z1C20Kr0ST07ORmCcjrmewz6KpN1LW9AmuZ5bfa14wRBmuyb1y53QbbYqU2O7vRsXOmaibXo8vQWWCN/kbjy+Gw4RFgSfabSTC7h8Mjjs4mWrvPP4fhE8ZxQ+O92Zd4ZR0Ku6Adbhsd3aMB2d2ld1n4dWAp9Kdys21I64WTnu06/IwbNsNys9Za+T/m008acu/uEVZAh+rhV9wcWtUjw97OOwwOhAGHc5uYE0eR6ONqHDZn2zoKZFevixuChxZI1Olpc0/I2eO2phpCIvYvEq9v2GyZ0QgHhuYHB1StHJKSw4UELHugX2rX66CNQvYeR+21d/qji3Hjd932KRgEgSDSvdRYdSF/UX9ra2l+CAVjDXFxcWw3p66ubu3atU1NTZgHKSmpCxcugIcxaKAIzSd5NPVxkMcpr5s+1338vE+eu/YsqRqZHEtHD5ga7T4dC7zF3nDZoHwc1G9f4R0unodAQlHfpB2c1h1uIRhY1AXbRdJhXtWr1dkvjhsogO+fmPBdji8H7tetlS0P+YLKzr/vpqRg2TNaxs+im48uGpw3lHb1eZIbd1NA2olEpRLqolhZtYphHRRtFjyRgAqu6EyYOlr/TJFL2t5qt5bxmQlk2HItfWAJdv6tU4yVMaq68bydueWpF8hQwi+LFx27GXznTuCtaxfPBkR39fVUF2c/uX93//YtK4SViocmtwRGq9M9dWVyCGB62263eJX07jN3IG7e8L4XHnRJXlQNM1mSHXaMW/YEkPw2sGk8K4d8FOqsa3nwel3JI05Rp7GBJDlZg/BC0GB6XTUk5dQ9ggIDA27dPH3lVldnubKITGA6GkzLXUk51aelqFkIONZO2Ijz3skqf3jeadM2H6xeHhzeKqEBn4mQcfCXDztuPxEHX4w12auLn43M3KqwXtPeDYQf7Hf95LlbFd0w+3D5lVgkxq+VUl5xyV7L4lwBgdhXXprzIPSug5LAWh3X8rZibQ6+Yhxurxan1Fbb4KDAIH+f0ydvFDeVbOVi8cpAJxIjmYBQUt9MtQcEd1lNEBCKi4nh3osvgEtJ1AVFKS1UQoEbe4BQTBQ1zz+rQcbq3NU2pI3CEeCF1zZlq5DLrspcCvp3QSy3/S6cvhhb2IZMLe1hhOJrwm4ZDCSYNkVhJe/4OhgbpVKbX/7Ko4JrFnz696qxOt3OzhCQhy55Q8YZf+Qox8Go//BVJVZWbyryK9sml3VCDxiaGJ/XM5BxDoZWe5D+OGlulaBUOFCg0tTIdnG2Ew+hwZ2DxmqWnk+gn6G2lNiXVZmXBFhtqmA77LKUljseVNRdep+d33YA9NK+FF52/ZfN4PvBbcrscmb7Jsvt1LXizoks/22CJqGQ6LpTONm060aHrzjtMHGNAAFdVmC+D3i+9i6P8DYbJyseHU8SekQbRtpaeMB6TyRqHBAZrNBfInLysa8S57bkWlig5dfsN2s55xfHrmPbUIqu9pQGW4lsvup3bhe/gQtaKSNnTKU1HKD5oYSLClwO4cgcTlfNj4El8FdLS8vT0xNzuXnzJiCUkRFYxElJScuWLevv709OTk5LS0OwJSPiUPSdM3v3H/ZwP+HucdzJ6eC9mALqJKGM2GprmJ+ApiSfXXXkkHUFD315fvQcochYupyYkn9y530DFl/05H7niwMMCicrMmIOqkqAmo/QYTwVDcduL1MZEwcv8JB/11VGTL8P38hPv/RIeG5llNc6OjqHeyk5jy8yC9nCsbb20cqVSvlwWlwgxuv6/NUgVmqo3Eu4pkVH91+mowltgBG89OjZBV2aOjpenFdatFi9nUg4t1NNzOj02ESr7uq1urdzqdSxy1oqagfC4+8d4N9i3kOmNKbc+ImeDQ0SZcrK5INKQuno4lakkyyX3OE+KrUywkxWZntJbaYu/ffbjyW0teVo//gN/5ZLINMynKssrj5ryHgk/H90Wp53G3PvruawGet/ISKoeT8XDDIkb2dtLsV9fRRq0dNzPLL6VXjCOTXh71VcmtrbL+yRpfte7GUbuoQKWzl+rxCDvXdkweMrzMtFggpaO7Lvcy1msYqEpI+aU0FuuarQLZVMrm5PuO6wjE2kmkq5oylGb3Cmn0Ipun6YS9S2sA/t37DUCriZtiSWlJ202Gx2szrnkMHabWeHKJTawF2LFE3TGqp0lv9yu6z9mYPBcimbagql7ck1Pi6DpDZihA37Whb7qvb2yKOq/6Xjy+x8O+U5I8eS0NG6T1PN+jQktZKI07L8CqiEgkcllK6tMmJb3R9N9JQf2cyViBqZibugJbDzUZG/yxIWjbRhCu71I0lOpZuoMdEpnQsY9jWtNca+QF4gXdST4driXNnRkehh8S2TfsYA6bb2dz8wiWc1tif5bFu7XPE1XFVHLUG8ifvvV/8xPx9blpf26OGDtOzSx4EH/8ciF1fZXh/vx7SAef8rXMEFrYXfaOTWt1/Yp7ZGeecbuLhOJqBL7Kc28R0OTgOjbOKpHT8wqsfWtz10N1y/yaKk+AHvt9wBSVUvgw/Q0f3nfGRtW37AKkYjaNOi7+X61XJJ9XAJ6OEuzVWb9tVTKM2RV3i5jFLakdc+uswaATDPPUn0q7ZUDg17O+gKah0bwxMuyq0NrAQTrdHjcuLffvX1uURovwceqoP01mEv/zOfvkNT85t7njsXMMsWDnQaSnIK7fXvaC3Q41+w3TOQTBkzX/OTtPb9jvZsQbZVu+4XDRTfZf1m1dnQyrznFxcx8dwvhZsVd8wYVf3g7PhPn/JgIkljY+PPP/+cn4+ZQUOMjY0Bv2CvgoOD2djYoqOjvby8MLWUjweGbTfgvI6dOBsErXhkRdw0d4TGX4drog1dE5Cxckcnt5iygVQ30+haWAv9r+8YnY5sLs8OcLEFPSPrmMm9bLj8Fn3K8ez1KPBQnxDganNkGDLLIV4+fgU1tY2yMn6Jr8vTI7bu9AUlRWpN1dU7XgcpscbG9VZOPbrvMLUZX/7skoLJzjdk1Nb8YMkhXX5eHh4+vi1hGZD2M0NPgZldbFX3cNkLTWgyl4tHxTG3j0wZrNhvKMHFycHDJ3ww9BUyJShOvCm8fXBXKbY3ga89ZcHDycnJzSV+M7YMuDTEe2/h5RUSE2NlWCOpcha4VD09L8zHL624RWaTrHtIbHtVop7ZzYmhwt37TibXorSEaz68Q5WLi5NXSNwnvgy26I5CFXkJkFNhQWFhg6OFvTAy1JIuknXTTEJCIr1r9OlZW16QDR5B3Qtx6J4EZsqRHBXkobRRWEWan1dgY2AaJBpkpPGYojQHJxe3oOrVpHrQlqCuE5SO6y1Nj+fXvQn1Onoiop0ylCMnAW068gjIX75bDgrV11J4k6ljN4lw01iFg4uLm1fW9X4+/LC/zFWDn5eXT3+nqbz6sTLM0i+MaTzc0TS/r9v7iNvFe3Cy0JIWdmyHMxQ2qNhxa0LYSRtBoS2vSgrvuVrno5JiXuQp40tARqCE7t3OA2Lh3mB1LRE1kDV91w/8/7OjBqdj4BoLZbDcQU0O5Jx3g+bVdGii+IbB2tUschs28HPz8Pm/wEzSwJrC1SVslJQQFxcRBBAS2qTi3jM24GlnxM/Hx8srqH8pGvI0tfuajjI3Dy/3ZpOY2lG0s8HD4eChzF9vpdkltKH3e9kZ8/HzC0kp3H/VBteezXXAT01daU11i9DENwONCXomF9GrD4pNDI4VYYZkKD2XDUC1gnKTO/qwEHSK1+Ge2668hK+GCgx0j9SNkoqjLoG2F/W6PPqoRXwjDKDx4e7Fa5WqsYsWpmS00boIs008vDy8fCKSPklQ2hqpSVKQFuHm4dazO4byOTKQ98yQl4ebm0flUMAgOqHJvOQiBvLFL3o0oggtyG7z9SJ30Db/5y7KIlPpBrMbIJ709PRgjrdv387Ly8OeJyYmfH19r169OsdbNf7p+ISz1J+S0xl+i5+eZxW3+ZM1cKnzHj75b1Ia/uT29LYGR93l6fcl9f2eQN77YsYtbGDOWKfFzXmjtP+TQ/2dIPS1Fh/QWrb5bNSstL1/cdzUK/JspRsEKit99KMSLysxuYvDZGQu5fRPVGyb1mWeVH9Gn9AHKvaGSp6yCoi6U1HzP1QEc580CEKenEVPykTQrNmUCi92r95UyNRJRWqESn7vnkzUTspbXTkKaoKbMuUPJg9VCEYwN5ha8pT611SyZlL6VDqnw0bNTZKmL9kjQYO2pLLnPtaO1whwbCaQptKMGV4hkSYLYbo9kLE7CKcyDrOD2pDALItQZ+cF+5CCfvK2BKaAqloTMRNKbw0owU9mmlSaDAw1C0OduhCaSiLP/AkFGaz80bhmKqdjNYjpT89KHjTli7wNAQb2rgfMBA6VMqXXN+0Fi+Vjt1OjiZmOHbtTEStBYshB89Mx9aBUUSX6mTUFLfJMAzNbQ54yzzFVbtjFqtR3rlnEpNvGF+cOB8A5Amq1ZlL/fUZSSVg7RCOaMgZEelut75TbjMKYbK5TbY+CWuEZDT+zg0/KuK5vDHlnzEbb/WRLpFBnpBoWwszY4HWWU1QLn6AfMgGqAA347XdNKGx8q5T4q5g31XtsaRb7OVPXHns12fE+f/yq6j31nZ+/meMP+qAQJkZHJ94qAn96kuYU8ZyV8udYcR8L8vck79Mx9zBnphM/PjqGGvj+3QcTP1zLmDLLyKQJO+rsapx7VHPyBv9QBjo7hnCUOQf1KYcDqXgcqqf0haje00DD54i/Zfj85OPUn5KfOXqkEco/EP8Sawx/P/7Ugv4r6/B3n0CcY+Bz9/ynEMr7RqppoIGGfwPmmVDe3xX+PYYLaGT06fjjJfb7jQl9PnmcYyy/Hc3HPc0+of2va8bzRiiYJRQEXZFtampqaWlpbm4eGoKKp2NjYyQSaS5hQMPuf3eJzDG7ZNI/4kI71Nr/PyAd8wrUCv+749D8b3TPBoU8VwNUZHTbiEJ518TR5J4g3H952zS+uMr5DcwboWBskpaWtmfPnq1bt9rZ2e3atevYsWNZWVlmZmaNjVDpcY6ETSThcXio4T0HSz/vv/otgyQfXJX/Q/sYvxbAp+xxvBv+O79/RW6jUkhj+AnYB98LYi4ZQz2ScXjUSNXHIyWQ8PgZJrzmZKeI+hsuc97LgN56uwbGCZTfKIs/lh70jm1Qkh/fMfnoFU3vahxMjI4MQ2MUlH+Vwe152zYGf8+fP8/AwBAcHDztXl9fT09Pr6CgMDExgfxW66FShpL8/BqIlDf3/a9dugcPOCBvL+XAzNdQ3zNwCUeKyVdUzGwodcquz5RZz+nj7FMfz/j/5O3usy2czoxlUstgOkzsBWk0PyEgrwVu7pLJ0yl7l7qmLO5Mh0alTmnHYHFO3y0/nWbKtLYAZVIBB/PwNgvTlj5hCKMx4S+zq4fIw83+1o7ZQxQK8lb1hfq2WGbrwkwl623CKZTxhhJfG5ei8VkhTEdKQuWFBGenR/noSZm3ijjv9K6ZOcJSPqndMENJZeqr6eqZ3qCcUucZaK64HZwLr7vGPKBqRyM5/rsPXmodI01nCFOBmVYDmcoZZkl2dv1Olvnb9EwqJk35Bx9XpwYkVfZTqT2n9jtH5TeRpwN5r8mVJtw0N9LWNd0dnt0yo/kjA60FB2zN9fSMD3hHA8l8qCnF2cU1qw+La1762WeAeSAUTDY5derUN998U1kJ1XsxxROMRMzNzc+dO4f8xk1gWI00a/30w+MhpP7cbtf9Jwkg5AlsJ3+qOomEqSDeI6bpKdWUztu0TswEcZZnMnGc8I40TSHP7XY68sjY5BWbCKHFSeKXQ8nDUyGQPjZVI0xMTDHiZBxj6BGnmZiaO5FHRmcZsZnAjc400ETA4yamUz5pxGRAR0zu4N1SZKz+mAg31E3GT5rnmco98TebMuYTV5xwWFoCKp9PDM38gjg+Nh3pbRnWy4lV01kmfXRxjDpVGlTsbMus4ifPKo3REdysdKBoSr72C70pLCZUEY0EW86gi5LqvmtxU9WMH8L9xiT67XyESpmqXwqR8I4vCn5qduKt+otWQA2CdEhxi12MLn83TVO00VMWxsPwnfPlgBsu2gvXrs/rnz490L1fmoddY+/NG1fEFzPtCchCqINHrBUtTqFn6v6YCdTPCH+UULDFkZiYGDo6usxMqBqInRXEHgCJuLu7P30K7yr/+OosFQ2DeGO34cIfvt9g6hAbfFZGgYtNSp6LhVnf6g5qz2b47jFjVlY2Vha24z4p6EeTwsvTI6rM2jo83JzMqtv3n7DfyMvFwq9wIRMOHa+jvZhYWNjYWJVtT3aSEdJwjZOJBBsHGycHx64Lz0HXOe28lUuSVVyMm5VV3DkS3kNMQNkn0MNc88Bl1Lxqx7ltei7Xyvuq7wlys3NycoqpmhX3kpui7JZ888PyTdaZ/dTCuwc4YMqYLJxv4yYHPJhTXH2KrhAfGxs7J7vUiZv5UDGzPWWPIhMHBycLo/zTwvbU8NMC4gKiEvwXEitqnt/ZwMLOwcnBrORcOAjPhjqayHNxsrOyc1x7Xk2h9HhaanHxcDCz8JvdSAVpJEIDw6TYQNeli35cwSCfXZLvor2OfosOPzc7K5v5q1YgZxAjbbZzs7KxM/MZnnlOQk/0g1QNpoYZyZhmjiCE8gcCUluSgMCBy1BRs8vMTt2rTs+gqM3HxcbNZ1MyACqs65ShKsgzB5uQxZVkUNYhJvzeaXWgY8Ud3M3LwsbOwq1+LAL2JwoZZRBCwFlbYUlBYUmx+1X9DaFXxJlBsbDyG13oR5A8nyM8jPycQqKcrBxb7R6DpOAqErQ5uUCRsgpoB+WDPA/d8bbbZKanKaLJwcr9w08Ldx2/Dc+k4OFR6M5E783yBq/gYWDk1W0PflAu7GxsVleHcfXHdu/yioYnmLPCz2vvCSI2x+oe3KkssdHZ9oHv5T2CYvzC0jIxrWPl192E0PRI7LgOxoHGsCMSOps4xMXZmZmtT8R1FN7k/+GHnznUn1WUWSobnLvuraCpkdROAKVc88h906aL2CF08OeOBS/H4UhYzxND2S8TOqBRNdhmxhseM62XrkGppfPBDoaNh0CWJtJOCG81zEOV+/8liynzYGAJEAeY1IiKisKrOackzOm3dXV1nZ2Td3qDv2MNGR6HHfc5OAE4Ojk4OF6qGZq0ajPe8Vp+zcrref09Lz1Zf157PbW5NdlfaJXI3WZK2/1dy7nM35ARQlUQ23LRR8XouVeUoe6YrFrNb9880GImz7aA27Kyo/vCHpmNpq4jAwXrVrJA6xvIgKHw+j3+yaVpQZuNbQbBVDw7+OfVLI0T48663N9zmZf1DAQf12GS3QpbJRF2kJbAw0tXq6WPUYmVjzYu4XlWWryFf93u64mjo/37NXnE9lweH2jcvWL53oQeQvYVhvWbXzRQkImcTcw8bqFFCBSKIKWm2e+U3xsE8lXsbsUhYFlDJl43+JFH4Xjv6GiApcQGy5tRt6zp/rv6Qvir/oZkiYX0Zg8KRkdb9wtx8dk/SAnYT8+uCkKteuqpb3+oJt7tF3ap1CFk4FWoke7uPGhAkgSkNSKhQUdKas/FOBKlYxfHN/LWDwZHWxxY1+uFVNTfclm9QikNSDx1z8VWCLjGwKkKAcySejMVhDdeih/qiDIBY4D50zFC3H4GDY+2ztLtzN9qHYwZGqqxWLfe+kldtrv5Am7jV0Ojbc+vrfme16tgJNpc+FZpR9O9MwyLpWIASXRkbF7FY/MAnsZEbT+SLjpIff2jYGhGVWfeY9EfGE/ngJ7buYedU807K/ei+TffckSW97e/9F3zPY9XWpGbODfPvjujo6ORNhrfctq14vE3tgt8x6kVW9qW/fDUWjbt6iECegMs7MYpl/bp69uBoWWi7BHrt+scoqpH2zM5eYSDEp/v0lQ6GAjHj+c+zpybTxO7kpi//1H5+P2hwd7D5nzfLJR5UtT0JuEOz0+cN6tICLHOZB2LXmBTzyPrZT+tv1/cUXbXjZlZNalz8Dr/OuXzKURyq9pGdf+nSYcU2eUvFYCG6Sa8Tsf9CXXSjDHlptHan79asZmTa93SNY4XI8dIk5dVT9RH0S9a8rgZnsV+4WO8UsVtEFqWyZbjNghM60L+NYzyhwgFEzqKi4tB0wwNDUWmBJYPAjvHOd6Sd/zQXhubPTY2tnt229ja3mgaIk+Vdtt2FsZng0hzsKPNwRPoyaq63UYqJ57UhZjwfS+qfczD85Tb/oU/fHMgAtpSxggl0JT3bAo0TnfdWM7+bCR4yAs4pK/nnJcVsP4XHtsDx06f89Bc/rOsfQhC7nt2y/PQIVeHXZrfrWEtHOyx01R1uZ0NPimLPKcrZ4CauMPDaRWldjPvhhsJDcVR+1m1T3SnXxGQsa1HZyq9MUf4NLeXdfWf1WC+Uo7POaL+f8wb7d1OnTtznH3djyrHQtFyQa2Q9NXeuHza5ZirugAzu8L+hr46U3qW4GpUGBvr7+rsDT5tJWN6AvxsfXl5PZ8pZkt2oDCAU8AiJSN2E9s6ha12Zy/dLO9DCPWPddm5xBTM3S9df1nSjZYmGZ3+9VuqaHmElyGkxiMaQrHoAJ4WYCVnHeDtobuEW+r4qfNn3O0Flq/VdY0Hr/Bw+oU/bmBw1DvyyUEpXk4u+wPPHu1WdT73GNdV7KIrlYrOP55e2abucNvFSsfu8gs0UbjjWzV2nIsLt1MIe10RfM50IduGoyfPn/FwEmdYq7AHWuUgwNUk4nErFZMT0PRhQYTr18vW7zty6rTnYW1xRkE9r0BPC4u9V1DDguPu1pbWtnai0noZzWh8xFxRNpXE8uoLO/StDsO5RlOyL7vgrlG0PWHzwYhT29WMHEHZlTxyYxW3wyzoDnd397blWhtoHLsPqo6adOe4kNplYlc4N4NtFRxx8DY6MrbXYcYT/W2+WcOx3+3sGU8XJd7VolaRr3127z99CzUU81pXXfNmWt8zex6zQDCh69iyQSkovaHg7n7ejcfJ1EquZTyR6DE/lDfGz8iuXC1nWDeOtGadZPmW7m7xABWenwLvcEHmGmv5Je2ddy79+r8/yHgOwmGyWV1CxSsGrgNQ/x1X9M4Dobx69eqrr74Csx7kQ4SC2XNDpghloqvyXlBo0N3Qe6H37j2663c7umNkanOC2qDDwhg9jNT5Obkede+DM5DSnZqqp57U3pbh59hi6QmmT6dOHnc5k1Y7iKBLg+DvbV1e3yxIBWf0pWzPPAQfJV+31zY8VJx+g3Gx/PHTHidOnHR3OxyeUvzS156LcTMIIyDgBBcTT/Fwn52m9kGfdPBJ7j13pU1G0B4ZlYhHl1j898lpOTof3bThcNzo6FMnbmUHzEhvX6Qrr6pFSVe3hwrrjSZ8qpkqPZ8aiMXd09P9qNvjjAa0EGC/9bBV5ZTRdD9x0sNaY5OpQ3VnrTkja9gbWD7jvTWZ2cW3zxxUMPWhUKiNiV5MAnuw5aLujMssDGYNOELVq+grpz105ATYVXeUDVI6a17dvHRqt/rGNRsNX7QQQfNE7XP3bFfSOvmoDJlodFcVSUFNXyfd2K5oFnTluAabpNI5T3cPjxPHjng8zm2CCcPDHlR0224zD6vAGtfXGc/38LGwMG5+XNxNas05piWTCy2nUCLOGOvYBbnuMN2HWv0DmXbRULK5mB5hvzkstzzgpOF6UdmzJ6GtveNH3cLSahC4AQT+jB23srQ4Hk2hUjPvHVi0ns0NFL67u9tR15DM0rsHDa2dvdGmMHjU3GT3XicxWYusFpRQhhKFGDTSKmsvOmqYni0CLaE6yYddaPdMQrnnvm2zsSMo1uJHJzg27sVaVNPr7Kr6tJ2Kau63oPyVeHGnkMZNYttdbondeR1w2cVGd6vjNWiXJPrGzmXs/CdPoWk+cigkr+PVOTO3y35gikodStNW0PJP7g3fw211rw4QirKYkl9qKx5MnRQ3nHC3UFdza0PP3GGnHc+pMUk8fIMlwFGMyyupbrKhk0b7u+qT7p/3uPHgtrXkSlU4IkJC2ah8lUYocwRGKBkZGUBCSU5OhlQ9RSjYAkdaWlpSUhLmE5vyDFcmONjt2mNrv89+3z7H3VbWJ8p7YSuHvsmNGiuX+pUMVfrsczp4GA63hHILNSnX8P4GXwMGgX2DwKX5lrbUpqQ6WMMYodxSZ/FKhxV8UlN0pwcUEJKv2Sqr2TU1JqxfxhMNba9POJiqHH+Y7LdHWVD5PvCQc1Vz4Y9Lsjrad6moOHpDo1u5d49t3qiNWd8gk+EpR0rlQ5YV3yz4XqURRNKXysu6+tjdbDx+aL8qx2bHa0TqhNOmBRqP2oaeHWZep5IHbbJl7d6ywfc5JBRoqBgZkhFYbXkjGTwFOir8ImbUMDZ+bssiMXX/MfzAOXkhHqeA4POOkrrQ7sl4zTOhnxlPxFTh8W37RDj49z987LdXYccp8KrhxaUlouLBZ86KaTs2gd+14eyC7J7FkILRRcnubfJSOy7GUYZrjylyJ6KmhhOv6IlYP8y5sW8JtyFsyO1Z2mJaNzJgcRLRVW1qR4rAL3R0ir4USs8eATo6lh1vKAi5JvGgyoYsdN0o3ENjk31EtMc2JhGrygl82/MrS34W9KmeeGbM5VvSWhpwZBmLKjSrPVhsIq52Nh4WG2qAddx1u67xoQcwWRlBLL9w3oLWXYddZZUdHpbmX9mx6Bex53WjPcl+6xcI3cjKdxTmVDsajsfjI3Yr/1fMdQA/eMpK3tC9EObyxeXl69Wqh0nTU570q05GOjaAYsYKQlf/wHQkvWW8NpqLmfV+TuZeMS6jgwm4vnzBBf8V1AjEt9xh4rXKg6YyhneoqdqehxJK49PL9MtFIqCc0WEnvvnwi/6Ks4b7z3jDZjSUpiKrePNl96O9zKyHn5Eo7QqCchejaxEyzstB7qv//HDhST4F25FCp/AvLxqu4Dcu78fXxZ9fv5A3qYvQWRh79fqDweFaNX5Rb2hzs8tQepVtyEt4jQX+9Wbu7aEpXcgcbJ19GfhDhIKxRkVFBSCU2NhY8Dw+Pk5CD34jqNUlT0/PiYmJuajho++J/hZskiZ7HvtevH75MuwBEw1HD9mefQHqo+eMOct6ZhaW9fT7zj0aR0+6Y4TyeI9SaD6ULQJtjTx8YBoKQk/a7zwC5InMoINr1zGysjJJmx54g8P3Zt5XZmRiZWUz2bvTQHzDAedHnocOngmCRqGqn97YZ7IXtdeCmRQAT2OntkgbnIrFklb05BIfFwcnJ8cGHavCHpi7RO/tDBtMY/qJiWc3rVvPwsq8VnfX+S4gNkCDBLDD5z10F2RhZuXcaODoorKR9eijfEJHpoU4ExcXF6O0VW7/xIvbF0323cMK8lWIJxcTKwcnO4Oaaxmgq8YkfUkWADZ27n2heSRctdZmkXUsLOzs3Fttw+DSLxnbycXfcd3GzCqZUZQXYKOXhU7Kcu+7bjkRj5Dx1021mJhZWRk5VF3Dhico0OwQFbtBCHfCWMHpDmRSn8P6eq7QxCy+NtNrt1EhKkIkBjhpnc9CiK2OatKsnJzsbMJmNzMAfT3brRSU24xQSIF7TJiZWdkY2Tbtu90/TgY5xhLjdfjwgctJWI7Srh7hYmBiZWFiUT3WMoJPPrl76Q+L2AUFOJm4TD2eAe89rx/IsbJxcnAyCRsEl4Okj3gds3EOgvLOaH2CICPTjiPQRhkFD2dT4/n+fKpq0ZChKHE3XJlZObjYWczd75Ko1Lzrh4VZWPnEeNS3SBjtjSF1RStuPVUGpzw4N1vnk3dy0OZFjPWwZ2NkZmVm4jM83Y0jlV7de+V2GBQ6hwp32++7V4LvT/Wk51b0La05vH2vbxyUO+pDj/7wi2RCB7bZTJ3czCF1XdqzhY2Di42Z1z0YXktSEHxCQWVvK5WS5Ou0dj0TCwuTqu1F7FqOvuRTPJvVXqEN6088ufdPwh9dlIU3GBKJRkZG0tLSgE2mX9XU1Hh5eZWUoIsdnyTsfbzYJ3AjhE8VG8ljo+MzZ2EE3PjkFOzXR4wPvCPjh4dGP/iWNIEbx3/IEAFxYozw7sV64+P4D8dFHusfwM10HxsZHpuxzYkbHsLuG5o7COM4/B/brxwfHsIRJjMwM7XECdzEb15YRx6fLm2/XcoWB67BJGFZmAyNNDAwTJ0V/AcCQ7e+R07oyVtcipwsOyphgjizoAn4X+2tk2o1xLGxORfHcGf5qa3yGkbnR1FFmHeCnxgdGSPNDHsKpLER9DIp9Facrj3bRQ3OPUZQzYQ/VA2fD+bBYhvoKr29vVu3btXW1gZz1CtXrvj4+Ny5cwdjk0/SaERVlmYdLJzWOJu8EO99ddKpO7CnhVLqTI2pqW9mfkqd+oY6U6fqPdajzrhem/rO3tVsdawp/x9QW0DQQ+UzP0KmRivqDG26d33McJg0zPPW9s77Vldm6dVNB0ulzArhg1mbLooPhkCZkYXZRT3L/b3EzConTHko9vyBg2dDJ6AKGfmtItq7eZ6RS8pbcz5U9BZefEWI3YlrbeOkd6p3+n9T+mxv1e2olPfTg0xrDr4t4VkKdlguifcOa/MIqURnD7/PJ+/X1TvtDdsuwDUmHj6yN7MXVdj7V6yfQMyDYtt0VSUkJERFRYG/L1++xKO35H6abDLniP7IR39E8PyVA2G/fVLstxPw+1Xv57XE3ksT9SMv5vb1pM3YoYH+wTHqe/n/JNX7sYFRAnFqXPl9uZmrT3JbbU3Lx29xpM6hKeDHx3HDRJrq/e8BhUJ5v4Tnl01o+Jfjb9Hj+OMrqf+Opdi3mOfTxhg+yC80/JsxL/Zx/spG9a6p2N+b6b8swf8Q0Cy20UADDfMGGqHQQAMN8wYaodBAAw3zhv8Ht6bNB7q6bkoAAAAASUVORK5CYII=)"
      ],
      "metadata": {
        "id": "NNiAIIVPFDXf"
      }
    },
    {
      "cell_type": "markdown",
      "source": [
        "We already have v (vote_count) and R (vote_average), so We'll create a helper function to calculate C and m for the idmb formula."
      ],
      "metadata": {
        "id": "2mO6-sTiQHRA"
      }
    },
    {
      "cell_type": "code",
      "source": [
        "def calculate_v_m(df, show_vals = False):\n",
        "    # The mean rating will be on a scale of 10\n",
        "    C = df['vote_average'].mean()\n",
        "    \n",
        "    # We're taking 90th percentile since we want movies which have got votes\n",
        "    # more than 90% to be in the list. Movies with higher number of votes\n",
        "    # should be included.\n",
        "    m = np.percentile(df['vote_count'], 90)\n",
        "\n",
        "    if show_vals:\n",
        "        print(\"Mean vote across whole dataset: {:.2f}\".format(c))\n",
        "        print(\"Minimum votes required to be listed in Top 250: {:.2f}\".format(m))\n",
        "    else:\n",
        "        pass\n",
        "        \n",
        "    return C, m"
      ],
      "metadata": {
        "id": "lFMRpRwWPFpf"
      },
      "execution_count": null,
      "outputs": []
    },
    {
      "cell_type": "code",
      "source": [
        "# Testing our function\n",
        "c, m = calculate_v_m(data)\n",
        "print(c, m)"
      ],
      "metadata": {
        "id": "vHCegq5ZQGho",
        "colab": {
          "base_uri": "https://localhost:8080/"
        },
        "outputId": "c90b995f-1c54-436a-f31b-5f37e2efe6e4"
      },
      "execution_count": null,
      "outputs": [
        {
          "output_type": "stream",
          "name": "stdout",
          "text": [
            "6.092171559442011 1838.4000000000015\n"
          ]
        }
      ]
    },
    {
      "cell_type": "markdown",
      "source": [
        "Now, we want to calculate the weighted rating using the IMDB Formula and return it as a column by the name of weighted_rating in our dataframe.\n",
        "\n",
        "For this I created a function weighted_rating."
      ],
      "metadata": {
        "id": "dH17Rh8HRAbj"
      }
    },
    {
      "cell_type": "code",
      "source": [
        "def weighted_rating(df, c = c, m = m):\n",
        "    v = df['vote_count']\n",
        "    R = df['vote_average']\n",
        "    # Calculate W using imdb formula\n",
        "    return (v / (v + m) * R) + (m / (v + m) * c)"
      ],
      "metadata": {
        "id": "plWGU8MdBVHX"
      },
      "execution_count": null,
      "outputs": []
    },
    {
      "cell_type": "markdown",
      "source": [
        "Filter for movies that satisfy our conditions,\n",
        "We'll create a helper function for this part since it will used numerous times in our notebook."
      ],
      "metadata": {
        "id": "fI5VLVpUUAyg"
      }
    },
    {
      "cell_type": "code",
      "source": [
        "def get_movies(data):\n",
        "    movies_list = data.copy().loc[data['vote_count'] >= m]\n",
        "    return movies_list"
      ],
      "metadata": {
        "id": "MTkNFoHYB8dP"
      },
      "execution_count": null,
      "outputs": []
    },
    {
      "cell_type": "markdown",
      "source": [
        "Now, comes the part where we sort our movies according to their score to understand which movies ranks higher. Lets see top 20 movies."
      ],
      "metadata": {
        "id": "uFniwUPuEoQ3"
      }
    },
    {
      "cell_type": "code",
      "source": [
        "def get_ranked_recommendations(df, n_movies = 10):\n",
        "    # First, calculate c, m from the imdb formula\n",
        "    c, m = calculate_v_m(data)\n",
        "    #Second, Get the list of movies that are most rated.\n",
        "    movies_list = get_movies(data)\n",
        "    # Defining our new feature 'weighted_rating' and calculating its value\n",
        "    movies_list['weighted_rating'] = movies_list.apply(weighted_rating, axis =1)\n",
        "    # Sort movies based on score\n",
        "    movies_list_sorted = movies_list.sort_values('weighted_rating', ascending = False)\n",
        "    # Return the top n recommended movies\n",
        "    print(\"The top {} movies based on Rank :\".format(n_movies))\n",
        "    display(movies_list_sorted[['original_title', 'vote_count', 'vote_average', 'weighted_rating']].head(n_movies))"
      ],
      "metadata": {
        "id": "lleR6iS0FURV"
      },
      "execution_count": null,
      "outputs": []
    },
    {
      "cell_type": "code",
      "source": [
        "# Test our ranking system\n",
        "get_ranked_recommendations(data)"
      ],
      "metadata": {
        "colab": {
          "base_uri": "https://localhost:8080/",
          "height": 380
        },
        "id": "xwqDGCaIdR-3",
        "outputId": "8bea71d7-912e-4b74-d7d3-6ff9dc6c3478"
      },
      "execution_count": null,
      "outputs": [
        {
          "output_type": "stream",
          "name": "stdout",
          "text": [
            "The top 10 movies based on Rank :\n"
          ]
        },
        {
          "output_type": "display_data",
          "data": {
            "text/plain": [
              "                                     original_title  vote_count  vote_average  \\\n",
              "1881                       The Shawshank Redemption        8205           8.5   \n",
              "662                                      Fight Club        9413           8.3   \n",
              "65                                  The Dark Knight       12002           8.2   \n",
              "3232                                   Pulp Fiction        8428           8.3   \n",
              "96                                        Inception       13752           8.1   \n",
              "3337                                  The Godfather        5893           8.4   \n",
              "95                                     Interstellar       10867           8.1   \n",
              "809                                    Forrest Gump        7927           8.2   \n",
              "329   The Lord of the Rings: The Return of the King        8064           8.1   \n",
              "1990                        The Empire Strikes Back        5879           8.2   \n",
              "\n",
              "      weighted_rating  \n",
              "1881         8.059258  \n",
              "662          7.939256  \n",
              "65           7.920020  \n",
              "3232         7.904645  \n",
              "96           7.863239  \n",
              "3337         7.851236  \n",
              "95           7.809479  \n",
              "809          7.803188  \n",
              "329          7.727243  \n",
              "1990         7.697884  "
            ],
            "text/html": [
              "\n",
              "  <div id=\"df-b7ef5b91-d896-4e92-8a43-9e607e24d968\">\n",
              "    <div class=\"colab-df-container\">\n",
              "      <div>\n",
              "<style scoped>\n",
              "    .dataframe tbody tr th:only-of-type {\n",
              "        vertical-align: middle;\n",
              "    }\n",
              "\n",
              "    .dataframe tbody tr th {\n",
              "        vertical-align: top;\n",
              "    }\n",
              "\n",
              "    .dataframe thead th {\n",
              "        text-align: right;\n",
              "    }\n",
              "</style>\n",
              "<table border=\"1\" class=\"dataframe\">\n",
              "  <thead>\n",
              "    <tr style=\"text-align: right;\">\n",
              "      <th></th>\n",
              "      <th>original_title</th>\n",
              "      <th>vote_count</th>\n",
              "      <th>vote_average</th>\n",
              "      <th>weighted_rating</th>\n",
              "    </tr>\n",
              "  </thead>\n",
              "  <tbody>\n",
              "    <tr>\n",
              "      <th>1881</th>\n",
              "      <td>The Shawshank Redemption</td>\n",
              "      <td>8205</td>\n",
              "      <td>8.5</td>\n",
              "      <td>8.059258</td>\n",
              "    </tr>\n",
              "    <tr>\n",
              "      <th>662</th>\n",
              "      <td>Fight Club</td>\n",
              "      <td>9413</td>\n",
              "      <td>8.3</td>\n",
              "      <td>7.939256</td>\n",
              "    </tr>\n",
              "    <tr>\n",
              "      <th>65</th>\n",
              "      <td>The Dark Knight</td>\n",
              "      <td>12002</td>\n",
              "      <td>8.2</td>\n",
              "      <td>7.920020</td>\n",
              "    </tr>\n",
              "    <tr>\n",
              "      <th>3232</th>\n",
              "      <td>Pulp Fiction</td>\n",
              "      <td>8428</td>\n",
              "      <td>8.3</td>\n",
              "      <td>7.904645</td>\n",
              "    </tr>\n",
              "    <tr>\n",
              "      <th>96</th>\n",
              "      <td>Inception</td>\n",
              "      <td>13752</td>\n",
              "      <td>8.1</td>\n",
              "      <td>7.863239</td>\n",
              "    </tr>\n",
              "    <tr>\n",
              "      <th>3337</th>\n",
              "      <td>The Godfather</td>\n",
              "      <td>5893</td>\n",
              "      <td>8.4</td>\n",
              "      <td>7.851236</td>\n",
              "    </tr>\n",
              "    <tr>\n",
              "      <th>95</th>\n",
              "      <td>Interstellar</td>\n",
              "      <td>10867</td>\n",
              "      <td>8.1</td>\n",
              "      <td>7.809479</td>\n",
              "    </tr>\n",
              "    <tr>\n",
              "      <th>809</th>\n",
              "      <td>Forrest Gump</td>\n",
              "      <td>7927</td>\n",
              "      <td>8.2</td>\n",
              "      <td>7.803188</td>\n",
              "    </tr>\n",
              "    <tr>\n",
              "      <th>329</th>\n",
              "      <td>The Lord of the Rings: The Return of the King</td>\n",
              "      <td>8064</td>\n",
              "      <td>8.1</td>\n",
              "      <td>7.727243</td>\n",
              "    </tr>\n",
              "    <tr>\n",
              "      <th>1990</th>\n",
              "      <td>The Empire Strikes Back</td>\n",
              "      <td>5879</td>\n",
              "      <td>8.2</td>\n",
              "      <td>7.697884</td>\n",
              "    </tr>\n",
              "  </tbody>\n",
              "</table>\n",
              "</div>\n",
              "      <button class=\"colab-df-convert\" onclick=\"convertToInteractive('df-b7ef5b91-d896-4e92-8a43-9e607e24d968')\"\n",
              "              title=\"Convert this dataframe to an interactive table.\"\n",
              "              style=\"display:none;\">\n",
              "        \n",
              "  <svg xmlns=\"http://www.w3.org/2000/svg\" height=\"24px\"viewBox=\"0 0 24 24\"\n",
              "       width=\"24px\">\n",
              "    <path d=\"M0 0h24v24H0V0z\" fill=\"none\"/>\n",
              "    <path d=\"M18.56 5.44l.94 2.06.94-2.06 2.06-.94-2.06-.94-.94-2.06-.94 2.06-2.06.94zm-11 1L8.5 8.5l.94-2.06 2.06-.94-2.06-.94L8.5 2.5l-.94 2.06-2.06.94zm10 10l.94 2.06.94-2.06 2.06-.94-2.06-.94-.94-2.06-.94 2.06-2.06.94z\"/><path d=\"M17.41 7.96l-1.37-1.37c-.4-.4-.92-.59-1.43-.59-.52 0-1.04.2-1.43.59L10.3 9.45l-7.72 7.72c-.78.78-.78 2.05 0 2.83L4 21.41c.39.39.9.59 1.41.59.51 0 1.02-.2 1.41-.59l7.78-7.78 2.81-2.81c.8-.78.8-2.07 0-2.86zM5.41 20L4 18.59l7.72-7.72 1.47 1.35L5.41 20z\"/>\n",
              "  </svg>\n",
              "      </button>\n",
              "      \n",
              "  <style>\n",
              "    .colab-df-container {\n",
              "      display:flex;\n",
              "      flex-wrap:wrap;\n",
              "      gap: 12px;\n",
              "    }\n",
              "\n",
              "    .colab-df-convert {\n",
              "      background-color: #E8F0FE;\n",
              "      border: none;\n",
              "      border-radius: 50%;\n",
              "      cursor: pointer;\n",
              "      display: none;\n",
              "      fill: #1967D2;\n",
              "      height: 32px;\n",
              "      padding: 0 0 0 0;\n",
              "      width: 32px;\n",
              "    }\n",
              "\n",
              "    .colab-df-convert:hover {\n",
              "      background-color: #E2EBFA;\n",
              "      box-shadow: 0px 1px 2px rgba(60, 64, 67, 0.3), 0px 1px 3px 1px rgba(60, 64, 67, 0.15);\n",
              "      fill: #174EA6;\n",
              "    }\n",
              "\n",
              "    [theme=dark] .colab-df-convert {\n",
              "      background-color: #3B4455;\n",
              "      fill: #D2E3FC;\n",
              "    }\n",
              "\n",
              "    [theme=dark] .colab-df-convert:hover {\n",
              "      background-color: #434B5C;\n",
              "      box-shadow: 0px 1px 3px 1px rgba(0, 0, 0, 0.15);\n",
              "      filter: drop-shadow(0px 1px 2px rgba(0, 0, 0, 0.3));\n",
              "      fill: #FFFFFF;\n",
              "    }\n",
              "  </style>\n",
              "\n",
              "      <script>\n",
              "        const buttonEl =\n",
              "          document.querySelector('#df-b7ef5b91-d896-4e92-8a43-9e607e24d968 button.colab-df-convert');\n",
              "        buttonEl.style.display =\n",
              "          google.colab.kernel.accessAllowed ? 'block' : 'none';\n",
              "\n",
              "        async function convertToInteractive(key) {\n",
              "          const element = document.querySelector('#df-b7ef5b91-d896-4e92-8a43-9e607e24d968');\n",
              "          const dataTable =\n",
              "            await google.colab.kernel.invokeFunction('convertToInteractive',\n",
              "                                                     [key], {});\n",
              "          if (!dataTable) return;\n",
              "\n",
              "          const docLinkHtml = 'Like what you see? Visit the ' +\n",
              "            '<a target=\"_blank\" href=https://colab.research.google.com/notebooks/data_table.ipynb>data table notebook</a>'\n",
              "            + ' to learn more about interactive tables.';\n",
              "          element.innerHTML = '';\n",
              "          dataTable['output_type'] = 'display_data';\n",
              "          await google.colab.output.renderOutput(dataTable, element);\n",
              "          const docLink = document.createElement('div');\n",
              "          docLink.innerHTML = docLinkHtml;\n",
              "          element.appendChild(docLink);\n",
              "        }\n",
              "      </script>\n",
              "    </div>\n",
              "  </div>\n",
              "  "
            ]
          },
          "metadata": {}
        }
      ]
    },
    {
      "cell_type": "markdown",
      "source": [
        "Let's plot a graph of most popular movies and highest budget movies. I will use the 'popularity' and 'budget' columns from our **data** dataframe."
      ],
      "metadata": {
        "id": "W5EUlCNbgUdJ"
      }
    },
    {
      "cell_type": "markdown",
      "source": [
        "### 2. Popularity-Based System"
      ],
      "metadata": {
        "id": "lwuI8PWC4D8e"
      }
    },
    {
      "cell_type": "code",
      "source": [
        "# Most popular movies\n",
        "popular = data.sort_values('popularity', ascending = False)\n",
        "# Create a new figure\n",
        "fig = plt.figure(figsize = (10, 5))\n",
        "sns.barplot(x = popular['popularity'].head(10), y= popular['title_x'].head(10))\n",
        "plt.xlabel('Popularity')\n",
        "plt.title('Top 10 popular movies')"
      ],
      "metadata": {
        "colab": {
          "base_uri": "https://localhost:8080/",
          "height": 367
        },
        "id": "_wrrkY7idUSt",
        "outputId": "66429f84-cf9f-42ef-93d5-1beba7a4a0a1"
      },
      "execution_count": null,
      "outputs": [
        {
          "output_type": "execute_result",
          "data": {
            "text/plain": [
              "Text(0.5, 1.0, 'Top 10 popular movies')"
            ]
          },
          "metadata": {},
          "execution_count": 15
        },
        {
          "output_type": "display_data",
          "data": {
            "text/plain": [
              "<Figure size 720x360 with 1 Axes>"
            ],
            "image/png": "[encoded data removed]"
          },
          "metadata": {}
        }
      ]
    },
    {
      "cell_type": "code",
      "source": [
        "# High budget movies\n",
        "costy = data.sort_values('budget', ascending = False)\n",
        "# Create a new figure\n",
        "fig = plt.figure(figsize = (10, 5))\n",
        "sns.barplot(x = costy['budget'].head(10), y= costy['title_x'].head(10))\n",
        "plt.xlabel('Budget')\n",
        "plt.title('Top 10 expensive movies')"
      ],
      "metadata": {
        "colab": {
          "base_uri": "https://localhost:8080/",
          "height": 367
        },
        "id": "ZPMhRDhjlH4V",
        "outputId": "045ffd22-f2e0-47cb-ed96-30b1b57abbb7"
      },
      "execution_count": null,
      "outputs": [
        {
          "output_type": "execute_result",
          "data": {
            "text/plain": [
              "Text(0.5, 1.0, 'Top 10 expensive movies')"
            ]
          },
          "metadata": {},
          "execution_count": 16
        },
        {
          "output_type": "display_data",
          "data": {
            "text/plain": [
              "<Figure size 720x360 with 1 Axes>"
            ],
            "image/png": "[encoded data removed]"
          },
          "metadata": {}
        }
      ]
    },
    {
      "cell_type": "markdown",
      "source": [
        "Now, what if we wanted to recommend movies based on thier weighted_rating and their popularity scores?"
      ],
      "metadata": {
        "id": "1cLajjym4kps"
      }
    },
    {
      "cell_type": "markdown",
      "source": [
        "### 3. Rank_Popularity Based System\n"
      ],
      "metadata": {
        "id": "jnomNAjt4x6j"
      }
    },
    {
      "cell_type": "code",
      "source": [
        "# First, calculate c, m from the imdb formula\n",
        "c, m = calculate_v_m(data)\n",
        "# Second, get the movies list\n",
        "movies_list = get_movies(data)\n",
        "# apply weighted rating to our dataframe and store the values in weighted_rating\n",
        "movies_list['weighted_rating'] = movies_list.apply(weighted_rating, axis = 1)\n",
        "\n",
        "# Scale our features between 0 and 1\n",
        "from sklearn.preprocessing import MinMaxScaler\n",
        "min_max_scaler = MinMaxScaler()\n",
        "movies_scaled = min_max_scaler.fit_transform(movies_list[['weighted_rating', 'popularity']])\n",
        "movies_norm = pd.DataFrame(movies_scaled, columns = ['weighted_rating', 'popularity'])\n",
        "\n",
        "#display(\"Movies normalized: \", movies_norm.head())\n",
        "#print('-' * 80)\n",
        "\n",
        "# create the two new columns in movies_list dataframe\n",
        "movies_list[['norm_weighted_rating', 'norm_popularity']] = movies_norm\n",
        "# Calculate score based on weighted rating and popularity\n",
        "movies_list['score'] = movies_list['norm_weighted_rating'] * 0.5 + movies_list['popularity'] * 0.5"
      ],
      "metadata": {
        "id": "wC7n1chq46XQ"
      },
      "execution_count": null,
      "outputs": []
    },
    {
      "cell_type": "markdown",
      "source": [
        "Now that we have a new score column that takes into account a movie's weighted average rating and its popularity with a 50/50 split,\n",
        "\n",
        "we can see what our recommender system will offer us:"
      ],
      "metadata": {
        "id": "4Lqj3hWc90yT"
      }
    },
    {
      "cell_type": "code",
      "source": [
        "# Sort the movies based on score\n",
        "movies_scored = movies_list.sort_values(by = 'score', ascending = False)\n",
        "display(movies_scored[['original_title', 'norm_weighted_rating', 'norm_popularity']].head(10))"
      ],
      "metadata": {
        "colab": {
          "base_uri": "https://localhost:8080/",
          "height": 363
        },
        "id": "_jp3G3ZmmS9-",
        "outputId": "8b501df7-42a6-43d5-adac-90c26460ce53"
      },
      "execution_count": null,
      "outputs": [
        {
          "output_type": "display_data",
          "data": {
            "text/plain": [
              "                                        original_title  norm_weighted_rating  \\\n",
              "95                                        Interstellar              0.461405   \n",
              "94                             Guardians of the Galaxy              0.524302   \n",
              "127                                 Mad Max: Fury Road              0.324195   \n",
              "28                                      Jurassic World              0.398475   \n",
              "199  Pirates of the Caribbean: The Curse of the Bla...              0.885651   \n",
              "82                      Dawn of the Planet of the Apes              0.578470   \n",
              "200              The Hunger Games: Mockingjay - Part 1              0.850057   \n",
              "88                                          Big Hero 6              0.362052   \n",
              "108                                 Terminator Genisys              0.543573   \n",
              "26                          Captain America: Civil War              0.469378   \n",
              "\n",
              "     norm_popularity  \n",
              "95          0.059568  \n",
              "94          0.078982  \n",
              "127         0.069861  \n",
              "28          0.087752  \n",
              "199         0.139370  \n",
              "82          0.122453  \n",
              "200         0.120239  \n",
              "88          0.070147  \n",
              "108         0.128946  \n",
              "26          0.038102  "
            ],
            "text/html": [
              "\n",
              "  <div id=\"df-90bee85d-28be-4fb0-a85f-1eb1252e265e\">\n",
              "    <div class=\"colab-df-container\">\n",
              "      <div>\n",
              "<style scoped>\n",
              "    .dataframe tbody tr th:only-of-type {\n",
              "        vertical-align: middle;\n",
              "    }\n",
              "\n",
              "    .dataframe tbody tr th {\n",
              "        vertical-align: top;\n",
              "    }\n",
              "\n",
              "    .dataframe thead th {\n",
              "        text-align: right;\n",
              "    }\n",
              "</style>\n",
              "<table border=\"1\" class=\"dataframe\">\n",
              "  <thead>\n",
              "    <tr style=\"text-align: right;\">\n",
              "      <th></th>\n",
              "      <th>original_title</th>\n",
              "      <th>norm_weighted_rating</th>\n",
              "      <th>norm_popularity</th>\n",
              "    </tr>\n",
              "  </thead>\n",
              "  <tbody>\n",
              "    <tr>\n",
              "      <th>95</th>\n",
              "      <td>Interstellar</td>\n",
              "      <td>0.461405</td>\n",
              "      <td>0.059568</td>\n",
              "    </tr>\n",
              "    <tr>\n",
              "      <th>94</th>\n",
              "      <td>Guardians of the Galaxy</td>\n",
              "      <td>0.524302</td>\n",
              "      <td>0.078982</td>\n",
              "    </tr>\n",
              "    <tr>\n",
              "      <th>127</th>\n",
              "      <td>Mad Max: Fury Road</td>\n",
              "      <td>0.324195</td>\n",
              "      <td>0.069861</td>\n",
              "    </tr>\n",
              "    <tr>\n",
              "      <th>28</th>\n",
              "      <td>Jurassic World</td>\n",
              "      <td>0.398475</td>\n",
              "      <td>0.087752</td>\n",
              "    </tr>\n",
              "    <tr>\n",
              "      <th>199</th>\n",
              "      <td>Pirates of the Caribbean: The Curse of the Bla...</td>\n",
              "      <td>0.885651</td>\n",
              "      <td>0.139370</td>\n",
              "    </tr>\n",
              "    <tr>\n",
              "      <th>82</th>\n",
              "      <td>Dawn of the Planet of the Apes</td>\n",
              "      <td>0.578470</td>\n",
              "      <td>0.122453</td>\n",
              "    </tr>\n",
              "    <tr>\n",
              "      <th>200</th>\n",
              "      <td>The Hunger Games: Mockingjay - Part 1</td>\n",
              "      <td>0.850057</td>\n",
              "      <td>0.120239</td>\n",
              "    </tr>\n",
              "    <tr>\n",
              "      <th>88</th>\n",
              "      <td>Big Hero 6</td>\n",
              "      <td>0.362052</td>\n",
              "      <td>0.070147</td>\n",
              "    </tr>\n",
              "    <tr>\n",
              "      <th>108</th>\n",
              "      <td>Terminator Genisys</td>\n",
              "      <td>0.543573</td>\n",
              "      <td>0.128946</td>\n",
              "    </tr>\n",
              "    <tr>\n",
              "      <th>26</th>\n",
              "      <td>Captain America: Civil War</td>\n",
              "      <td>0.469378</td>\n",
              "      <td>0.038102</td>\n",
              "    </tr>\n",
              "  </tbody>\n",
              "</table>\n",
              "</div>\n",
              "      <button class=\"colab-df-convert\" onclick=\"convertToInteractive('df-90bee85d-28be-4fb0-a85f-1eb1252e265e')\"\n",
              "              title=\"Convert this dataframe to an interactive table.\"\n",
              "              style=\"display:none;\">\n",
              "        \n",
              "  <svg xmlns=\"http://www.w3.org/2000/svg\" height=\"24px\"viewBox=\"0 0 24 24\"\n",
              "       width=\"24px\">\n",
              "    <path d=\"M0 0h24v24H0V0z\" fill=\"none\"/>\n",
              "    <path d=\"M18.56 5.44l.94 2.06.94-2.06 2.06-.94-2.06-.94-.94-2.06-.94 2.06-2.06.94zm-11 1L8.5 8.5l.94-2.06 2.06-.94-2.06-.94L8.5 2.5l-.94 2.06-2.06.94zm10 10l.94 2.06.94-2.06 2.06-.94-2.06-.94-.94-2.06-.94 2.06-2.06.94z\"/><path d=\"M17.41 7.96l-1.37-1.37c-.4-.4-.92-.59-1.43-.59-.52 0-1.04.2-1.43.59L10.3 9.45l-7.72 7.72c-.78.78-.78 2.05 0 2.83L4 21.41c.39.39.9.59 1.41.59.51 0 1.02-.2 1.41-.59l7.78-7.78 2.81-2.81c.8-.78.8-2.07 0-2.86zM5.41 20L4 18.59l7.72-7.72 1.47 1.35L5.41 20z\"/>\n",
              "  </svg>\n",
              "      </button>\n",
              "      \n",
              "  <style>\n",
              "    .colab-df-container {\n",
              "      display:flex;\n",
              "      flex-wrap:wrap;\n",
              "      gap: 12px;\n",
              "    }\n",
              "\n",
              "    .colab-df-convert {\n",
              "      background-color: #E8F0FE;\n",
              "      border: none;\n",
              "      border-radius: 50%;\n",
              "      cursor: pointer;\n",
              "      display: none;\n",
              "      fill: #1967D2;\n",
              "      height: 32px;\n",
              "      padding: 0 0 0 0;\n",
              "      width: 32px;\n",
              "    }\n",
              "\n",
              "    .colab-df-convert:hover {\n",
              "      background-color: #E2EBFA;\n",
              "      box-shadow: 0px 1px 2px rgba(60, 64, 67, 0.3), 0px 1px 3px 1px rgba(60, 64, 67, 0.15);\n",
              "      fill: #174EA6;\n",
              "    }\n",
              "\n",
              "    [theme=dark] .colab-df-convert {\n",
              "      background-color: #3B4455;\n",
              "      fill: #D2E3FC;\n",
              "    }\n",
              "\n",
              "    [theme=dark] .colab-df-convert:hover {\n",
              "      background-color: #434B5C;\n",
              "      box-shadow: 0px 1px 3px 1px rgba(0, 0, 0, 0.15);\n",
              "      filter: drop-shadow(0px 1px 2px rgba(0, 0, 0, 0.3));\n",
              "      fill: #FFFFFF;\n",
              "    }\n",
              "  </style>\n",
              "\n",
              "      <script>\n",
              "        const buttonEl =\n",
              "          document.querySelector('#df-90bee85d-28be-4fb0-a85f-1eb1252e265e button.colab-df-convert');\n",
              "        buttonEl.style.display =\n",
              "          google.colab.kernel.accessAllowed ? 'block' : 'none';\n",
              "\n",
              "        async function convertToInteractive(key) {\n",
              "          const element = document.querySelector('#df-90bee85d-28be-4fb0-a85f-1eb1252e265e');\n",
              "          const dataTable =\n",
              "            await google.colab.kernel.invokeFunction('convertToInteractive',\n",
              "                                                     [key], {});\n",
              "          if (!dataTable) return;\n",
              "\n",
              "          const docLinkHtml = 'Like what you see? Visit the ' +\n",
              "            '<a target=\"_blank\" href=https://colab.research.google.com/notebooks/data_table.ipynb>data table notebook</a>'\n",
              "            + ' to learn more about interactive tables.';\n",
              "          element.innerHTML = '';\n",
              "          dataTable['output_type'] = 'display_data';\n",
              "          await google.colab.output.renderOutput(dataTable, element);\n",
              "          const docLink = document.createElement('div');\n",
              "          docLink.innerHTML = docLinkHtml;\n",
              "          element.appendChild(docLink);\n",
              "        }\n",
              "      </script>\n",
              "    </div>\n",
              "  </div>\n",
              "  "
            ]
          },
          "metadata": {}
        }
      ]
    },
    {
      "cell_type": "code",
      "source": [
        "# Lets visualize our recommendations\n",
        "# Create a new figure\n",
        "fig = plt.figure(figsize = (10, 5))\n",
        "sns.barplot(x = movies_scored['score'].head(10), y= movies_scored['original_title'].head(10), data = movies_scored)\n",
        "plt.xlabel('Score')\n",
        "plt.ylabel('Movie Title')\n",
        "plt.title('Best Rated and Most Popular Blend')\n",
        "plt.show()"
      ],
      "metadata": {
        "colab": {
          "base_uri": "https://localhost:8080/",
          "height": 350
        },
        "id": "bPAQ9gp0leqf",
        "outputId": "2a06c660-e20d-4c7a-f69f-cda7f609ea05"
      },
      "execution_count": null,
      "outputs": [
        {
          "output_type": "display_data",
          "data": {
            "text/plain": [
              "<Figure size 720x360 with 1 Axes>"
            ],
            "image/png": "[encoded data removed]"
          },
          "metadata": {}
        }
      ]
    },
    {
      "cell_type": "markdown",
      "source": [
        "### Limitations of Demographic Filtering\n",
        "\n",
        "Demographic filtering methods do not consider different tastes and interests across all users, and it also do not use any of the movies metadata to recommend movies, so it's very limited.\n",
        "\n",
        "Lets take this to the next level by creating our **Content-Based Recommender System**."
      ],
      "metadata": {
        "id": "_6znkUWGmlxp"
      }
    },
    {
      "cell_type": "markdown",
      "source": [
        "## Content-Based Recommender System\n",
        "\n",
        "In this type of systems, we'll use the movie metadata (overview, crew, cast, keywords, title, duration, etc).\n",
        "\n",
        "but before diving in, we should discuss a few terms sucha as:\n",
        "\n",
        "1.   CountVectorizer\n",
        "2.   TF-IDF Vectorizer\n",
        "3.   Cosine Similarity\n"
      ],
      "metadata": {
        "id": "wWjEoV4jnBb4"
      }
    },
    {
      "cell_type": "markdown",
      "source": [
        "Let's start with the **CountVectorizer()**\n",
        "\n",
        "\n",
        "CountVectorizer is a method to transform text data into numerical representation.\n",
        "\n",
        "It counts number of unique words in a text document and returns a **sparse matrix** containing the word frequency in the document.\n",
        "\n",
        "let's show how it works with an example."
      ],
      "metadata": {
        "id": "eGGxzSfAlFrg"
      }
    },
    {
      "cell_type": "code",
      "source": [
        "text = [\"Hello my name is Mostafa, this is mostafa's jupyter notebook\"]\n",
        "count_vec = CountVectorizer()\n",
        "sparse_matrix = count_vec.fit_transform(text)\n",
        "print(sparse_matrix)\n",
        "print()\n",
        "\n",
        "# Convert sparse matrix to dataframe for better presentation\n",
        "sparse_mat = sparse_matrix.todense()\n",
        "df = pd.DataFrame(sparse_mat, columns = count_vec.get_feature_names_out())\n",
        "print(df)"
      ],
      "metadata": {
        "colab": {
          "base_uri": "https://localhost:8080/"
        },
        "id": "0oib7bHYorlE",
        "outputId": "13cff825-ef3b-4d5c-ed77-6d35246e395a"
      },
      "execution_count": null,
      "outputs": [
        {
          "output_type": "stream",
          "name": "stdout",
          "text": [
            "  (0, 0)\t1\n",
            "  (0, 4)\t1\n",
            "  (0, 5)\t1\n",
            "  (0, 1)\t2\n",
            "  (0, 3)\t2\n",
            "  (0, 7)\t1\n",
            "  (0, 2)\t1\n",
            "  (0, 6)\t1\n",
            "\n",
            "   hello  is  jupyter  mostafa  my  name  notebook  this\n",
            "0      1   2        1        2   1     1         1     1\n"
          ]
        }
      ]
    },
    {
      "cell_type": "markdown",
      "source": [
        "Secondly, **TfidfVectorizer()**\n",
        "\n",
        "Word counts with **CountVectorizer()** is a good start, but very basic.\n",
        "\n",
        "One issue is that some words may appear many times and their large counts is not very meaningful.\n",
        "\n",
        "The Tfidf negates this by using two metrics and multiplying their scores:\n",
        "\n",
        "\n",
        "1.   **Term Frequency**: This summarizes how often a given word appears within a document.\n",
        "\n",
        "2. **Inverse Document Frequency**:  This downscales words that appear a lot across different documents.\n",
        "\n",
        "Without going into tha math, TF-IDF are word scores that try to highlight words that are more interesting, frequent in one documents but not across documents.\n",
        "\n"
      ],
      "metadata": {
        "id": "Nx9NAsyQq-oN"
      }
    },
    {
      "cell_type": "code",
      "source": [
        "text = [\"This is the first document.\", \"This document is the second\"]\n",
        "\n",
        "tf_idf = TfidfVectorizer()\n",
        "sparse_matrix = tf_idf.fit_transform(text)\n",
        "print(sparse_matrix)\n",
        "print()\n",
        "\n",
        "# Convert sparse matrix to dataframe for better presentation\n",
        "sparse_mat = sparse_matrix.todense()\n",
        "df = pd.DataFrame(sparse_mat, columns = tf_idf.get_feature_names_out())\n",
        "print(df)"
      ],
      "metadata": {
        "colab": {
          "base_uri": "https://localhost:8080/"
        },
        "id": "SzhmIX7Dt0zZ",
        "outputId": "0f6afeb3-eeb9-4b20-a195-d1e60be7f6cc"
      },
      "execution_count": null,
      "outputs": [
        {
          "output_type": "stream",
          "name": "stdout",
          "text": [
            "  (0, 0)\t0.40909010368335985\n",
            "  (0, 1)\t0.5749618667993135\n",
            "  (0, 4)\t0.40909010368335985\n",
            "  (0, 2)\t0.40909010368335985\n",
            "  (0, 5)\t0.40909010368335985\n",
            "  (1, 3)\t0.5749618667993135\n",
            "  (1, 0)\t0.40909010368335985\n",
            "  (1, 4)\t0.40909010368335985\n",
            "  (1, 2)\t0.40909010368335985\n",
            "  (1, 5)\t0.40909010368335985\n",
            "\n",
            "   document     first       is    second      the     this\n",
            "0   0.40909  0.574962  0.40909  0.000000  0.40909  0.40909\n",
            "1   0.40909  0.000000  0.40909  0.574962  0.40909  0.40909\n"
          ]
        }
      ]
    },
    {
      "cell_type": "markdown",
      "source": [
        "Let's start simple, I will use the 'overview column' to recommend movies to the user. This 'overview' column contains movie description."
      ],
      "metadata": {
        "id": "EJl3Voprdxkb"
      }
    },
    {
      "cell_type": "code",
      "source": [
        "# Overview Column\n",
        "data['overview'].head(10)"
      ],
      "metadata": {
        "id": "Y-H2gBB2nEIQ",
        "colab": {
          "base_uri": "https://localhost:8080/"
        },
        "outputId": "3db48a80-0f0e-4fa8-8bc7-4f7949b2b5e1"
      },
      "execution_count": null,
      "outputs": [
        {
          "output_type": "execute_result",
          "data": {
            "text/plain": [
              "0    In the 22nd century, a paraplegic Marine is di...\n",
              "1    Captain Barbossa, long believed to be dead, ha...\n",
              "2    A cryptic message from Bond’s past sends him o...\n",
              "3    Following the death of District Attorney Harve...\n",
              "4    John Carter is a war-weary, former military ca...\n",
              "5    The seemingly invincible Spider-Man goes up ag...\n",
              "6    When the kingdom's most wanted-and most charmi...\n",
              "7    When Tony Stark tries to jumpstart a dormant p...\n",
              "8    As Harry begins his sixth year at Hogwarts, he...\n",
              "9    Fearing the actions of a god-like Super Hero l...\n",
              "Name: overview, dtype: object"
            ]
          },
          "metadata": {},
          "execution_count": 22
        }
      ]
    },
    {
      "cell_type": "markdown",
      "source": [
        "To compute the cosine similarity between movies, you need the word counts in each movie metadata.\n",
        "\n",
        "The **CountVectorizer** or the **TfidfVectorizer** from scikit learn lets us compute this.\n",
        "\n",
        "\n",
        "Now, we'll define TF-IDF Vectorizer object which will remove the stop words in english from our corpus. Stop words are words like 'are', 'the' , 'on' etc which do not provide any meaningful information to our data analysis. Also, we will replace the Null values with an empty string."
      ],
      "metadata": {
        "id": "gJ9wDLhUs7ZT"
      }
    },
    {
      "cell_type": "code",
      "source": [
        "from sklearn.feature_extraction.text import TfidfVectorizer\n",
        "# Define a TF-IDF vectorizer object and remove stop words\n",
        "tfidf = TfidfVectorizer(stop_words = 'english')\n",
        "\n",
        "# Replace Nulls with an empty string\n",
        "data['overview'] = data.overview.fillna('')\n",
        "\n",
        "# Make the vectorizer matrix by fitting and transforming our data\n",
        "tfidf_matrix = tfidf.fit_transform(data['overview'])\n",
        "\n",
        "# Print the output shape of the matrix\n",
        "print(tfidf_matrix.shape)\n",
        "\n",
        "# See how many words our vectorizer uses as features\n",
        "print(len(tfidf.get_feature_names_out()))\n",
        "\n",
        "# Convert sparse matrix to dataframe if you want to see\n",
        "# word frequencies\n",
        "doc_term_matrix = tfidf_matrix.todense()\n",
        "word_freqs = pd.DataFrame(doc_term_matrix, columns = tfidf.get_feature_names_out())"
      ],
      "metadata": {
        "colab": {
          "base_uri": "https://localhost:8080/"
        },
        "id": "N91HV7r9swDW",
        "outputId": "34c85b59-6199-466d-9a34-9bf3ca6f6042"
      },
      "execution_count": null,
      "outputs": [
        {
          "output_type": "stream",
          "name": "stdout",
          "text": [
            "(4803, 20978)\n",
            "20978\n"
          ]
        }
      ]
    },
    {
      "cell_type": "markdown",
      "source": [
        "We see that over 20,000 different words were used to describe the 4800 movies in our dataset.\n",
        "\n",
        "We first need calculate the cosine similarity matrix.\n",
        "\n",
        "But how do we calculate it?"
      ],
      "metadata": {
        "id": "Jh-Glet8zBmQ"
      }
    },
    {
      "cell_type": "markdown",
      "source": [
        "Since we have used the sparse matrix returned to us by TF-IDF Vectorizer, calculating the dot product will directly give us the cosine similarity score. \n",
        "\n",
        "x.y = ||x||.||y||.cos(θ)\n",
        "\n",
        "So cos(θ) = (x.y) / (||x|| ||y||)\n",
        "\n",
        "We will use sklearn's linear_kernel() to calculate the dot product instead of cosine_similarities() since it is faster.\n",
        "\n"
      ],
      "metadata": {
        "id": "uBuHfZFD1gx9"
      }
    },
    {
      "cell_type": "code",
      "source": [
        "# Calculating the cosine similarity matrix\n",
        "cosine_sim = linear_kernel(tfidf_matrix, tfidf_matrix)\n",
        "print(\"Cosine Similarity Matrix Shape: \",cosine_sim.shape)"
      ],
      "metadata": {
        "colab": {
          "base_uri": "https://localhost:8080/"
        },
        "id": "gv8D0_mgtd77",
        "outputId": "adfc6d07-566b-4673-ed22-0240472726a9"
      },
      "execution_count": null,
      "outputs": [
        {
          "output_type": "stream",
          "name": "stdout",
          "text": [
            "Cosine Similarity Matrix Shape:  (4803, 4803)\n"
          ]
        }
      ]
    },
    {
      "cell_type": "markdown",
      "source": [
        "Now, we'll do a reverse mapping of the movie titles and indices of the dataframe which will help identify the index of a movie in our metadata dataframe."
      ],
      "metadata": {
        "id": "d9AVEY0Vzh-R"
      }
    },
    {
      "cell_type": "code",
      "source": [
        "indices = pd.Series(data.index, index = data['title_x'])\n",
        "print(indices.head())"
      ],
      "metadata": {
        "colab": {
          "base_uri": "https://localhost:8080/"
        },
        "id": "exoNrSYhzgKx",
        "outputId": "af2ba46f-b544-43d7-b0d0-8041b1b26a82"
      },
      "execution_count": null,
      "outputs": [
        {
          "output_type": "stream",
          "name": "stdout",
          "text": [
            "title_x\n",
            "Avatar                                      0\n",
            "Pirates of the Caribbean: At World's End    1\n",
            "Spectre                                     2\n",
            "The Dark Knight Rises                       3\n",
            "John Carter                                 4\n",
            "dtype: int64\n"
          ]
        }
      ]
    },
    {
      "cell_type": "code",
      "source": [
        "## Testing cell ##\n",
        "\n",
        "# Print similarity scores between 1st movie and rest of movies.\n",
        "for i in range(6):\n",
        "    print(cosine_sim[0][i])\n",
        "\n",
        "print()\n",
        "# Print similarity scores with movie indices for 1st movie\n",
        "# (index, similarity)\n",
        "m1_sim_scores = list(enumerate(cosine_sim[0]))\n",
        "print(m1_sim_scores[0])\n",
        "\n",
        "print()\n",
        "# Similarity score of 1st movie with itself\n",
        "print(m1_sim_scores[0][1])\n",
        "\n",
        "print()\n",
        "# Sort similarity scores list for 1st movie\n",
        "m1_scores_sorted = sorted(m1_sim_scores, key = lambda x: x[1], reverse = True) # reverse = True for descending order\n",
        "print(m1_scores_sorted[0])\n",
        "\n",
        "# Print top 10 similar movies \n",
        "# Ignore 1st element as it refers to the movie entered to function\n",
        "m1_scores_sorted[1:11]"
      ],
      "metadata": {
        "colab": {
          "base_uri": "https://localhost:8080/"
        },
        "id": "FS-OIRYu5zao",
        "outputId": "0f3c40e4-856f-474f-ddf8-c4e4bc8e8a5e"
      },
      "execution_count": null,
      "outputs": [
        {
          "output_type": "stream",
          "name": "stdout",
          "text": [
            "1.0\n",
            "0.0\n",
            "0.0\n",
            "0.0249951158376727\n",
            "0.0\n",
            "0.0303525438443129\n",
            "\n",
            "(0, 1.0)\n",
            "\n",
            "1.0\n",
            "\n",
            "(0, 1.0)\n"
          ]
        },
        {
          "output_type": "execute_result",
          "data": {
            "text/plain": [
              "[(3604, 0.18681001056212054),\n",
              " (2130, 0.17015105119162663),\n",
              " (634, 0.13230696630317224),\n",
              " (1341, 0.12393264590871879),\n",
              " (529, 0.12248959164893028),\n",
              " (1610, 0.10469903037615635),\n",
              " (311, 0.10091388184065117),\n",
              " (847, 0.09799623121705058),\n",
              " (775, 0.09447938436890335),\n",
              " (2628, 0.09313854469530522)]"
            ]
          },
          "metadata": {},
          "execution_count": 50
        }
      ]
    },
    {
      "cell_type": "markdown",
      "source": [
        "Finally, we define a function that we return movie recommendations based on movie title entered by user.\n",
        "\n",
        "There are the steps will follow:\n",
        "\n",
        "\n",
        "1.   Get the index of the movie given its title\n",
        "\n",
        "2.   Get the list of cosine similarity scores for that particular movie. Convert it to a list of tuples where as first element is the index of the movie and the second is its similarity score to a certain movie\n",
        "\n",
        "3. Sort the list of tuples based on similarity scores\n",
        "\n",
        "4. Get the top n elements of this list (ignore the first element as it describes a movie cosine similarity to itself)\n",
        "\n",
        "5. Return the titles corresponding to indices of top n elements\n",
        "\n"
      ],
      "metadata": {
        "id": "mb1jI0q91gDn"
      }
    },
    {
      "cell_type": "code",
      "source": [
        "def get_content_recommendations(title, cosine_sim = cosine_sim, n_movies = 10):\n",
        "    # Fetch index that matches movie title\n",
        "    indx = indices[title]\n",
        "\n",
        "    # Pairwise similarity scores of all movies with movie entered\n",
        "    # Convert it into a list of tuples, where first element in tuple\n",
        "    # is movie index, and the second is its similarity score.\n",
        "    sim_scores = list(enumerate(cosine_sim[indx]))\n",
        "\n",
        "    # Scoring movies based on similarity scores\n",
        "    sim_scores = sorted(sim_scores, key = lambda x: x[1], reverse = True)\n",
        "\n",
        "    # Scores of the top n similar movies\n",
        "    sim_scores = sim_scores[1: n_movies + 1]\n",
        "\n",
        "    # Fetch the movies indices\n",
        "    movies_indices = [i[0] for i in sim_scores]\n",
        "\n",
        "    # Return the top n similar movies\n",
        "    return data['original_title'].iloc[movies_indices]"
      ],
      "metadata": {
        "id": "c69jH5d0z5_a"
      },
      "execution_count": null,
      "outputs": []
    },
    {
      "cell_type": "markdown",
      "source": [
        "Now, the user can enter the movie title and get recommendations"
      ],
      "metadata": {
        "id": "qrdedLDM8l6O"
      }
    },
    {
      "cell_type": "code",
      "source": [
        "# Test 1\n",
        "get_content_recommendations('Fight Club')"
      ],
      "metadata": {
        "colab": {
          "base_uri": "https://localhost:8080/"
        },
        "id": "w5VfDHgc8va2",
        "outputId": "46fc444d-71ec-49c1-89f9-7b9c3f29b2e3"
      },
      "execution_count": null,
      "outputs": [
        {
          "output_type": "execute_result",
          "data": {
            "text/plain": [
              "3619                      UHF\n",
              "2828                Project X\n",
              "2585          The Hurt Locker\n",
              "2344              Raging Bull\n",
              "2023               The Animal\n",
              "1414      Blast from the Past\n",
              "4044               Go for It!\n",
              "3515             Freaky Deaky\n",
              "4045    Dancer, Texas Pop. 81\n",
              "4760    This Is Martin Bonner\n",
              "Name: original_title, dtype: object"
            ]
          },
          "metadata": {},
          "execution_count": 28
        }
      ]
    },
    {
      "cell_type": "code",
      "source": [
        "# Test 2\n",
        "get_content_recommendations('Avatar')"
      ],
      "metadata": {
        "colab": {
          "base_uri": "https://localhost:8080/"
        },
        "id": "wkucQ7wd80c0",
        "outputId": "983ba213-b39c-447d-b96a-7e51541a3dd6"
      },
      "execution_count": null,
      "outputs": [
        {
          "output_type": "execute_result",
          "data": {
            "text/plain": [
              "3604                       Apollo 18\n",
              "2130                    The American\n",
              "634                       The Matrix\n",
              "1341                Obitaemyy Ostrov\n",
              "529                 Tears of the Sun\n",
              "1610                           Hanna\n",
              "311     The Adventures of Pluto Nash\n",
              "847                         Semi-Pro\n",
              "775                        Supernova\n",
              "2628             Blood and Chocolate\n",
              "Name: original_title, dtype: object"
            ]
          },
          "metadata": {},
          "execution_count": 29
        }
      ]
    },
    {
      "cell_type": "code",
      "source": [
        "# Test 3\n",
        "get_content_recommendations('The Godfather')"
      ],
      "metadata": {
        "colab": {
          "base_uri": "https://localhost:8080/"
        },
        "id": "HWkQM9k6wMin",
        "outputId": "5fe70add-9905-4f2a-8cd5-a4f1f28213c3"
      },
      "execution_count": null,
      "outputs": [
        {
          "output_type": "execute_result",
          "data": {
            "text/plain": [
              "2731     The Godfather: Part II\n",
              "1873                 Blood Ties\n",
              "867     The Godfather: Part III\n",
              "3727                Snabba Cash\n",
              "3623                       Made\n",
              "3125                     Eulogy\n",
              "3896                   Sinister\n",
              "4506            The Maid's Room\n",
              "3783                        Joe\n",
              "2244      The Cold Light of Day\n",
              "Name: original_title, dtype: object"
            ]
          },
          "metadata": {},
          "execution_count": 30
        }
      ]
    },
    {
      "cell_type": "markdown",
      "source": [
        "### Data Cleaning\n",
        "\n",
        "What we did above was by using the 'overview' feature and TF-IDF Vectorizer object to get recommendations. Lets now blend 'genres', 'crew', and 'keywords' in.\n",
        "\n",
        "This will help increase the accuracy of our recommendation as these features are better metadata than 'overview'.\n",
        "\n",
        "The first step is to read the stringfield attribute features into their respective python objects."
      ],
      "metadata": {
        "id": "Tx1FshBFHbuT"
      }
    },
    {
      "cell_type": "code",
      "source": [
        "pd.set_option('display.max_colwidth', -1)\n",
        "# Take a look at our features\n",
        "data[['genres', 'crew', 'keywords']][:1]"
      ],
      "metadata": {
        "colab": {
          "base_uri": "https://localhost:8080/",
          "height": 1000
        },
        "id": "IiPT0pA-DINy",
        "outputId": "82ff1650-e893-4375-dc6f-4ff7554953f5"
      },
      "execution_count": null,
      "outputs": [
        {
          "output_type": "stream",
          "name": "stderr",
          "text": [
            "/usr/local/lib/python3.7/dist-packages/ipykernel_launcher.py:1: FutureWarning: Passing a negative integer is deprecated in version 1.0 and will not be supported in future version. Instead, use None to not limit the column width.\n",
            "  \"\"\"Entry point for launching an IPython kernel.\n"
          ]
        },
        {
          "output_type": "execute_result",
          "data": {
            "text/plain": [
              "                                                                                                                                   genres  \\\n",
              "0  [{\"id\": 28, \"name\": \"Action\"}, {\"id\": 12, \"name\": \"Adventure\"}, {\"id\": 14, \"name\": \"Fantasy\"}, {\"id\": 878, \"name\": \"Science Fiction\"}]   \n",
              "\n",
              "                                                                                                                                                                                                                                                                                                                                                                                                                                                                                                                                                                                                                                                                                                                                                                                                                                                                                                                                                                                                                                                                                                                                                                                                                                                                                                                                                                                                                                                                                                                                                                                                                                                                                                                                                                                                                                                                                                                                                                                                                                                                                                                                                                                                                                                                                                                                                                                                                                                                                                                                                                                                                                                                                                                                                                                                                                                                                                                                                                                                                                                                                                                                                                                                                                                                                                                                                                                                                                                                                                                                                                                                                                                                                                                                                                                                                                                                                                                                                                                                                                                                                                                                                                                                                                                                                                                                                                                                                                                                                                                                                                                                                                                                                                                                                                                                                                                                                                                                                                                                                                                                                                                                                                                                                                                                                                                                                                                                                                                                                                                                                                                                                                                                                                                                                                                                                                                                                                                                                                                                                                                                                                                                                                                                                                                                                                                                                                                                                                                                                                                                                                                                                                                                                                                                                                                                                                                                                                                                                                                                                                                                                                                                                                                                                                                                                                                                                                                                                                                                                                                                                                                                                                                                                                                                                                                                                                                                                                                                                                                                                                                                                                                                                                                                                                                                                                                                                                                                                                                                                                                                                                                                                                                                                                                                                                                                                                                                                                                                                                                                                                                                                                                                                                                                                                                                                                                                                                                                                                                                                                                                                                                                                                                                                                                                                                                                                                                                                                                                                                                                                                                                                                                                                                                                                                                                                                                                                                                                                                                                                                                                                                                                                                                                                                                                                                                                                                                                                                                                                                                                                                                                                                                                                                                                                                                                                                                                                                                                                                                                                                                                                                                                                                                                                                                                                                                                                                                                                                                                                                                                                                                                                                                                                                                                                                                                                                                                                                                                                                                                                                                                                                                                                                                                                                                                                                                                                                                                                                                                                                                                                                                                                                                                                                                                                                                                                                                                                                                                                                                                                                                                                                                                                                                                                                                                                                                                                                                                                                                                                                                                                                                                                                                                                                                                                                                                                                                                                                                                                                                                                                                                                                                                                                                                                                                                                                                                                                                                                                                                                                                                                                                                                                                                                                                                                                                                                                                                                                                                                                                                                                                                                                                                                                                                                                                                                                                                                                                                                                                                                                                                                                                                                                                                                                                                                                                                                                                                                                                                                                                                                                                                                                                                                                                                                                                                                                                                                                                                                                                                                                                                                                                                                                                                                                                                                                                                                                                                                                                                                                                                                                                                                                                                                                                                                                                                                                                                                                                                                                                                                                                                                                                                                                                                                                                                                                                                                                                                                                                                                                                                                                                                                                                                                                                                                                                                                                                                                                                                                                                                                                                                                                                                                                                                                                                                                                                                                                                                                                                                                                                                                                                                                                                                                                                                                                                                                                                                                                                                                                                                                                                                                                                                                                                                                                                                                                                                                                                                                                                                                                                                                                                                                                                                                                                                                                                                                                                                                                                                                                                                                                                                                                                                                                                                                                                                                                                                                                                                                                                                                                                                                                                                                                                                                                                                                                                                                                                                                                                                                                                                                                                                                                                                                                                                                                                                                                                                                                                                                                                                                                                                                                                                                                                                                                                                                                                                                                                                                                                                                                                                                                                                                                                                                                                                                                                                                                                                                                                                                                                                                                                                                                                                                                                                                                                                                                                                                                              crew  \\\n",
              "0  [{\"credit_id\": \"52fe48009251416c750aca23\", \"department\": \"Editing\", \"gender\": 0, \"id\": 1721, \"job\": \"Editor\", \"name\": \"Stephen E. Rivkin\"}, {\"credit_id\": \"539c47ecc3a36810e3001f87\", \"department\": \"Art\", \"gender\": 2, \"id\": 496, \"job\": \"Production Design\", \"name\": \"Rick Carter\"}, {\"credit_id\": \"54491c89c3a3680fb4001cf7\", \"department\": \"Sound\", \"gender\": 0, \"id\": 900, \"job\": \"Sound Designer\", \"name\": \"Christopher Boyes\"}, {\"credit_id\": \"54491cb70e0a267480001bd0\", \"department\": \"Sound\", \"gender\": 0, \"id\": 900, \"job\": \"Supervising Sound Editor\", \"name\": \"Christopher Boyes\"}, {\"credit_id\": \"539c4a4cc3a36810c9002101\", \"department\": \"Production\", \"gender\": 1, \"id\": 1262, \"job\": \"Casting\", \"name\": \"Mali Finn\"}, {\"credit_id\": \"5544ee3b925141499f0008fc\", \"department\": \"Sound\", \"gender\": 2, \"id\": 1729, \"job\": \"Original Music Composer\", \"name\": \"James Horner\"}, {\"credit_id\": \"52fe48009251416c750ac9c3\", \"department\": \"Directing\", \"gender\": 2, \"id\": 2710, \"job\": \"Director\", \"name\": \"James Cameron\"}, {\"credit_id\": \"52fe48009251416c750ac9d9\", \"department\": \"Writing\", \"gender\": 2, \"id\": 2710, \"job\": \"Writer\", \"name\": \"James Cameron\"}, {\"credit_id\": \"52fe48009251416c750aca17\", \"department\": \"Editing\", \"gender\": 2, \"id\": 2710, \"job\": \"Editor\", \"name\": \"James Cameron\"}, {\"credit_id\": \"52fe48009251416c750aca29\", \"department\": \"Production\", \"gender\": 2, \"id\": 2710, \"job\": \"Producer\", \"name\": \"James Cameron\"}, {\"credit_id\": \"52fe48009251416c750aca3f\", \"department\": \"Writing\", \"gender\": 2, \"id\": 2710, \"job\": \"Screenplay\", \"name\": \"James Cameron\"}, {\"credit_id\": \"539c4987c3a36810ba0021a4\", \"department\": \"Art\", \"gender\": 2, \"id\": 7236, \"job\": \"Art Direction\", \"name\": \"Andrew Menzies\"}, {\"credit_id\": \"549598c3c3a3686ae9004383\", \"department\": \"Visual Effects\", \"gender\": 0, \"id\": 6690, \"job\": \"Visual Effects Producer\", \"name\": \"Jill Brooks\"}, {\"credit_id\": \"52fe48009251416c750aca4b\", \"department\": \"Production\", \"gender\": 1, \"id\": 6347, \"job\": \"Casting\", \"name\": \"Margery Simkin\"}, {\"credit_id\": \"570b6f419251417da70032fe\", \"department\": \"Art\", \"gender\": 2, \"id\": 6878, \"job\": \"Supervising Art Director\", \"name\": \"Kevin Ishioka\"}, {\"credit_id\": \"5495a0fac3a3686ae9004468\", \"department\": \"Sound\", \"gender\": 0, \"id\": 6883, \"job\": \"Music Editor\", \"name\": \"Dick Bernstein\"}, {\"credit_id\": \"54959706c3a3686af3003e81\", \"department\": \"Sound\", \"gender\": 0, \"id\": 8159, \"job\": \"Sound Effects Editor\", \"name\": \"Shannon Mills\"}, {\"credit_id\": \"54491d58c3a3680fb1001ccb\", \"department\": \"Sound\", \"gender\": 0, \"id\": 8160, \"job\": \"Foley\", \"name\": \"Dennie Thorpe\"}, {\"credit_id\": \"54491d6cc3a3680fa5001b2c\", \"department\": \"Sound\", \"gender\": 0, \"id\": 8163, \"job\": \"Foley\", \"name\": \"Jana Vance\"}, {\"credit_id\": \"52fe48009251416c750aca57\", \"department\": \"Costume & Make-Up\", \"gender\": 1, \"id\": 8527, \"job\": \"Costume Design\", \"name\": \"Deborah Lynn Scott\"}, {\"credit_id\": \"52fe48009251416c750aca2f\", \"department\": \"Production\", \"gender\": 2, \"id\": 8529, \"job\": \"Producer\", \"name\": \"Jon Landau\"}, {\"credit_id\": \"539c4937c3a36810ba002194\", \"department\": \"Art\", \"gender\": 0, \"id\": 9618, \"job\": \"Art Direction\", \"name\": \"Sean Haworth\"}, {\"credit_id\": \"539c49b6c3a36810c10020e6\", \"department\": \"Art\", \"gender\": 1, \"id\": 12653, \"job\": \"Set Decoration\", \"name\": \"Kim Sinclair\"}, {\"credit_id\": \"570b6f2f9251413a0e00020d\", \"department\": \"Art\", \"gender\": 1, \"id\": 12653, \"job\": \"Supervising Art Director\", \"name\": \"Kim Sinclair\"}, {\"credit_id\": \"54491a6c0e0a26748c001b19\", \"department\": \"Art\", \"gender\": 2, \"id\": 14350, \"job\": \"Set Designer\", \"name\": \"Richard F. Mays\"}, {\"credit_id\": \"56928cf4c3a3684cff0025c4\", \"department\": \"Production\", \"gender\": 1, \"id\": 20294, \"job\": \"Executive Producer\", \"name\": \"Laeta Kalogridis\"}, {\"credit_id\": \"52fe48009251416c750aca51\", \"department\": \"Costume & Make-Up\", \"gender\": 0, \"id\": 17675, \"job\": \"Costume Design\", \"name\": \"Mayes C. Rubeo\"}, {\"credit_id\": \"52fe48009251416c750aca11\", \"department\": \"Camera\", \"gender\": 2, \"id\": 18265, \"job\": \"Director of Photography\", \"name\": \"Mauro Fiore\"}, {\"credit_id\": \"5449194d0e0a26748f001b39\", \"department\": \"Art\", \"gender\": 0, \"id\": 42281, \"job\": \"Set Designer\", \"name\": \"Scott Herbertson\"}, {\"credit_id\": \"52fe48009251416c750aca05\", \"department\": \"Crew\", \"gender\": 0, \"id\": 42288, \"job\": \"Stunts\", \"name\": \"Woody Schultz\"}, {\"credit_id\": \"5592aefb92514152de0010f5\", \"department\": \"Costume & Make-Up\", \"gender\": 0, \"id\": 29067, \"job\": \"Makeup Artist\", \"name\": \"Linda DeVetta\"}, {\"credit_id\": \"5592afa492514152de00112c\", \"department\": \"Costume & Make-Up\", \"gender\": 0, \"id\": 29067, \"job\": \"Hairstylist\", \"name\": \"Linda DeVetta\"}, {\"credit_id\": \"54959ed592514130fc002e5d\", \"department\": \"Camera\", \"gender\": 2, \"id\": 33302, \"job\": \"Camera Operator\", \"name\": \"Richard Bluck\"}, {\"credit_id\": \"539c4891c3a36810ba002147\", \"department\": \"Art\", \"gender\": 2, \"id\": 33303, \"job\": \"Art Direction\", \"name\": \"Simon Bright\"}, {\"credit_id\": \"54959c069251417a81001f3a\", \"department\": \"Visual Effects\", \"gender\": 0, \"id\": 113145, \"job\": \"Visual Effects Supervisor\", \"name\": \"Richard Martin\"}, {\"credit_id\": \"54959a0dc3a3680ff5002c8d\", \"department\": \"Crew\", \"gender\": 2, \"id\": 58188, \"job\": \"Visual Effects Editor\", \"name\": \"Steve R. Moore\"}, {\"credit_id\": \"52fe48009251416c750aca1d\", \"department\": \"Editing\", \"gender\": 2, \"id\": 58871, \"job\": \"Editor\", \"name\": \"John Refoua\"}, {\"credit_id\": \"54491a4dc3a3680fc30018ca\", \"department\": \"Art\", \"gender\": 0, \"id\": 92359, \"job\": \"Set Designer\", \"name\": \"Karl J. Martin\"}, {\"credit_id\": \"52fe48009251416c750aca35\", \"department\": \"Camera\", \"gender\": 1, \"id\": 72201, \"job\": \"Director of Photography\", \"name\": \"Chiling Lin\"}, {\"credit_id\": \"52fe48009251416c750ac9ff\", \"department\": \"Crew\", \"gender\": 0, \"id\": 89714, \"job\": \"Stunts\", \"name\": \"Ilram Choi\"}, {\"credit_id\": \"54959c529251416e2b004394\", \"department\": \"Visual Effects\", \"gender\": 2, \"id\": 93214, \"job\": \"Visual Effects Supervisor\", \"name\": \"Steven Quale\"}, {\"credit_id\": \"54491edf0e0a267489001c37\", \"department\": \"Crew\", \"gender\": 1, \"id\": 122607, \"job\": \"Dialect Coach\", \"name\": \"Carla Meyer\"}, {\"credit_id\": \"539c485bc3a368653d001a3a\", \"department\": \"Art\", \"gender\": 2, \"id\": 132585, \"job\": \"Art Direction\", \"name\": \"Nick Bassett\"}, {\"credit_id\": \"539c4903c3a368653d001a74\", \"department\": \"Art\", \"gender\": 0, \"id\": 132596, \"job\": \"Art Direction\", \"name\": \"Jill Cormack\"}, {\"credit_id\": \"539c4967c3a368653d001a94\", \"department\": \"Art\", \"gender\": 0, \"id\": 132604, \"job\": \"Art Direction\", \"name\": \"Andy McLaren\"}, {\"credit_id\": \"52fe48009251416c750aca45\", \"department\": \"Crew\", \"gender\": 0, \"id\": 236696, \"job\": \"Motion Capture Artist\", \"name\": \"Terry Notary\"}, {\"credit_id\": \"54959e02c3a3680fc60027d2\", \"department\": \"Crew\", \"gender\": 2, \"id\": 956198, \"job\": \"Stunt Coordinator\", \"name\": \"Garrett Warren\"}, {\"credit_id\": \"54959ca3c3a3686ae300438c\", \"department\": \"Visual Effects\", \"gender\": 2, \"id\": 957874, \"job\": \"Visual Effects Supervisor\", \"name\": \"Jonathan Rothbart\"}, {\"credit_id\": \"570b6f519251412c74001b2f\", \"department\": \"Art\", \"gender\": 0, \"id\": 957889, \"job\": \"Supervising Art Director\", \"name\": \"Stefan Dechant\"}, {\"credit_id\": \"570b6f62c3a3680b77007460\", \"department\": \"Art\", \"gender\": 2, \"id\": 959555, \"job\": \"Supervising Art Director\", \"name\": \"Todd Cherniawsky\"}, {\"credit_id\": \"539c4a3ac3a36810da0021cc\", \"department\": \"Production\", \"gender\": 0, \"id\": 1016177, \"job\": \"Casting\", \"name\": \"Miranda Rivers\"}, {\"credit_id\": \"539c482cc3a36810c1002062\", \"department\": \"Art\", \"gender\": 0, \"id\": 1032536, \"job\": \"Production Design\", \"name\": \"Robert Stromberg\"}, {\"credit_id\": \"539c4b65c3a36810c9002125\", \"department\": \"Costume & Make-Up\", \"gender\": 2, \"id\": 1071680, \"job\": \"Costume Design\", \"name\": \"John Harding\"}, {\"credit_id\": \"54959e6692514130fc002e4e\", \"department\": \"Camera\", \"gender\": 0, \"id\": 1177364, \"job\": \"Steadicam Operator\", \"name\": \"Roberto De Angelis\"}, {\"credit_id\": \"539c49f1c3a368653d001aac\", \"department\": \"Costume & Make-Up\", \"gender\": 2, \"id\": 1202850, \"job\": \"Makeup Department Head\", \"name\": \"Mike Smithson\"}, {\"credit_id\": \"5495999ec3a3686ae100460c\", \"department\": \"Visual Effects\", \"gender\": 0, \"id\": 1204668, \"job\": \"Visual Effects Producer\", \"name\": \"Alain Lalanne\"}, {\"credit_id\": \"54959cdfc3a3681153002729\", \"department\": \"Visual Effects\", \"gender\": 0, \"id\": 1206410, \"job\": \"Visual Effects Supervisor\", \"name\": \"Lucas Salton\"}, {\"credit_id\": \"549596239251417a81001eae\", \"department\": \"Crew\", \"gender\": 0, \"id\": 1234266, \"job\": \"Post Production Supervisor\", \"name\": \"Janace Tashjian\"}, {\"credit_id\": \"54959c859251416e1e003efe\", \"department\": \"Visual Effects\", \"gender\": 0, \"id\": 1271932, \"job\": \"Visual Effects Supervisor\", \"name\": \"Stephen Rosenbaum\"}, {\"credit_id\": \"5592af28c3a368775a00105f\", \"department\": \"Costume & Make-Up\", \"gender\": 0, \"id\": 1310064, \"job\": \"Makeup Artist\", \"name\": \"Frankie Karena\"}, {\"credit_id\": \"539c4adfc3a36810e300203b\", \"department\": \"Costume & Make-Up\", \"gender\": 1, \"id\": 1319844, \"job\": \"Costume Supervisor\", \"name\": \"Lisa Lovaas\"}, {\"credit_id\": \"54959b579251416e2b004371\", \"department\": \"Visual Effects\", \"gender\": 0, \"id\": 1327028, \"job\": \"Visual Effects Supervisor\", \"name\": \"Jonathan Fawkner\"}, {\"credit_id\": \"539c48a7c3a36810b5001fa7\", \"department\": \"Art\", \"gender\": 0, \"id\": 1330561, \"job\": \"Art Direction\", \"name\": \"Robert Bavin\"}, {\"credit_id\": \"539c4a71c3a36810da0021e0\", \"department\": \"Costume & Make-Up\", \"gender\": 0, \"id\": 1330567, \"job\": \"Costume Supervisor\", \"name\": \"Anthony Almaraz\"}, {\"credit_id\": \"539c4a8ac3a36810ba0021e4\", \"department\": \"Costume & Make-Up\", \"gender\": 0, \"id\": 1330570, \"job\": \"Costume Supervisor\", \"name\": \"Carolyn M. Fenton\"}, {\"credit_id\": \"539c4ab6c3a36810da0021f0\", \"department\": \"Costume & Make-Up\", \"gender\": 0, \"id\": 1330574, \"job\": \"Costume Supervisor\", \"name\": \"Beth Koenigsberg\"}, {\"credit_id\": \"54491ab70e0a267480001ba2\", \"department\": \"Art\", \"gender\": 0, \"id\": 1336191, \"job\": \"Set Designer\", \"name\": \"Sam Page\"}, {\"credit_id\": \"544919d9c3a3680fc30018bd\", \"department\": \"Art\", \"gender\": 0, \"id\": 1339441, \"job\": \"Set Designer\", \"name\": \"Tex Kadonaga\"}, {\"credit_id\": \"54491cf50e0a267483001b0c\", \"department\": \"Editing\", \"gender\": 0, \"id\": 1352422, \"job\": \"Dialogue Editor\", \"name\": \"Kim Foscato\"}, {\"credit_id\": \"544919f40e0a26748c001b09\", \"department\": \"Art\", \"gender\": 0, \"id\": 1352962, \"job\": \"Set Designer\", \"name\": \"Tammy S. Lee\"}, {\"credit_id\": \"5495a115c3a3680ff5002d71\", \"department\": \"Crew\", \"gender\": 0, \"id\": 1357070, \"job\": \"Transportation Coordinator\", \"name\": \"Denny Caira\"}, {\"credit_id\": \"5495a12f92514130fc002e94\", \"department\": \"Crew\", \"gender\": 0, \"id\": 1357071, \"job\": \"Transportation Coordinator\", \"name\": \"James Waitkus\"}, {\"credit_id\": \"5495976fc3a36811530026b0\", \"department\": \"Sound\", \"gender\": 0, \"id\": 1360103, \"job\": \"Supervising Sound Editor\", \"name\": \"Addison Teague\"}, {\"credit_id\": \"54491837c3a3680fb1001c5a\", \"department\": \"Art\", \"gender\": 2, \"id\": 1376887, \"job\": \"Set Designer\", \"name\": \"C. Scott Baker\"}, {\"credit_id\": \"54491878c3a3680fb4001c9d\", \"department\": \"Art\", \"gender\": 0, \"id\": 1376888, \"job\": \"Set Designer\", \"name\": \"Luke Caska\"}, {\"credit_id\": \"544918dac3a3680fa5001ae0\", \"department\": \"Art\", \"gender\": 0, \"id\": 1376889, \"job\": \"Set Designer\", \"name\": \"David Chow\"}, {\"credit_id\": \"544919110e0a267486001b68\", \"department\": \"Art\", \"gender\": 0, \"id\": 1376890, \"job\": \"Set Designer\", \"name\": \"Jonathan Dyer\"}, {\"credit_id\": \"54491967c3a3680faa001b5e\", \"department\": \"Art\", \"gender\": 0, \"id\": 1376891, \"job\": \"Set Designer\", \"name\": \"Joseph Hiura\"}, {\"credit_id\": \"54491997c3a3680fb1001c8a\", \"department\": \"Art\", \"gender\": 0, \"id\": 1376892, \"job\": \"Art Department Coordinator\", \"name\": \"Rebecca Jellie\"}, {\"credit_id\": \"544919ba0e0a26748f001b42\", \"department\": \"Art\", \"gender\": 0, \"id\": 1376893, \"job\": \"Set Designer\", \"name\": \"Robert Andrew Johnson\"}, {\"credit_id\": \"54491b1dc3a3680faa001b8c\", \"department\": \"Art\", \"gender\": 0, \"id\": 1376895, \"job\": \"Assistant Art Director\", \"name\": \"Mike Stassi\"}, {\"credit_id\": \"54491b79c3a3680fbb001826\", \"department\": \"Art\", \"gender\": 0, \"id\": 1376897, \"job\": \"Construction Coordinator\", \"name\": \"John Villarino\"}, {\"credit_id\": \"54491baec3a3680fb4001ce6\", \"department\": \"Art\", \"gender\": 2, \"id\": 1376898, \"job\": \"Assistant Art Director\", \"name\": \"Jeffrey Wisniewski\"}, {\"credit_id\": \"54491d2fc3a3680fb4001d07\", \"department\": \"Editing\", \"gender\": 0, \"id\": 1376899, \"job\": \"Dialogue Editor\", \"name\": \"Cheryl Nardi\"}, {\"credit_id\": \"54491d86c3a3680fa5001b2f\", \"department\": \"Editing\", \"gender\": 0, \"id\": 1376901, \"job\": \"Dialogue Editor\", \"name\": \"Marshall Winn\"}, {\"credit_id\": \"54491d9dc3a3680faa001bb0\", \"department\": \"Sound\", \"gender\": 0, \"id\": 1376902, \"job\": \"Supervising Sound Editor\", \"name\": \"Gwendolyn Yates Whittle\"}, {\"credit_id\": \"54491dc10e0a267486001bce\", \"department\": \"Sound\", \"gender\": 0, \"id\": 1376903, \"job\": \"Sound Re-Recording Mixer\", \"name\": \"William Stein\"}, {\"credit_id\": \"54491f500e0a26747c001c07\", \"department\": \"Crew\", \"gender\": 0, \"id\": 1376909, \"job\": \"Choreographer\", \"name\": \"Lula Washington\"}, {\"credit_id\": \"549599239251412c4e002a2e\", \"department\": \"Visual Effects\", \"gender\": 0, \"id\": 1391692, \"job\": \"Visual Effects Producer\", \"name\": \"Chris Del Conte\"}, {\"credit_id\": \"54959d54c3a36831b8001d9a\", \"department\": \"Visual Effects\", \"gender\": 2, \"id\": 1391695, \"job\": \"Visual Effects Supervisor\", \"name\": \"R. Christopher White\"}, {\"credit_id\": \"54959bdf9251412c4e002a66\", \"department\": \"Visual Effects\", \"gender\": 0, \"id\": 1394070, \"job\": \"Visual Effects Supervisor\", \"name\": \"Dan Lemmon\"}, {\"credit_id\": \"5495971d92514132ed002922\", \"department\": \"Sound\", \"gender\": 0, \"id\": 1394129, \"job\": \"Sound Effects Editor\", \"name\": \"Tim Nielsen\"}, {\"credit_id\": \"5592b25792514152cc0011aa\", \"department\": \"Crew\", \"gender\": 0, \"id\": 1394286, \"job\": \"CG Supervisor\", \"name\": \"Michael Mulholland\"}, {\"credit_id\": \"54959a329251416e2b004355\", \"department\": \"Crew\", \"gender\": 0, \"id\": 1394750, \"job\": \"Visual Effects Editor\", \"name\": \"Thomas Nittmann\"}, {\"credit_id\": \"54959d6dc3a3686ae9004401\", \"department\": \"Visual Effects\", \"gender\": 0, \"id\": 1394755, \"job\": \"Visual Effects Supervisor\", \"name\": \"Edson Williams\"}, {\"credit_id\": \"5495a08fc3a3686ae300441c\", \"department\": \"Editing\", \"gender\": 0, \"id\": 1394953, \"job\": \"Digital Intermediate\", \"name\": \"Christine Carr\"}, {\"credit_id\": \"55402d659251413d6d000249\", \"department\": \"Visual Effects\", \"gender\": 0, \"id\": 1395269, \"job\": \"Visual Effects Supervisor\", \"name\": \"John Bruno\"}, {\"credit_id\": \"54959e7b9251416e1e003f3e\", \"department\": \"Camera\", \"gender\": 0, \"id\": 1398970, \"job\": \"Steadicam Operator\", \"name\": \"David Emmerichs\"}, {\"credit_id\": \"54959734c3a3686ae10045e0\", \"department\": \"Sound\", \"gender\": 0, \"id\": 1400906, \"job\": \"Sound Effects Editor\", \"name\": \"Christopher Scarabosio\"}, {\"credit_id\": \"549595dd92514130fc002d79\", \"department\": \"Production\", \"gender\": 0, \"id\": 1401784, \"job\": \"Production Supervisor\", \"name\": \"Jennifer Teves\"}, {\"credit_id\": \"549596009251413af70028cc\", \"department\": \"Production\", \"gender\": 0, \"id\": 1401785, \"job\": \"Production Manager\", \"name\": \"Brigitte Yorke\"}, {\"credit_id\": \"549596e892514130fc002d99\", \"department\": \"Sound\", \"gender\": 0, \"id\": 1401786, \"job\": \"Sound Effects Editor\", \"name\": \"Ken Fischer\"}, {\"credit_id\": \"549598229251412c4e002a1c\", \"department\": \"Crew\", \"gender\": 0, \"id\": 1401787, \"job\": \"Special Effects Coordinator\", \"name\": \"Iain Hutton\"}, {\"credit_id\": \"549598349251416e2b00432b\", \"department\": \"Crew\", \"gender\": 0, \"id\": 1401788, \"job\": \"Special Effects Coordinator\", \"name\": \"Steve Ingram\"}, {\"credit_id\": \"54959905c3a3686ae3004324\", \"department\": \"Visual Effects\", \"gender\": 0, \"id\": 1401789, \"job\": \"Visual Effects Producer\", \"name\": \"Joyce Cox\"}, {\"credit_id\": \"5495994b92514132ed002951\", \"department\": \"Visual Effects\", \"gender\": 0, \"id\": 1401790, \"job\": \"Visual Effects Producer\", \"name\": \"Jenny Foster\"}, {\"credit_id\": \"549599cbc3a3686ae1004613\", \"department\": \"Crew\", \"gender\": 0, \"id\": 1401791, \"job\": \"Visual Effects Editor\", \"name\": \"Christopher Marino\"}, {\"credit_id\": \"549599f2c3a3686ae100461e\", \"department\": \"Crew\", \"gender\": 0, \"id\": 1401792, \"job\": \"Visual Effects Editor\", \"name\": \"Jim Milton\"}, {\"credit_id\": \"54959a51c3a3686af3003eb5\", \"department\": \"Visual Effects\", \"gender\": 0, \"id\": 1401793, \"job\": \"Visual Effects Producer\", \"name\": \"Cyndi Ochs\"}, {\"credit_id\": \"54959a7cc3a36811530026f4\", \"department\": \"Crew\", \"gender\": 0, \"id\": 1401794, \"job\": \"Visual Effects Editor\", \"name\": \"Lucas Putnam\"}, {\"credit_id\": \"54959b91c3a3680ff5002cb4\", \"department\": \"Visual Effects\", \"gender\": 0, \"id\": 1401795, \"job\": \"Visual Effects Supervisor\", \"name\": \"Anthony 'Max' Ivins\"}, {\"credit_id\": \"54959bb69251412c4e002a5f\", \"department\": \"Visual Effects\", \"gender\": 0, \"id\": 1401796, \"job\": \"Visual Effects Supervisor\", \"name\": \"John Knoll\"}, {\"credit_id\": \"54959cbbc3a3686ae3004391\", \"department\": \"Visual Effects\", \"gender\": 2, \"id\": 1401799, \"job\": \"Visual Effects Supervisor\", \"name\": \"Eric Saindon\"}, {\"credit_id\": \"54959d06c3a3686ae90043f6\", \"department\": \"Visual Effects\", \"gender\": 0, \"id\": 1401800, \"job\": \"Visual Effects Supervisor\", \"name\": \"Wayne Stables\"}, {\"credit_id\": \"54959d259251416e1e003f11\", \"department\": \"Visual Effects\", \"gender\": 0, \"id\": 1401801, \"job\": \"Visual Effects Supervisor\", \"name\": \"David Stinnett\"}, {\"credit_id\": \"54959db49251413af7002975\", \"department\": \"Visual Effects\", \"gender\": 0, \"id\": 1401803, \"job\": \"Visual Effects Supervisor\", \"name\": \"Guy Williams\"}, {\"credit_id\": \"54959de4c3a3681153002750\", \"department\": \"Crew\", \"gender\": 0, \"id\": 1401804, \"job\": \"Stunt Coordinator\", \"name\": \"Stuart Thorp\"}, {\"credit_id\": \"54959ef2c3a3680fc60027f2\", \"department\": \"Lighting\", \"gender\": 0, \"id\": 1401805, \"job\": \"Best Boy Electric\", \"name\": \"Giles Coburn\"}, {\"credit_id\": \"54959f07c3a3680fc60027f9\", \"department\": \"Camera\", \"gender\": 2, \"id\": 1401806, \"job\": \"Still Photographer\", \"name\": \"Mark Fellman\"}, {\"credit_id\": \"54959f47c3a3681153002774\", \"department\": \"Lighting\", \"gender\": 0, \"id\": 1401807, \"job\": \"Lighting Technician\", \"name\": \"Scott Sprague\"}, {\"credit_id\": \"54959f8cc3a36831b8001df2\", \"department\": \"Visual Effects\", \"gender\": 0, \"id\": 1401808, \"job\": \"Animation Director\", \"name\": \"Jeremy Hollobon\"}, {\"credit_id\": \"54959fa0c3a36831b8001dfb\", \"department\": \"Visual Effects\", \"gender\": 0, \"id\": 1401809, \"job\": \"Animation Director\", \"name\": \"Orlando Meunier\"}, {\"credit_id\": \"54959fb6c3a3686af3003f54\", \"department\": \"Visual Effects\", \"gender\": 0, \"id\": 1401810, \"job\": \"Animation Director\", \"name\": \"Taisuke Tanimura\"}, {\"credit_id\": \"54959fd2c3a36831b8001e02\", \"department\": \"Costume & Make-Up\", \"gender\": 0, \"id\": 1401812, \"job\": \"Set Costumer\", \"name\": \"Lilia Mishel Acevedo\"}, {\"credit_id\": \"54959ff9c3a3686ae300440c\", \"department\": \"Costume & Make-Up\", \"gender\": 0, \"id\": 1401814, \"job\": \"Set Costumer\", \"name\": \"Alejandro M. Hernandez\"}, {\"credit_id\": \"5495a0ddc3a3686ae10046fe\", \"department\": \"Editing\", \"gender\": 0, \"id\": 1401815, \"job\": \"Digital Intermediate\", \"name\": \"Marvin Hall\"}, {\"credit_id\": \"5495a1f7c3a3686ae3004443\", \"department\": \"Production\", \"gender\": 0, \"id\": 1401816, \"job\": \"Publicist\", \"name\": \"Judy Alley\"}, {\"credit_id\": \"5592b29fc3a36869d100002f\", \"department\": \"Crew\", \"gender\": 0, \"id\": 1418381, \"job\": \"CG Supervisor\", \"name\": \"Mike Perry\"}, {\"credit_id\": \"5592b23a9251415df8001081\", \"department\": \"Crew\", \"gender\": 0, \"id\": 1426854, \"job\": \"CG Supervisor\", \"name\": \"Andrew Morley\"}, {\"credit_id\": \"55491e1192514104c40002d8\", \"department\": \"Art\", \"gender\": 0, \"id\": 1438901, \"job\": \"Conceptual Design\", \"name\": \"Seth Engstrom\"}, {\"credit_id\": \"5525d5809251417276002b06\", \"department\": \"Crew\", \"gender\": 0, \"id\": 1447362, \"job\": \"Visual Effects Art Director\", \"name\": \"Eric Oliver\"}, {\"credit_id\": \"554427ca925141586500312a\", \"department\": \"Visual Effects\", \"gender\": 0, \"id\": 1447503, \"job\": \"Modeling\", \"name\": \"Matsune Suzuki\"}, {\"credit_id\": \"551906889251415aab001c88\", \"department\": \"Art\", \"gender\": 0, \"id\": 1447524, \"job\": \"Art Department Manager\", \"name\": \"Paul Tobin\"}, {\"credit_id\": \"5592af8492514152cc0010de\", \"department\": \"Costume & Make-Up\", \"gender\": 0, \"id\": 1452643, \"job\": \"Hairstylist\", \"name\": \"Roxane Griffin\"}, {\"credit_id\": \"553d3c109251415852001318\", \"department\": \"Lighting\", \"gender\": 0, \"id\": 1453938, \"job\": \"Lighting Artist\", \"name\": \"Arun Ram-Mohan\"}, {\"credit_id\": \"5592af4692514152d5001355\", \"department\": \"Costume & Make-Up\", \"gender\": 0, \"id\": 1457305, \"job\": \"Makeup Artist\", \"name\": \"Georgia Lockhart-Adams\"}, {\"credit_id\": \"5592b2eac3a36877470012a5\", \"department\": \"Crew\", \"gender\": 0, \"id\": 1466035, \"job\": \"CG Supervisor\", \"name\": \"Thrain Shadbolt\"}, {\"credit_id\": \"5592b032c3a36877450015f1\", \"department\": \"Crew\", \"gender\": 0, \"id\": 1483220, \"job\": \"CG Supervisor\", \"name\": \"Brad Alexander\"}, {\"credit_id\": \"5592b05592514152d80012f6\", \"department\": \"Crew\", \"gender\": 0, \"id\": 1483221, \"job\": \"CG Supervisor\", \"name\": \"Shadi Almassizadeh\"}, {\"credit_id\": \"5592b090c3a36877570010b5\", \"department\": \"Crew\", \"gender\": 0, \"id\": 1483222, \"job\": \"CG Supervisor\", \"name\": \"Simon Clutterbuck\"}, {\"credit_id\": \"5592b0dbc3a368774b00112c\", \"department\": \"Crew\", \"gender\": 0, \"id\": 1483223, \"job\": \"CG Supervisor\", \"name\": \"Graeme Demmocks\"}, {\"credit_id\": \"5592b0fe92514152db0010c1\", \"department\": \"Crew\", \"gender\": 0, \"id\": 1483224, \"job\": \"CG Supervisor\", \"name\": \"Adrian Fernandes\"}, {\"credit_id\": \"5592b11f9251415df8001059\", \"department\": \"Crew\", \"gender\": 0, \"id\": 1483225, \"job\": \"CG Supervisor\", \"name\": \"Mitch Gates\"}, {\"credit_id\": \"5592b15dc3a3687745001645\", \"department\": \"Crew\", \"gender\": 0, \"id\": 1483226, \"job\": \"CG Supervisor\", \"name\": \"Jerry Kung\"}, {\"credit_id\": \"5592b18e925141645a0004ae\", \"department\": \"Crew\", \"gender\": 0, \"id\": 1483227, \"job\": \"CG Supervisor\", \"name\": \"Andy Lomas\"}, {\"credit_id\": \"5592b1bfc3a368775d0010e7\", \"department\": \"Crew\", \"gender\": 0, \"id\": 1483228, \"job\": \"CG Supervisor\", \"name\": \"Sebastian Marino\"}, {\"credit_id\": \"5592b2049251415df8001078\", \"department\": \"Crew\", \"gender\": 0, \"id\": 1483229, \"job\": \"CG Supervisor\", \"name\": \"Matthias Menz\"}, {\"credit_id\": \"5592b27b92514152d800136a\", \"department\": \"Crew\", \"gender\": 0, \"id\": 1483230, \"job\": \"CG Supervisor\", \"name\": \"Sergei Nevshupov\"}, {\"credit_id\": \"5592b2c3c3a36869e800003c\", \"department\": \"Crew\", \"gender\": 0, \"id\": 1483231, \"job\": \"CG Supervisor\", \"name\": \"Philippe Rebours\"}, {\"credit_id\": \"5592b317c3a36877470012af\", \"department\": \"Crew\", \"gender\": 0, \"id\": 1483232, \"job\": \"CG Supervisor\", \"name\": \"Michael Takarangi\"}, {\"credit_id\": \"5592b345c3a36877470012bb\", \"department\": \"Crew\", \"gender\": 0, \"id\": 1483233, \"job\": \"CG Supervisor\", \"name\": \"David Weitzberg\"}, {\"credit_id\": \"5592b37cc3a368775100113b\", \"department\": \"Crew\", \"gender\": 0, \"id\": 1483234, \"job\": \"CG Supervisor\", \"name\": \"Ben White\"}, {\"credit_id\": \"573c8e2f9251413f5d000094\", \"department\": \"Crew\", \"gender\": 1, \"id\": 1621932, \"job\": \"Stunts\", \"name\": \"Min Windle\"}]   \n",
              "\n",
              "                                                                                                                                                                                                                                                                                                                                                                                                                                                                                                                                                                                                                                                                                                                                                          keywords  \n",
              "0  [{\"id\": 1463, \"name\": \"culture clash\"}, {\"id\": 2964, \"name\": \"future\"}, {\"id\": 3386, \"name\": \"space war\"}, {\"id\": 3388, \"name\": \"space colony\"}, {\"id\": 3679, \"name\": \"society\"}, {\"id\": 3801, \"name\": \"space travel\"}, {\"id\": 9685, \"name\": \"futuristic\"}, {\"id\": 9840, \"name\": \"romance\"}, {\"id\": 9882, \"name\": \"space\"}, {\"id\": 9951, \"name\": \"alien\"}, {\"id\": 10148, \"name\": \"tribe\"}, {\"id\": 10158, \"name\": \"alien planet\"}, {\"id\": 10987, \"name\": \"cgi\"}, {\"id\": 11399, \"name\": \"marine\"}, {\"id\": 13065, \"name\": \"soldier\"}, {\"id\": 14643, \"name\": \"battle\"}, {\"id\": 14720, \"name\": \"love affair\"}, {\"id\": 165431, \"name\": \"anti war\"}, {\"id\": 193554, \"name\": \"power relations\"}, {\"id\": 206690, \"name\": \"mind and soul\"}, {\"id\": 209714, \"name\": \"3d\"}]  "
            ],
            "text/html": [
              "\n",
              "  <div id=\"df-f9b902b0-081b-4374-8842-ec02340bb0c3\">\n",
              "    <div class=\"colab-df-container\">\n",
              "      <div>\n",
              "<style scoped>\n",
              "    .dataframe tbody tr th:only-of-type {\n",
              "        vertical-align: middle;\n",
              "    }\n",
              "\n",
              "    .dataframe tbody tr th {\n",
              "        vertical-align: top;\n",
              "    }\n",
              "\n",
              "    .dataframe thead th {\n",
              "        text-align: right;\n",
              "    }\n",
              "</style>\n",
              "<table border=\"1\" class=\"dataframe\">\n",
              "  <thead>\n",
              "    <tr style=\"text-align: right;\">\n",
              "      <th></th>\n",
              "      <th>genres</th>\n",
              "      <th>crew</th>\n",
              "      <th>keywords</th>\n",
              "    </tr>\n",
              "  </thead>\n",
              "  <tbody>\n",
              "    <tr>\n",
              "      <th>0</th>\n",
              "      <td>[{\"id\": 28, \"name\": \"Action\"}, {\"id\": 12, \"name\": \"Adventure\"}, {\"id\": 14, \"name\": \"Fantasy\"}, {\"id\": 878, \"name\": \"Science Fiction\"}]</td>\n",
              "      <td>[{\"credit_id\": \"52fe48009251416c750aca23\", \"department\": \"Editing\", \"gender\": 0, \"id\": 1721, \"job\": \"Editor\", \"name\": \"Stephen E. Rivkin\"}, {\"credit_id\": \"539c47ecc3a36810e3001f87\", \"department\": \"Art\", \"gender\": 2, \"id\": 496, \"job\": \"Production Design\", \"name\": \"Rick Carter\"}, {\"credit_id\": \"54491c89c3a3680fb4001cf7\", \"department\": \"Sound\", \"gender\": 0, \"id\": 900, \"job\": \"Sound Designer\", \"name\": \"Christopher Boyes\"}, {\"credit_id\": \"54491cb70e0a267480001bd0\", \"department\": \"Sound\", \"gender\": 0, \"id\": 900, \"job\": \"Supervising Sound Editor\", \"name\": \"Christopher Boyes\"}, {\"credit_id\": \"539c4a4cc3a36810c9002101\", \"department\": \"Production\", \"gender\": 1, \"id\": 1262, \"job\": \"Casting\", \"name\": \"Mali Finn\"}, {\"credit_id\": \"5544ee3b925141499f0008fc\", \"department\": \"Sound\", \"gender\": 2, \"id\": 1729, \"job\": \"Original Music Composer\", \"name\": \"James Horner\"}, {\"credit_id\": \"52fe48009251416c750ac9c3\", \"department\": \"Directing\", \"gender\": 2, \"id\": 2710, \"job\": \"Director\", \"name\": \"James Cameron\"}, {\"credit_id\": \"52fe48009251416c750ac9d9\", \"department\": \"Writing\", \"gender\": 2, \"id\": 2710, \"job\": \"Writer\", \"name\": \"James Cameron\"}, {\"credit_id\": \"52fe48009251416c750aca17\", \"department\": \"Editing\", \"gender\": 2, \"id\": 2710, \"job\": \"Editor\", \"name\": \"James Cameron\"}, {\"credit_id\": \"52fe48009251416c750aca29\", \"department\": \"Production\", \"gender\": 2, \"id\": 2710, \"job\": \"Producer\", \"name\": \"James Cameron\"}, {\"credit_id\": \"52fe48009251416c750aca3f\", \"department\": \"Writing\", \"gender\": 2, \"id\": 2710, \"job\": \"Screenplay\", \"name\": \"James Cameron\"}, {\"credit_id\": \"539c4987c3a36810ba0021a4\", \"department\": \"Art\", \"gender\": 2, \"id\": 7236, \"job\": \"Art Direction\", \"name\": \"Andrew Menzies\"}, {\"credit_id\": \"549598c3c3a3686ae9004383\", \"department\": \"Visual Effects\", \"gender\": 0, \"id\": 6690, \"job\": \"Visual Effects Producer\", \"name\": \"Jill Brooks\"}, {\"credit_id\": \"52fe48009251416c750aca4b\", \"department\": \"Production\", \"gender\": 1, \"id\": 6347, \"job\": \"Casting\", \"name\": \"Margery Simkin\"}, {\"credit_id\": \"570b6f419251417da70032fe\", \"department\": \"Art\", \"gender\": 2, \"id\": 6878, \"job\": \"Supervising Art Director\", \"name\": \"Kevin Ishioka\"}, {\"credit_id\": \"5495a0fac3a3686ae9004468\", \"department\": \"Sound\", \"gender\": 0, \"id\": 6883, \"job\": \"Music Editor\", \"name\": \"Dick Bernstein\"}, {\"credit_id\": \"54959706c3a3686af3003e81\", \"department\": \"Sound\", \"gender\": 0, \"id\": 8159, \"job\": \"Sound Effects Editor\", \"name\": \"Shannon Mills\"}, {\"credit_id\": \"54491d58c3a3680fb1001ccb\", \"department\": \"Sound\", \"gender\": 0, \"id\": 8160, \"job\": \"Foley\", \"name\": \"Dennie Thorpe\"}, {\"credit_id\": \"54491d6cc3a3680fa5001b2c\", \"department\": \"Sound\", \"gender\": 0, \"id\": 8163, \"job\": \"Foley\", \"name\": \"Jana Vance\"}, {\"credit_id\": \"52fe48009251416c750aca57\", \"department\": \"Costume &amp; Make-Up\", \"gender\": 1, \"id\": 8527, \"job\": \"Costume Design\", \"name\": \"Deborah Lynn Scott\"}, {\"credit_id\": \"52fe48009251416c750aca2f\", \"department\": \"Production\", \"gender\": 2, \"id\": 8529, \"job\": \"Producer\", \"name\": \"Jon Landau\"}, {\"credit_id\": \"539c4937c3a36810ba002194\", \"department\": \"Art\", \"gender\": 0, \"id\": 9618, \"job\": \"Art Direction\", \"name\": \"Sean Haworth\"}, {\"credit_id\": \"539c49b6c3a36810c10020e6\", \"department\": \"Art\", \"gender\": 1, \"id\": 12653, \"job\": \"Set Decoration\", \"name\": \"Kim Sinclair\"}, {\"credit_id\": \"570b6f2f9251413a0e00020d\", \"department\": \"Art\", \"gender\": 1, \"id\": 12653, \"job\": \"Supervising Art Director\", \"name\": \"Kim Sinclair\"}, {\"credit_id\": \"54491a6c0e0a26748c001b19\", \"department\": \"Art\", \"gender\": 2, \"id\": 14350, \"job\": \"Set Designer\", \"name\": \"Richard F. Mays\"}, {\"credit_id\": \"56928cf4c3a3684cff0025c4\", \"department\": \"Production\", \"gender\": 1, \"id\": 20294, \"job\": \"Executive Producer\", \"name\": \"Laeta Kalogridis\"}, {\"credit_id\": \"52fe48009251416c750aca51\", \"department\": \"Costume &amp; Make-Up\", \"gender\": 0, \"id\": 17675, \"job\": \"Costume Design\", \"name\": \"Mayes C. Rubeo\"}, {\"credit_id\": \"52fe48009251416c750aca11\", \"department\": \"Camera\", \"gender\": 2, \"id\": 18265, \"job\": \"Director of Photography\", \"name\": \"Mauro Fiore\"}, {\"credit_id\": \"5449194d0e0a26748f001b39\", \"department\": \"Art\", \"gender\": 0, \"id\": 42281, \"job\": \"Set Designer\", \"name\": \"Scott Herbertson\"}, {\"credit_id\": \"52fe48009251416c750aca05\", \"department\": \"Crew\", \"gender\": 0, \"id\": 42288, \"job\": \"Stunts\", \"name\": \"Woody Schultz\"}, {\"credit_id\": \"5592aefb92514152de0010f5\", \"department\": \"Costume &amp; Make-Up\", \"gender\": 0, \"id\": 29067, \"job\": \"Makeup Artist\", \"name\": \"Linda DeVetta\"}, {\"credit_id\": \"5592afa492514152de00112c\", \"department\": \"Costume &amp; Make-Up\", \"gender\": 0, \"id\": 29067, \"job\": \"Hairstylist\", \"name\": \"Linda DeVetta\"}, {\"credit_id\": \"54959ed592514130fc002e5d\", \"department\": \"Camera\", \"gender\": 2, \"id\": 33302, \"job\": \"Camera Operator\", \"name\": \"Richard Bluck\"}, {\"credit_id\": \"539c4891c3a36810ba002147\", \"department\": \"Art\", \"gender\": 2, \"id\": 33303, \"job\": \"Art Direction\", \"name\": \"Simon Bright\"}, {\"credit_id\": \"54959c069251417a81001f3a\", \"department\": \"Visual Effects\", \"gender\": 0, \"id\": 113145, \"job\": \"Visual Effects Supervisor\", \"name\": \"Richard Martin\"}, {\"credit_id\": \"54959a0dc3a3680ff5002c8d\", \"department\": \"Crew\", \"gender\": 2, \"id\": 58188, \"job\": \"Visual Effects Editor\", \"name\": \"Steve R. Moore\"}, {\"credit_id\": \"52fe48009251416c750aca1d\", \"department\": \"Editing\", \"gender\": 2, \"id\": 58871, \"job\": \"Editor\", \"name\": \"John Refoua\"}, {\"credit_id\": \"54491a4dc3a3680fc30018ca\", \"department\": \"Art\", \"gender\": 0, \"id\": 92359, \"job\": \"Set Designer\", \"name\": \"Karl J. Martin\"}, {\"credit_id\": \"52fe48009251416c750aca35\", \"department\": \"Camera\", \"gender\": 1, \"id\": 72201, \"job\": \"Director of Photography\", \"name\": \"Chiling Lin\"}, {\"credit_id\": \"52fe48009251416c750ac9ff\", \"department\": \"Crew\", \"gender\": 0, \"id\": 89714, \"job\": \"Stunts\", \"name\": \"Ilram Choi\"}, {\"credit_id\": \"54959c529251416e2b004394\", \"department\": \"Visual Effects\", \"gender\": 2, \"id\": 93214, \"job\": \"Visual Effects Supervisor\", \"name\": \"Steven Quale\"}, {\"credit_id\": \"54491edf0e0a267489001c37\", \"department\": \"Crew\", \"gender\": 1, \"id\": 122607, \"job\": \"Dialect Coach\", \"name\": \"Carla Meyer\"}, {\"credit_id\": \"539c485bc3a368653d001a3a\", \"department\": \"Art\", \"gender\": 2, \"id\": 132585, \"job\": \"Art Direction\", \"name\": \"Nick Bassett\"}, {\"credit_id\": \"539c4903c3a368653d001a74\", \"department\": \"Art\", \"gender\": 0, \"id\": 132596, \"job\": \"Art Direction\", \"name\": \"Jill Cormack\"}, {\"credit_id\": \"539c4967c3a368653d001a94\", \"department\": \"Art\", \"gender\": 0, \"id\": 132604, \"job\": \"Art Direction\", \"name\": \"Andy McLaren\"}, {\"credit_id\": \"52fe48009251416c750aca45\", \"department\": \"Crew\", \"gender\": 0, \"id\": 236696, \"job\": \"Motion Capture Artist\", \"name\": \"Terry Notary\"}, {\"credit_id\": \"54959e02c3a3680fc60027d2\", \"department\": \"Crew\", \"gender\": 2, \"id\": 956198, \"job\": \"Stunt Coordinator\", \"name\": \"Garrett Warren\"}, {\"credit_id\": \"54959ca3c3a3686ae300438c\", \"department\": \"Visual Effects\", \"gender\": 2, \"id\": 957874, \"job\": \"Visual Effects Supervisor\", \"name\": \"Jonathan Rothbart\"}, {\"credit_id\": \"570b6f519251412c74001b2f\", \"department\": \"Art\", \"gender\": 0, \"id\": 957889, \"job\": \"Supervising Art Director\", \"name\": \"Stefan Dechant\"}, {\"credit_id\": \"570b6f62c3a3680b77007460\", \"department\": \"Art\", \"gender\": 2, \"id\": 959555, \"job\": \"Supervising Art Director\", \"name\": \"Todd Cherniawsky\"}, {\"credit_id\": \"539c4a3ac3a36810da0021cc\", \"department\": \"Production\", \"gender\": 0, \"id\": 1016177, \"job\": \"Casting\", \"name\": \"Miranda Rivers\"}, {\"credit_id\": \"539c482cc3a36810c1002062\", \"department\": \"Art\", \"gender\": 0, \"id\": 1032536, \"job\": \"Production Design\", \"name\": \"Robert Stromberg\"}, {\"credit_id\": \"539c4b65c3a36810c9002125\", \"department\": \"Costume &amp; Make-Up\", \"gender\": 2, \"id\": 1071680, \"job\": \"Costume Design\", \"name\": \"John Harding\"}, {\"credit_id\": \"54959e6692514130fc002e4e\", \"department\": \"Camera\", \"gender\": 0, \"id\": 1177364, \"job\": \"Steadicam Operator\", \"name\": \"Roberto De Angelis\"}, {\"credit_id\": \"539c49f1c3a368653d001aac\", \"department\": \"Costume &amp; Make-Up\", \"gender\": 2, \"id\": 1202850, \"job\": \"Makeup Department Head\", \"name\": \"Mike Smithson\"}, {\"credit_id\": \"5495999ec3a3686ae100460c\", \"department\": \"Visual Effects\", \"gender\": 0, \"id\": 1204668, \"job\": \"Visual Effects Producer\", \"name\": \"Alain Lalanne\"}, {\"credit_id\": \"54959cdfc3a3681153002729\", \"department\": \"Visual Effects\", \"gender\": 0, \"id\": 1206410, \"job\": \"Visual Effects Supervisor\", \"name\": \"Lucas Salton\"}, {\"credit_id\": \"549596239251417a81001eae\", \"department\": \"Crew\", \"gender\": 0, \"id\": 1234266, \"job\": \"Post Production Supervisor\", \"name\": \"Janace Tashjian\"}, {\"credit_id\": \"54959c859251416e1e003efe\", \"department\": \"Visual Effects\", \"gender\": 0, \"id\": 1271932, \"job\": \"Visual Effects Supervisor\", \"name\": \"Stephen Rosenbaum\"}, {\"credit_id\": \"5592af28c3a368775a00105f\", \"department\": \"Costume &amp; Make-Up\", \"gender\": 0, \"id\": 1310064, \"job\": \"Makeup Artist\", \"name\": \"Frankie Karena\"}, {\"credit_id\": \"539c4adfc3a36810e300203b\", \"department\": \"Costume &amp; Make-Up\", \"gender\": 1, \"id\": 1319844, \"job\": \"Costume Supervisor\", \"name\": \"Lisa Lovaas\"}, {\"credit_id\": \"54959b579251416e2b004371\", \"department\": \"Visual Effects\", \"gender\": 0, \"id\": 1327028, \"job\": \"Visual Effects Supervisor\", \"name\": \"Jonathan Fawkner\"}, {\"credit_id\": \"539c48a7c3a36810b5001fa7\", \"department\": \"Art\", \"gender\": 0, \"id\": 1330561, \"job\": \"Art Direction\", \"name\": \"Robert Bavin\"}, {\"credit_id\": \"539c4a71c3a36810da0021e0\", \"department\": \"Costume &amp; Make-Up\", \"gender\": 0, \"id\": 1330567, \"job\": \"Costume Supervisor\", \"name\": \"Anthony Almaraz\"}, {\"credit_id\": \"539c4a8ac3a36810ba0021e4\", \"department\": \"Costume &amp; Make-Up\", \"gender\": 0, \"id\": 1330570, \"job\": \"Costume Supervisor\", \"name\": \"Carolyn M. Fenton\"}, {\"credit_id\": \"539c4ab6c3a36810da0021f0\", \"department\": \"Costume &amp; Make-Up\", \"gender\": 0, \"id\": 1330574, \"job\": \"Costume Supervisor\", \"name\": \"Beth Koenigsberg\"}, {\"credit_id\": \"54491ab70e0a267480001ba2\", \"department\": \"Art\", \"gender\": 0, \"id\": 1336191, \"job\": \"Set Designer\", \"name\": \"Sam Page\"}, {\"credit_id\": \"544919d9c3a3680fc30018bd\", \"department\": \"Art\", \"gender\": 0, \"id\": 1339441, \"job\": \"Set Designer\", \"name\": \"Tex Kadonaga\"}, {\"credit_id\": \"54491cf50e0a267483001b0c\", \"department\": \"Editing\", \"gender\": 0, \"id\": 1352422, \"job\": \"Dialogue Editor\", \"name\": \"Kim Foscato\"}, {\"credit_id\": \"544919f40e0a26748c001b09\", \"department\": \"Art\", \"gender\": 0, \"id\": 1352962, \"job\": \"Set Designer\", \"name\": \"Tammy S. Lee\"}, {\"credit_id\": \"5495a115c3a3680ff5002d71\", \"department\": \"Crew\", \"gender\": 0, \"id\": 1357070, \"job\": \"Transportation Coordinator\", \"name\": \"Denny Caira\"}, {\"credit_id\": \"5495a12f92514130fc002e94\", \"department\": \"Crew\", \"gender\": 0, \"id\": 1357071, \"job\": \"Transportation Coordinator\", \"name\": \"James Waitkus\"}, {\"credit_id\": \"5495976fc3a36811530026b0\", \"department\": \"Sound\", \"gender\": 0, \"id\": 1360103, \"job\": \"Supervising Sound Editor\", \"name\": \"Addison Teague\"}, {\"credit_id\": \"54491837c3a3680fb1001c5a\", \"department\": \"Art\", \"gender\": 2, \"id\": 1376887, \"job\": \"Set Designer\", \"name\": \"C. Scott Baker\"}, {\"credit_id\": \"54491878c3a3680fb4001c9d\", \"department\": \"Art\", \"gender\": 0, \"id\": 1376888, \"job\": \"Set Designer\", \"name\": \"Luke Caska\"}, {\"credit_id\": \"544918dac3a3680fa5001ae0\", \"department\": \"Art\", \"gender\": 0, \"id\": 1376889, \"job\": \"Set Designer\", \"name\": \"David Chow\"}, {\"credit_id\": \"544919110e0a267486001b68\", \"department\": \"Art\", \"gender\": 0, \"id\": 1376890, \"job\": \"Set Designer\", \"name\": \"Jonathan Dyer\"}, {\"credit_id\": \"54491967c3a3680faa001b5e\", \"department\": \"Art\", \"gender\": 0, \"id\": 1376891, \"job\": \"Set Designer\", \"name\": \"Joseph Hiura\"}, {\"credit_id\": \"54491997c3a3680fb1001c8a\", \"department\": \"Art\", \"gender\": 0, \"id\": 1376892, \"job\": \"Art Department Coordinator\", \"name\": \"Rebecca Jellie\"}, {\"credit_id\": \"544919ba0e0a26748f001b42\", \"department\": \"Art\", \"gender\": 0, \"id\": 1376893, \"job\": \"Set Designer\", \"name\": \"Robert Andrew Johnson\"}, {\"credit_id\": \"54491b1dc3a3680faa001b8c\", \"department\": \"Art\", \"gender\": 0, \"id\": 1376895, \"job\": \"Assistant Art Director\", \"name\": \"Mike Stassi\"}, {\"credit_id\": \"54491b79c3a3680fbb001826\", \"department\": \"Art\", \"gender\": 0, \"id\": 1376897, \"job\": \"Construction Coordinator\", \"name\": \"John Villarino\"}, {\"credit_id\": \"54491baec3a3680fb4001ce6\", \"department\": \"Art\", \"gender\": 2, \"id\": 1376898, \"job\": \"Assistant Art Director\", \"name\": \"Jeffrey Wisniewski\"}, {\"credit_id\": \"54491d2fc3a3680fb4001d07\", \"department\": \"Editing\", \"gender\": 0, \"id\": 1376899, \"job\": \"Dialogue Editor\", \"name\": \"Cheryl Nardi\"}, {\"credit_id\": \"54491d86c3a3680fa5001b2f\", \"department\": \"Editing\", \"gender\": 0, \"id\": 1376901, \"job\": \"Dialogue Editor\", \"name\": \"Marshall Winn\"}, {\"credit_id\": \"54491d9dc3a3680faa001bb0\", \"department\": \"Sound\", \"gender\": 0, \"id\": 1376902, \"job\": \"Supervising Sound Editor\", \"name\": \"Gwendolyn Yates Whittle\"}, {\"credit_id\": \"54491dc10e0a267486001bce\", \"department\": \"Sound\", \"gender\": 0, \"id\": 1376903, \"job\": \"Sound Re-Recording Mixer\", \"name\": \"William Stein\"}, {\"credit_id\": \"54491f500e0a26747c001c07\", \"department\": \"Crew\", \"gender\": 0, \"id\": 1376909, \"job\": \"Choreographer\", \"name\": \"Lula Washington\"}, {\"credit_id\": \"549599239251412c4e002a2e\", \"department\": \"Visual Effects\", \"gender\": 0, \"id\": 1391692, \"job\": \"Visual Effects Producer\", \"name\": \"Chris Del Conte\"}, {\"credit_id\": \"54959d54c3a36831b8001d9a\", \"department\": \"Visual Effects\", \"gender\": 2, \"id\": 1391695, \"job\": \"Visual Effects Supervisor\", \"name\": \"R. Christopher White\"}, {\"credit_id\": \"54959bdf9251412c4e002a66\", \"department\": \"Visual Effects\", \"gender\": 0, \"id\": 1394070, \"job\": \"Visual Effects Supervisor\", \"name\": \"Dan Lemmon\"}, {\"credit_id\": \"5495971d92514132ed002922\", \"department\": \"Sound\", \"gender\": 0, \"id\": 1394129, \"job\": \"Sound Effects Editor\", \"name\": \"Tim Nielsen\"}, {\"credit_id\": \"5592b25792514152cc0011aa\", \"department\": \"Crew\", \"gender\": 0, \"id\": 1394286, \"job\": \"CG Supervisor\", \"name\": \"Michael Mulholland\"}, {\"credit_id\": \"54959a329251416e2b004355\", \"department\": \"Crew\", \"gender\": 0, \"id\": 1394750, \"job\": \"Visual Effects Editor\", \"name\": \"Thomas Nittmann\"}, {\"credit_id\": \"54959d6dc3a3686ae9004401\", \"department\": \"Visual Effects\", \"gender\": 0, \"id\": 1394755, \"job\": \"Visual Effects Supervisor\", \"name\": \"Edson Williams\"}, {\"credit_id\": \"5495a08fc3a3686ae300441c\", \"department\": \"Editing\", \"gender\": 0, \"id\": 1394953, \"job\": \"Digital Intermediate\", \"name\": \"Christine Carr\"}, {\"credit_id\": \"55402d659251413d6d000249\", \"department\": \"Visual Effects\", \"gender\": 0, \"id\": 1395269, \"job\": \"Visual Effects Supervisor\", \"name\": \"John Bruno\"}, {\"credit_id\": \"54959e7b9251416e1e003f3e\", \"department\": \"Camera\", \"gender\": 0, \"id\": 1398970, \"job\": \"Steadicam Operator\", \"name\": \"David Emmerichs\"}, {\"credit_id\": \"54959734c3a3686ae10045e0\", \"department\": \"Sound\", \"gender\": 0, \"id\": 1400906, \"job\": \"Sound Effects Editor\", \"name\": \"Christopher Scarabosio\"}, {\"credit_id\": \"549595dd92514130fc002d79\", \"department\": \"Production\", \"gender\": 0, \"id\": 1401784, \"job\": \"Production Supervisor\", \"name\": \"Jennifer Teves\"}, {\"credit_id\": \"549596009251413af70028cc\", \"department\": \"Production\", \"gender\": 0, \"id\": 1401785, \"job\": \"Production Manager\", \"name\": \"Brigitte Yorke\"}, {\"credit_id\": \"549596e892514130fc002d99\", \"department\": \"Sound\", \"gender\": 0, \"id\": 1401786, \"job\": \"Sound Effects Editor\", \"name\": \"Ken Fischer\"}, {\"credit_id\": \"549598229251412c4e002a1c\", \"department\": \"Crew\", \"gender\": 0, \"id\": 1401787, \"job\": \"Special Effects Coordinator\", \"name\": \"Iain Hutton\"}, {\"credit_id\": \"549598349251416e2b00432b\", \"department\": \"Crew\", \"gender\": 0, \"id\": 1401788, \"job\": \"Special Effects Coordinator\", \"name\": \"Steve Ingram\"}, {\"credit_id\": \"54959905c3a3686ae3004324\", \"department\": \"Visual Effects\", \"gender\": 0, \"id\": 1401789, \"job\": \"Visual Effects Producer\", \"name\": \"Joyce Cox\"}, {\"credit_id\": \"5495994b92514132ed002951\", \"department\": \"Visual Effects\", \"gender\": 0, \"id\": 1401790, \"job\": \"Visual Effects Producer\", \"name\": \"Jenny Foster\"}, {\"credit_id\": \"549599cbc3a3686ae1004613\", \"department\": \"Crew\", \"gender\": 0, \"id\": 1401791, \"job\": \"Visual Effects Editor\", \"name\": \"Christopher Marino\"}, {\"credit_id\": \"549599f2c3a3686ae100461e\", \"department\": \"Crew\", \"gender\": 0, \"id\": 1401792, \"job\": \"Visual Effects Editor\", \"name\": \"Jim Milton\"}, {\"credit_id\": \"54959a51c3a3686af3003eb5\", \"department\": \"Visual Effects\", \"gender\": 0, \"id\": 1401793, \"job\": \"Visual Effects Producer\", \"name\": \"Cyndi Ochs\"}, {\"credit_id\": \"54959a7cc3a36811530026f4\", \"department\": \"Crew\", \"gender\": 0, \"id\": 1401794, \"job\": \"Visual Effects Editor\", \"name\": \"Lucas Putnam\"}, {\"credit_id\": \"54959b91c3a3680ff5002cb4\", \"department\": \"Visual Effects\", \"gender\": 0, \"id\": 1401795, \"job\": \"Visual Effects Supervisor\", \"name\": \"Anthony 'Max' Ivins\"}, {\"credit_id\": \"54959bb69251412c4e002a5f\", \"department\": \"Visual Effects\", \"gender\": 0, \"id\": 1401796, \"job\": \"Visual Effects Supervisor\", \"name\": \"John Knoll\"}, {\"credit_id\": \"54959cbbc3a3686ae3004391\", \"department\": \"Visual Effects\", \"gender\": 2, \"id\": 1401799, \"job\": \"Visual Effects Supervisor\", \"name\": \"Eric Saindon\"}, {\"credit_id\": \"54959d06c3a3686ae90043f6\", \"department\": \"Visual Effects\", \"gender\": 0, \"id\": 1401800, \"job\": \"Visual Effects Supervisor\", \"name\": \"Wayne Stables\"}, {\"credit_id\": \"54959d259251416e1e003f11\", \"department\": \"Visual Effects\", \"gender\": 0, \"id\": 1401801, \"job\": \"Visual Effects Supervisor\", \"name\": \"David Stinnett\"}, {\"credit_id\": \"54959db49251413af7002975\", \"department\": \"Visual Effects\", \"gender\": 0, \"id\": 1401803, \"job\": \"Visual Effects Supervisor\", \"name\": \"Guy Williams\"}, {\"credit_id\": \"54959de4c3a3681153002750\", \"department\": \"Crew\", \"gender\": 0, \"id\": 1401804, \"job\": \"Stunt Coordinator\", \"name\": \"Stuart Thorp\"}, {\"credit_id\": \"54959ef2c3a3680fc60027f2\", \"department\": \"Lighting\", \"gender\": 0, \"id\": 1401805, \"job\": \"Best Boy Electric\", \"name\": \"Giles Coburn\"}, {\"credit_id\": \"54959f07c3a3680fc60027f9\", \"department\": \"Camera\", \"gender\": 2, \"id\": 1401806, \"job\": \"Still Photographer\", \"name\": \"Mark Fellman\"}, {\"credit_id\": \"54959f47c3a3681153002774\", \"department\": \"Lighting\", \"gender\": 0, \"id\": 1401807, \"job\": \"Lighting Technician\", \"name\": \"Scott Sprague\"}, {\"credit_id\": \"54959f8cc3a36831b8001df2\", \"department\": \"Visual Effects\", \"gender\": 0, \"id\": 1401808, \"job\": \"Animation Director\", \"name\": \"Jeremy Hollobon\"}, {\"credit_id\": \"54959fa0c3a36831b8001dfb\", \"department\": \"Visual Effects\", \"gender\": 0, \"id\": 1401809, \"job\": \"Animation Director\", \"name\": \"Orlando Meunier\"}, {\"credit_id\": \"54959fb6c3a3686af3003f54\", \"department\": \"Visual Effects\", \"gender\": 0, \"id\": 1401810, \"job\": \"Animation Director\", \"name\": \"Taisuke Tanimura\"}, {\"credit_id\": \"54959fd2c3a36831b8001e02\", \"department\": \"Costume &amp; Make-Up\", \"gender\": 0, \"id\": 1401812, \"job\": \"Set Costumer\", \"name\": \"Lilia Mishel Acevedo\"}, {\"credit_id\": \"54959ff9c3a3686ae300440c\", \"department\": \"Costume &amp; Make-Up\", \"gender\": 0, \"id\": 1401814, \"job\": \"Set Costumer\", \"name\": \"Alejandro M. Hernandez\"}, {\"credit_id\": \"5495a0ddc3a3686ae10046fe\", \"department\": \"Editing\", \"gender\": 0, \"id\": 1401815, \"job\": \"Digital Intermediate\", \"name\": \"Marvin Hall\"}, {\"credit_id\": \"5495a1f7c3a3686ae3004443\", \"department\": \"Production\", \"gender\": 0, \"id\": 1401816, \"job\": \"Publicist\", \"name\": \"Judy Alley\"}, {\"credit_id\": \"5592b29fc3a36869d100002f\", \"department\": \"Crew\", \"gender\": 0, \"id\": 1418381, \"job\": \"CG Supervisor\", \"name\": \"Mike Perry\"}, {\"credit_id\": \"5592b23a9251415df8001081\", \"department\": \"Crew\", \"gender\": 0, \"id\": 1426854, \"job\": \"CG Supervisor\", \"name\": \"Andrew Morley\"}, {\"credit_id\": \"55491e1192514104c40002d8\", \"department\": \"Art\", \"gender\": 0, \"id\": 1438901, \"job\": \"Conceptual Design\", \"name\": \"Seth Engstrom\"}, {\"credit_id\": \"5525d5809251417276002b06\", \"department\": \"Crew\", \"gender\": 0, \"id\": 1447362, \"job\": \"Visual Effects Art Director\", \"name\": \"Eric Oliver\"}, {\"credit_id\": \"554427ca925141586500312a\", \"department\": \"Visual Effects\", \"gender\": 0, \"id\": 1447503, \"job\": \"Modeling\", \"name\": \"Matsune Suzuki\"}, {\"credit_id\": \"551906889251415aab001c88\", \"department\": \"Art\", \"gender\": 0, \"id\": 1447524, \"job\": \"Art Department Manager\", \"name\": \"Paul Tobin\"}, {\"credit_id\": \"5592af8492514152cc0010de\", \"department\": \"Costume &amp; Make-Up\", \"gender\": 0, \"id\": 1452643, \"job\": \"Hairstylist\", \"name\": \"Roxane Griffin\"}, {\"credit_id\": \"553d3c109251415852001318\", \"department\": \"Lighting\", \"gender\": 0, \"id\": 1453938, \"job\": \"Lighting Artist\", \"name\": \"Arun Ram-Mohan\"}, {\"credit_id\": \"5592af4692514152d5001355\", \"department\": \"Costume &amp; Make-Up\", \"gender\": 0, \"id\": 1457305, \"job\": \"Makeup Artist\", \"name\": \"Georgia Lockhart-Adams\"}, {\"credit_id\": \"5592b2eac3a36877470012a5\", \"department\": \"Crew\", \"gender\": 0, \"id\": 1466035, \"job\": \"CG Supervisor\", \"name\": \"Thrain Shadbolt\"}, {\"credit_id\": \"5592b032c3a36877450015f1\", \"department\": \"Crew\", \"gender\": 0, \"id\": 1483220, \"job\": \"CG Supervisor\", \"name\": \"Brad Alexander\"}, {\"credit_id\": \"5592b05592514152d80012f6\", \"department\": \"Crew\", \"gender\": 0, \"id\": 1483221, \"job\": \"CG Supervisor\", \"name\": \"Shadi Almassizadeh\"}, {\"credit_id\": \"5592b090c3a36877570010b5\", \"department\": \"Crew\", \"gender\": 0, \"id\": 1483222, \"job\": \"CG Supervisor\", \"name\": \"Simon Clutterbuck\"}, {\"credit_id\": \"5592b0dbc3a368774b00112c\", \"department\": \"Crew\", \"gender\": 0, \"id\": 1483223, \"job\": \"CG Supervisor\", \"name\": \"Graeme Demmocks\"}, {\"credit_id\": \"5592b0fe92514152db0010c1\", \"department\": \"Crew\", \"gender\": 0, \"id\": 1483224, \"job\": \"CG Supervisor\", \"name\": \"Adrian Fernandes\"}, {\"credit_id\": \"5592b11f9251415df8001059\", \"department\": \"Crew\", \"gender\": 0, \"id\": 1483225, \"job\": \"CG Supervisor\", \"name\": \"Mitch Gates\"}, {\"credit_id\": \"5592b15dc3a3687745001645\", \"department\": \"Crew\", \"gender\": 0, \"id\": 1483226, \"job\": \"CG Supervisor\", \"name\": \"Jerry Kung\"}, {\"credit_id\": \"5592b18e925141645a0004ae\", \"department\": \"Crew\", \"gender\": 0, \"id\": 1483227, \"job\": \"CG Supervisor\", \"name\": \"Andy Lomas\"}, {\"credit_id\": \"5592b1bfc3a368775d0010e7\", \"department\": \"Crew\", \"gender\": 0, \"id\": 1483228, \"job\": \"CG Supervisor\", \"name\": \"Sebastian Marino\"}, {\"credit_id\": \"5592b2049251415df8001078\", \"department\": \"Crew\", \"gender\": 0, \"id\": 1483229, \"job\": \"CG Supervisor\", \"name\": \"Matthias Menz\"}, {\"credit_id\": \"5592b27b92514152d800136a\", \"department\": \"Crew\", \"gender\": 0, \"id\": 1483230, \"job\": \"CG Supervisor\", \"name\": \"Sergei Nevshupov\"}, {\"credit_id\": \"5592b2c3c3a36869e800003c\", \"department\": \"Crew\", \"gender\": 0, \"id\": 1483231, \"job\": \"CG Supervisor\", \"name\": \"Philippe Rebours\"}, {\"credit_id\": \"5592b317c3a36877470012af\", \"department\": \"Crew\", \"gender\": 0, \"id\": 1483232, \"job\": \"CG Supervisor\", \"name\": \"Michael Takarangi\"}, {\"credit_id\": \"5592b345c3a36877470012bb\", \"department\": \"Crew\", \"gender\": 0, \"id\": 1483233, \"job\": \"CG Supervisor\", \"name\": \"David Weitzberg\"}, {\"credit_id\": \"5592b37cc3a368775100113b\", \"department\": \"Crew\", \"gender\": 0, \"id\": 1483234, \"job\": \"CG Supervisor\", \"name\": \"Ben White\"}, {\"credit_id\": \"573c8e2f9251413f5d000094\", \"department\": \"Crew\", \"gender\": 1, \"id\": 1621932, \"job\": \"Stunts\", \"name\": \"Min Windle\"}]</td>\n",
              "      <td>[{\"id\": 1463, \"name\": \"culture clash\"}, {\"id\": 2964, \"name\": \"future\"}, {\"id\": 3386, \"name\": \"space war\"}, {\"id\": 3388, \"name\": \"space colony\"}, {\"id\": 3679, \"name\": \"society\"}, {\"id\": 3801, \"name\": \"space travel\"}, {\"id\": 9685, \"name\": \"futuristic\"}, {\"id\": 9840, \"name\": \"romance\"}, {\"id\": 9882, \"name\": \"space\"}, {\"id\": 9951, \"name\": \"alien\"}, {\"id\": 10148, \"name\": \"tribe\"}, {\"id\": 10158, \"name\": \"alien planet\"}, {\"id\": 10987, \"name\": \"cgi\"}, {\"id\": 11399, \"name\": \"marine\"}, {\"id\": 13065, \"name\": \"soldier\"}, {\"id\": 14643, \"name\": \"battle\"}, {\"id\": 14720, \"name\": \"love affair\"}, {\"id\": 165431, \"name\": \"anti war\"}, {\"id\": 193554, \"name\": \"power relations\"}, {\"id\": 206690, \"name\": \"mind and soul\"}, {\"id\": 209714, \"name\": \"3d\"}]</td>\n",
              "    </tr>\n",
              "  </tbody>\n",
              "</table>\n",
              "</div>\n",
              "      <button class=\"colab-df-convert\" onclick=\"convertToInteractive('df-f9b902b0-081b-4374-8842-ec02340bb0c3')\"\n",
              "              title=\"Convert this dataframe to an interactive table.\"\n",
              "              style=\"display:none;\">\n",
              "        \n",
              "  <svg xmlns=\"http://www.w3.org/2000/svg\" height=\"24px\"viewBox=\"0 0 24 24\"\n",
              "       width=\"24px\">\n",
              "    <path d=\"M0 0h24v24H0V0z\" fill=\"none\"/>\n",
              "    <path d=\"M18.56 5.44l.94 2.06.94-2.06 2.06-.94-2.06-.94-.94-2.06-.94 2.06-2.06.94zm-11 1L8.5 8.5l.94-2.06 2.06-.94-2.06-.94L8.5 2.5l-.94 2.06-2.06.94zm10 10l.94 2.06.94-2.06 2.06-.94-2.06-.94-.94-2.06-.94 2.06-2.06.94z\"/><path d=\"M17.41 7.96l-1.37-1.37c-.4-.4-.92-.59-1.43-.59-.52 0-1.04.2-1.43.59L10.3 9.45l-7.72 7.72c-.78.78-.78 2.05 0 2.83L4 21.41c.39.39.9.59 1.41.59.51 0 1.02-.2 1.41-.59l7.78-7.78 2.81-2.81c.8-.78.8-2.07 0-2.86zM5.41 20L4 18.59l7.72-7.72 1.47 1.35L5.41 20z\"/>\n",
              "  </svg>\n",
              "      </button>\n",
              "      \n",
              "  <style>\n",
              "    .colab-df-container {\n",
              "      display:flex;\n",
              "      flex-wrap:wrap;\n",
              "      gap: 12px;\n",
              "    }\n",
              "\n",
              "    .colab-df-convert {\n",
              "      background-color: #E8F0FE;\n",
              "      border: none;\n",
              "      border-radius: 50%;\n",
              "      cursor: pointer;\n",
              "      display: none;\n",
              "      fill: #1967D2;\n",
              "      height: 32px;\n",
              "      padding: 0 0 0 0;\n",
              "      width: 32px;\n",
              "    }\n",
              "\n",
              "    .colab-df-convert:hover {\n",
              "      background-color: #E2EBFA;\n",
              "      box-shadow: 0px 1px 2px rgba(60, 64, 67, 0.3), 0px 1px 3px 1px rgba(60, 64, 67, 0.15);\n",
              "      fill: #174EA6;\n",
              "    }\n",
              "\n",
              "    [theme=dark] .colab-df-convert {\n",
              "      background-color: #3B4455;\n",
              "      fill: #D2E3FC;\n",
              "    }\n",
              "\n",
              "    [theme=dark] .colab-df-convert:hover {\n",
              "      background-color: #434B5C;\n",
              "      box-shadow: 0px 1px 3px 1px rgba(0, 0, 0, 0.15);\n",
              "      filter: drop-shadow(0px 1px 2px rgba(0, 0, 0, 0.3));\n",
              "      fill: #FFFFFF;\n",
              "    }\n",
              "  </style>\n",
              "\n",
              "      <script>\n",
              "        const buttonEl =\n",
              "          document.querySelector('#df-f9b902b0-081b-4374-8842-ec02340bb0c3 button.colab-df-convert');\n",
              "        buttonEl.style.display =\n",
              "          google.colab.kernel.accessAllowed ? 'block' : 'none';\n",
              "\n",
              "        async function convertToInteractive(key) {\n",
              "          const element = document.querySelector('#df-f9b902b0-081b-4374-8842-ec02340bb0c3');\n",
              "          const dataTable =\n",
              "            await google.colab.kernel.invokeFunction('convertToInteractive',\n",
              "                                                     [key], {});\n",
              "          if (!dataTable) return;\n",
              "\n",
              "          const docLinkHtml = 'Like what you see? Visit the ' +\n",
              "            '<a target=\"_blank\" href=https://colab.research.google.com/notebooks/data_table.ipynb>data table notebook</a>'\n",
              "            + ' to learn more about interactive tables.';\n",
              "          element.innerHTML = '';\n",
              "          dataTable['output_type'] = 'display_data';\n",
              "          await google.colab.output.renderOutput(dataTable, element);\n",
              "          const docLink = document.createElement('div');\n",
              "          docLink.innerHTML = docLinkHtml;\n",
              "          element.appendChild(docLink);\n",
              "        }\n",
              "      </script>\n",
              "    </div>\n",
              "  </div>\n",
              "  "
            ]
          },
          "metadata": {},
          "execution_count": 31
        }
      ]
    },
    {
      "cell_type": "markdown",
      "source": [
        "As you can see, the crew feature data is messy to say the least, if we were to clean this and parse it normally, it would take quite the effort.\n",
        "\n",
        "This is were **ast.literal_eval function** steps in."
      ],
      "metadata": {
        "id": "jGht4cqSbHin"
      }
    },
    {
      "cell_type": "markdown",
      "source": [
        "The **ast.literal_eval** function is a helper method that can evaluate strings containing python values from unknown sources without us having to parse the values.\n",
        "\n",
        "Best way to understand it is to see it in action."
      ],
      "metadata": {
        "id": "wxt8gepSbnOj"
      }
    },
    {
      "cell_type": "code",
      "source": [
        "dictionary = literal_eval(\"{'a': 1, 'b': 2}\")\n",
        "print (type(dictionary))\n",
        "print (dictionary)"
      ],
      "metadata": {
        "colab": {
          "base_uri": "https://localhost:8080/"
        },
        "id": "CUHAA6WncCaU",
        "outputId": "b2288c1f-6c99-4bb0-9583-9b5c8e92a2ea"
      },
      "execution_count": null,
      "outputs": [
        {
          "output_type": "stream",
          "name": "stdout",
          "text": [
            "<class 'dict'>\n",
            "{'a': 1, 'b': 2}\n"
          ]
        }
      ]
    },
    {
      "cell_type": "code",
      "source": [
        "# Apply literal_eval to our features\n",
        "features = ['cast', 'crew', 'genres', 'keywords']\n",
        "for feature in features:\n",
        "    data[feature] = data[feature].apply(literal_eval)"
      ],
      "metadata": {
        "id": "Hg1d4CnL89qg"
      },
      "execution_count": null,
      "outputs": []
    },
    {
      "cell_type": "markdown",
      "source": [
        "Extract the director name from the crew feature"
      ],
      "metadata": {
        "id": "lt7slp4yC5jw"
      }
    },
    {
      "cell_type": "code",
      "source": [
        "def get_director(x):\n",
        "    for i in x:\n",
        "        if i['job'] == 'Director':\n",
        "            return i['name']\n",
        "    return np.nan"
      ],
      "metadata": {
        "id": "rJlR6TGgCzMN"
      },
      "execution_count": null,
      "outputs": []
    },
    {
      "cell_type": "markdown",
      "source": [
        "Now, we define a function to get the top 3 elements from our list."
      ],
      "metadata": {
        "id": "SZMAJ8GRF0iR"
      }
    },
    {
      "cell_type": "code",
      "source": [
        "def get_list(x):\n",
        "    if isinstance(x, list):\n",
        "        names = [i['name'] for i in x]\n",
        "        # Check if more than 3 elements exist. If yes, return only first three.\n",
        "        # If no, return entire list\n",
        "        if len(names) > 3:\n",
        "            names = names[:3]\n",
        "        return names\n",
        "        \n",
        "        # Return empty list in case of missing/malformed data\n",
        "    return []"
      ],
      "metadata": {
        "id": "StI_ivliFej2"
      },
      "execution_count": null,
      "outputs": []
    },
    {
      "cell_type": "code",
      "source": [
        "# Now, get director, cast, genres, and keyword attributes\n",
        "data['director'] = data['crew'].apply(get_director)\n",
        "\n",
        "features = ['cast', 'crew','keywords', 'genres']\n",
        "for feature in features:\n",
        "    data[feature] = data[feature].apply(get_list)"
      ],
      "metadata": {
        "id": "ZTfKXtQrGjYI"
      },
      "execution_count": null,
      "outputs": []
    },
    {
      "cell_type": "markdown",
      "source": [
        "Preview our new dataframe\n",
        "\n",
        "\n"
      ],
      "metadata": {
        "id": "gwZ6EfVxHGRA"
      }
    },
    {
      "cell_type": "code",
      "source": [
        "data[['original_title', 'cast', 'director', 'keywords', 'genres']].head()"
      ],
      "metadata": {
        "colab": {
          "base_uri": "https://localhost:8080/",
          "height": 337
        },
        "id": "qAvkkvixHFYo",
        "outputId": "42e13b50-5bbc-4177-b932-f9b528c58cc3"
      },
      "execution_count": null,
      "outputs": [
        {
          "output_type": "execute_result",
          "data": {
            "text/plain": [
              "                             original_title  \\\n",
              "0  Avatar                                     \n",
              "1  Pirates of the Caribbean: At World's End   \n",
              "2  Spectre                                    \n",
              "3  The Dark Knight Rises                      \n",
              "4  John Carter                                \n",
              "\n",
              "                                               cast           director  \\\n",
              "0  [Sam Worthington, Zoe Saldana, Sigourney Weaver]  James Cameron       \n",
              "1  [Johnny Depp, Orlando Bloom, Keira Knightley]     Gore Verbinski      \n",
              "2  [Daniel Craig, Christoph Waltz, Léa Seydoux]      Sam Mendes          \n",
              "3  [Christian Bale, Michael Caine, Gary Oldman]      Christopher Nolan   \n",
              "4  [Taylor Kitsch, Lynn Collins, Samantha Morton]    Andrew Stanton      \n",
              "\n",
              "                                keywords                                genres  \n",
              "0  [culture clash, future, space war]     [Action, Adventure, Fantasy]          \n",
              "1  [ocean, drug abuse, exotic island]     [Adventure, Fantasy, Action]          \n",
              "2  [spy, based on novel, secret agent]    [Action, Adventure, Crime]            \n",
              "3  [dc comics, crime fighter, terrorist]  [Action, Crime, Drama]                \n",
              "4  [based on novel, mars, medallion]      [Action, Adventure, Science Fiction]  "
            ],
            "text/html": [
              "\n",
              "  <div id=\"df-efce28ae-f5e6-4a17-a5ac-ff533c445ed3\">\n",
              "    <div class=\"colab-df-container\">\n",
              "      <div>\n",
              "<style scoped>\n",
              "    .dataframe tbody tr th:only-of-type {\n",
              "        vertical-align: middle;\n",
              "    }\n",
              "\n",
              "    .dataframe tbody tr th {\n",
              "        vertical-align: top;\n",
              "    }\n",
              "\n",
              "    .dataframe thead th {\n",
              "        text-align: right;\n",
              "    }\n",
              "</style>\n",
              "<table border=\"1\" class=\"dataframe\">\n",
              "  <thead>\n",
              "    <tr style=\"text-align: right;\">\n",
              "      <th></th>\n",
              "      <th>original_title</th>\n",
              "      <th>cast</th>\n",
              "      <th>director</th>\n",
              "      <th>keywords</th>\n",
              "      <th>genres</th>\n",
              "    </tr>\n",
              "  </thead>\n",
              "  <tbody>\n",
              "    <tr>\n",
              "      <th>0</th>\n",
              "      <td>Avatar</td>\n",
              "      <td>[Sam Worthington, Zoe Saldana, Sigourney Weaver]</td>\n",
              "      <td>James Cameron</td>\n",
              "      <td>[culture clash, future, space war]</td>\n",
              "      <td>[Action, Adventure, Fantasy]</td>\n",
              "    </tr>\n",
              "    <tr>\n",
              "      <th>1</th>\n",
              "      <td>Pirates of the Caribbean: At World's End</td>\n",
              "      <td>[Johnny Depp, Orlando Bloom, Keira Knightley]</td>\n",
              "      <td>Gore Verbinski</td>\n",
              "      <td>[ocean, drug abuse, exotic island]</td>\n",
              "      <td>[Adventure, Fantasy, Action]</td>\n",
              "    </tr>\n",
              "    <tr>\n",
              "      <th>2</th>\n",
              "      <td>Spectre</td>\n",
              "      <td>[Daniel Craig, Christoph Waltz, Léa Seydoux]</td>\n",
              "      <td>Sam Mendes</td>\n",
              "      <td>[spy, based on novel, secret agent]</td>\n",
              "      <td>[Action, Adventure, Crime]</td>\n",
              "    </tr>\n",
              "    <tr>\n",
              "      <th>3</th>\n",
              "      <td>The Dark Knight Rises</td>\n",
              "      <td>[Christian Bale, Michael Caine, Gary Oldman]</td>\n",
              "      <td>Christopher Nolan</td>\n",
              "      <td>[dc comics, crime fighter, terrorist]</td>\n",
              "      <td>[Action, Crime, Drama]</td>\n",
              "    </tr>\n",
              "    <tr>\n",
              "      <th>4</th>\n",
              "      <td>John Carter</td>\n",
              "      <td>[Taylor Kitsch, Lynn Collins, Samantha Morton]</td>\n",
              "      <td>Andrew Stanton</td>\n",
              "      <td>[based on novel, mars, medallion]</td>\n",
              "      <td>[Action, Adventure, Science Fiction]</td>\n",
              "    </tr>\n",
              "  </tbody>\n",
              "</table>\n",
              "</div>\n",
              "      <button class=\"colab-df-convert\" onclick=\"convertToInteractive('df-efce28ae-f5e6-4a17-a5ac-ff533c445ed3')\"\n",
              "              title=\"Convert this dataframe to an interactive table.\"\n",
              "              style=\"display:none;\">\n",
              "        \n",
              "  <svg xmlns=\"http://www.w3.org/2000/svg\" height=\"24px\"viewBox=\"0 0 24 24\"\n",
              "       width=\"24px\">\n",
              "    <path d=\"M0 0h24v24H0V0z\" fill=\"none\"/>\n",
              "    <path d=\"M18.56 5.44l.94 2.06.94-2.06 2.06-.94-2.06-.94-.94-2.06-.94 2.06-2.06.94zm-11 1L8.5 8.5l.94-2.06 2.06-.94-2.06-.94L8.5 2.5l-.94 2.06-2.06.94zm10 10l.94 2.06.94-2.06 2.06-.94-2.06-.94-.94-2.06-.94 2.06-2.06.94z\"/><path d=\"M17.41 7.96l-1.37-1.37c-.4-.4-.92-.59-1.43-.59-.52 0-1.04.2-1.43.59L10.3 9.45l-7.72 7.72c-.78.78-.78 2.05 0 2.83L4 21.41c.39.39.9.59 1.41.59.51 0 1.02-.2 1.41-.59l7.78-7.78 2.81-2.81c.8-.78.8-2.07 0-2.86zM5.41 20L4 18.59l7.72-7.72 1.47 1.35L5.41 20z\"/>\n",
              "  </svg>\n",
              "      </button>\n",
              "      \n",
              "  <style>\n",
              "    .colab-df-container {\n",
              "      display:flex;\n",
              "      flex-wrap:wrap;\n",
              "      gap: 12px;\n",
              "    }\n",
              "\n",
              "    .colab-df-convert {\n",
              "      background-color: #E8F0FE;\n",
              "      border: none;\n",
              "      border-radius: 50%;\n",
              "      cursor: pointer;\n",
              "      display: none;\n",
              "      fill: #1967D2;\n",
              "      height: 32px;\n",
              "      padding: 0 0 0 0;\n",
              "      width: 32px;\n",
              "    }\n",
              "\n",
              "    .colab-df-convert:hover {\n",
              "      background-color: #E2EBFA;\n",
              "      box-shadow: 0px 1px 2px rgba(60, 64, 67, 0.3), 0px 1px 3px 1px rgba(60, 64, 67, 0.15);\n",
              "      fill: #174EA6;\n",
              "    }\n",
              "\n",
              "    [theme=dark] .colab-df-convert {\n",
              "      background-color: #3B4455;\n",
              "      fill: #D2E3FC;\n",
              "    }\n",
              "\n",
              "    [theme=dark] .colab-df-convert:hover {\n",
              "      background-color: #434B5C;\n",
              "      box-shadow: 0px 1px 3px 1px rgba(0, 0, 0, 0.15);\n",
              "      filter: drop-shadow(0px 1px 2px rgba(0, 0, 0, 0.3));\n",
              "      fill: #FFFFFF;\n",
              "    }\n",
              "  </style>\n",
              "\n",
              "      <script>\n",
              "        const buttonEl =\n",
              "          document.querySelector('#df-efce28ae-f5e6-4a17-a5ac-ff533c445ed3 button.colab-df-convert');\n",
              "        buttonEl.style.display =\n",
              "          google.colab.kernel.accessAllowed ? 'block' : 'none';\n",
              "\n",
              "        async function convertToInteractive(key) {\n",
              "          const element = document.querySelector('#df-efce28ae-f5e6-4a17-a5ac-ff533c445ed3');\n",
              "          const dataTable =\n",
              "            await google.colab.kernel.invokeFunction('convertToInteractive',\n",
              "                                                     [key], {});\n",
              "          if (!dataTable) return;\n",
              "\n",
              "          const docLinkHtml = 'Like what you see? Visit the ' +\n",
              "            '<a target=\"_blank\" href=https://colab.research.google.com/notebooks/data_table.ipynb>data table notebook</a>'\n",
              "            + ' to learn more about interactive tables.';\n",
              "          element.innerHTML = '';\n",
              "          dataTable['output_type'] = 'display_data';\n",
              "          await google.colab.output.renderOutput(dataTable, element);\n",
              "          const docLink = document.createElement('div');\n",
              "          docLink.innerHTML = docLinkHtml;\n",
              "          element.appendChild(docLink);\n",
              "        }\n",
              "      </script>\n",
              "    </div>\n",
              "  </div>\n",
              "  "
            ]
          },
          "metadata": {},
          "execution_count": 37
        }
      ]
    },
    {
      "cell_type": "markdown",
      "source": [
        "We need to do some further data cleaning,\n",
        "\n",
        "strip all spaces from names and keywords attributes and convert them to lower case .\n"
      ],
      "metadata": {
        "id": "wByTnEGrJvM_"
      }
    },
    {
      "cell_type": "code",
      "source": [
        "def clean_data(x):\n",
        "    if isinstance(x, list):\n",
        "        return [str.lower(i.replace(' ', '')) for i in x]\n",
        "    else:\n",
        "        # Check if director exists. If not, return empty string\n",
        "        if isinstance(x, str):\n",
        "            return str.lower(x.replace(' ', ''))\n",
        "        else:\n",
        "            return ''"
      ],
      "metadata": {
        "id": "CdMtYROWHSxX"
      },
      "execution_count": null,
      "outputs": []
    },
    {
      "cell_type": "markdown",
      "source": [
        "Apply our function"
      ],
      "metadata": {
        "id": "kF5VzzmmKp9P"
      }
    },
    {
      "cell_type": "code",
      "source": [
        "features = ['cast', 'director', 'keywords', 'genres']\n",
        "\n",
        "for feature in features:\n",
        "    data[feature] = data[feature].apply(clean_data)"
      ],
      "metadata": {
        "id": "YfxLcIabKmff"
      },
      "execution_count": null,
      "outputs": []
    },
    {
      "cell_type": "markdown",
      "source": [
        "Preview our dataframe after cleaning:\n"
      ],
      "metadata": {
        "id": "x0N-Z5xKPcTb"
      }
    },
    {
      "cell_type": "code",
      "source": [
        "data.head(1)"
      ],
      "metadata": {
        "colab": {
          "base_uri": "https://localhost:8080/",
          "height": 521
        },
        "id": "sU3gYmdaPgd-",
        "outputId": "1672ee27-ed4e-4006-d8f6-0f60df38b00b"
      },
      "execution_count": null,
      "outputs": [
        {
          "output_type": "execute_result",
          "data": {
            "text/plain": [
              "      budget                        genres                     homepage  \\\n",
              "0  237000000  [action, adventure, fantasy]  http://www.avatarmovie.com/   \n",
              "\n",
              "      id                          keywords original_language original_title  \\\n",
              "0  19995  [cultureclash, future, spacewar]  en                Avatar          \n",
              "\n",
              "                                                                                                                                                                          overview  \\\n",
              "0  In the 22nd century, a paraplegic Marine is dispatched to the moon Pandora on a unique mission, but becomes torn between following orders and protecting an alien civilization.   \n",
              "\n",
              "   popularity  \\\n",
              "0  150.437577   \n",
              "\n",
              "                                                                                                                                                                                          production_companies  \\\n",
              "0  [{\"name\": \"Ingenious Film Partners\", \"id\": 289}, {\"name\": \"Twentieth Century Fox Film Corporation\", \"id\": 306}, {\"name\": \"Dune Entertainment\", \"id\": 444}, {\"name\": \"Lightstorm Entertainment\", \"id\": 574}]   \n",
              "\n",
              "   ...  \\\n",
              "0  ...   \n",
              "\n",
              "                                                                        spoken_languages  \\\n",
              "0  [{\"iso_639_1\": \"en\", \"name\": \"English\"}, {\"iso_639_1\": \"es\", \"name\": \"Espa\\u00f1ol\"}]   \n",
              "\n",
              "     status                      tagline  title_x vote_average vote_count  \\\n",
              "0  Released  Enter the World of Pandora.  Avatar   7.2          11800       \n",
              "\n",
              "  title_y                                           cast  \\\n",
              "0  Avatar  [samworthington, zoesaldana, sigourneyweaver]   \n",
              "\n",
              "                                                  crew      director  \n",
              "0  [Stephen E. Rivkin, Rick Carter, Christopher Boyes]  jamescameron  \n",
              "\n",
              "[1 rows x 24 columns]"
            ],
            "text/html": [
              "\n",
              "  <div id=\"df-7b48c4bf-db7d-4059-8f2a-8721dd554cbd\">\n",
              "    <div class=\"colab-df-container\">\n",
              "      <div>\n",
              "<style scoped>\n",
              "    .dataframe tbody tr th:only-of-type {\n",
              "        vertical-align: middle;\n",
              "    }\n",
              "\n",
              "    .dataframe tbody tr th {\n",
              "        vertical-align: top;\n",
              "    }\n",
              "\n",
              "    .dataframe thead th {\n",
              "        text-align: right;\n",
              "    }\n",
              "</style>\n",
              "<table border=\"1\" class=\"dataframe\">\n",
              "  <thead>\n",
              "    <tr style=\"text-align: right;\">\n",
              "      <th></th>\n",
              "      <th>budget</th>\n",
              "      <th>genres</th>\n",
              "      <th>homepage</th>\n",
              "      <th>id</th>\n",
              "      <th>keywords</th>\n",
              "      <th>original_language</th>\n",
              "      <th>original_title</th>\n",
              "      <th>overview</th>\n",
              "      <th>popularity</th>\n",
              "      <th>production_companies</th>\n",
              "      <th>...</th>\n",
              "      <th>spoken_languages</th>\n",
              "      <th>status</th>\n",
              "      <th>tagline</th>\n",
              "      <th>title_x</th>\n",
              "      <th>vote_average</th>\n",
              "      <th>vote_count</th>\n",
              "      <th>title_y</th>\n",
              "      <th>cast</th>\n",
              "      <th>crew</th>\n",
              "      <th>director</th>\n",
              "    </tr>\n",
              "  </thead>\n",
              "  <tbody>\n",
              "    <tr>\n",
              "      <th>0</th>\n",
              "      <td>237000000</td>\n",
              "      <td>[action, adventure, fantasy]</td>\n",
              "      <td>http://www.avatarmovie.com/</td>\n",
              "      <td>19995</td>\n",
              "      <td>[cultureclash, future, spacewar]</td>\n",
              "      <td>en</td>\n",
              "      <td>Avatar</td>\n",
              "      <td>In the 22nd century, a paraplegic Marine is dispatched to the moon Pandora on a unique mission, but becomes torn between following orders and protecting an alien civilization.</td>\n",
              "      <td>150.437577</td>\n",
              "      <td>[{\"name\": \"Ingenious Film Partners\", \"id\": 289}, {\"name\": \"Twentieth Century Fox Film Corporation\", \"id\": 306}, {\"name\": \"Dune Entertainment\", \"id\": 444}, {\"name\": \"Lightstorm Entertainment\", \"id\": 574}]</td>\n",
              "      <td>...</td>\n",
              "      <td>[{\"iso_639_1\": \"en\", \"name\": \"English\"}, {\"iso_639_1\": \"es\", \"name\": \"Espa\\u00f1ol\"}]</td>\n",
              "      <td>Released</td>\n",
              "      <td>Enter the World of Pandora.</td>\n",
              "      <td>Avatar</td>\n",
              "      <td>7.2</td>\n",
              "      <td>11800</td>\n",
              "      <td>Avatar</td>\n",
              "      <td>[samworthington, zoesaldana, sigourneyweaver]</td>\n",
              "      <td>[Stephen E. Rivkin, Rick Carter, Christopher Boyes]</td>\n",
              "      <td>jamescameron</td>\n",
              "    </tr>\n",
              "  </tbody>\n",
              "</table>\n",
              "<p>1 rows × 24 columns</p>\n",
              "</div>\n",
              "      <button class=\"colab-df-convert\" onclick=\"convertToInteractive('df-7b48c4bf-db7d-4059-8f2a-8721dd554cbd')\"\n",
              "              title=\"Convert this dataframe to an interactive table.\"\n",
              "              style=\"display:none;\">\n",
              "        \n",
              "  <svg xmlns=\"http://www.w3.org/2000/svg\" height=\"24px\"viewBox=\"0 0 24 24\"\n",
              "       width=\"24px\">\n",
              "    <path d=\"M0 0h24v24H0V0z\" fill=\"none\"/>\n",
              "    <path d=\"M18.56 5.44l.94 2.06.94-2.06 2.06-.94-2.06-.94-.94-2.06-.94 2.06-2.06.94zm-11 1L8.5 8.5l.94-2.06 2.06-.94-2.06-.94L8.5 2.5l-.94 2.06-2.06.94zm10 10l.94 2.06.94-2.06 2.06-.94-2.06-.94-.94-2.06-.94 2.06-2.06.94z\"/><path d=\"M17.41 7.96l-1.37-1.37c-.4-.4-.92-.59-1.43-.59-.52 0-1.04.2-1.43.59L10.3 9.45l-7.72 7.72c-.78.78-.78 2.05 0 2.83L4 21.41c.39.39.9.59 1.41.59.51 0 1.02-.2 1.41-.59l7.78-7.78 2.81-2.81c.8-.78.8-2.07 0-2.86zM5.41 20L4 18.59l7.72-7.72 1.47 1.35L5.41 20z\"/>\n",
              "  </svg>\n",
              "      </button>\n",
              "      \n",
              "  <style>\n",
              "    .colab-df-container {\n",
              "      display:flex;\n",
              "      flex-wrap:wrap;\n",
              "      gap: 12px;\n",
              "    }\n",
              "\n",
              "    .colab-df-convert {\n",
              "      background-color: #E8F0FE;\n",
              "      border: none;\n",
              "      border-radius: 50%;\n",
              "      cursor: pointer;\n",
              "      display: none;\n",
              "      fill: #1967D2;\n",
              "      height: 32px;\n",
              "      padding: 0 0 0 0;\n",
              "      width: 32px;\n",
              "    }\n",
              "\n",
              "    .colab-df-convert:hover {\n",
              "      background-color: #E2EBFA;\n",
              "      box-shadow: 0px 1px 2px rgba(60, 64, 67, 0.3), 0px 1px 3px 1px rgba(60, 64, 67, 0.15);\n",
              "      fill: #174EA6;\n",
              "    }\n",
              "\n",
              "    [theme=dark] .colab-df-convert {\n",
              "      background-color: #3B4455;\n",
              "      fill: #D2E3FC;\n",
              "    }\n",
              "\n",
              "    [theme=dark] .colab-df-convert:hover {\n",
              "      background-color: #434B5C;\n",
              "      box-shadow: 0px 1px 3px 1px rgba(0, 0, 0, 0.15);\n",
              "      filter: drop-shadow(0px 1px 2px rgba(0, 0, 0, 0.3));\n",
              "      fill: #FFFFFF;\n",
              "    }\n",
              "  </style>\n",
              "\n",
              "      <script>\n",
              "        const buttonEl =\n",
              "          document.querySelector('#df-7b48c4bf-db7d-4059-8f2a-8721dd554cbd button.colab-df-convert');\n",
              "        buttonEl.style.display =\n",
              "          google.colab.kernel.accessAllowed ? 'block' : 'none';\n",
              "\n",
              "        async function convertToInteractive(key) {\n",
              "          const element = document.querySelector('#df-7b48c4bf-db7d-4059-8f2a-8721dd554cbd');\n",
              "          const dataTable =\n",
              "            await google.colab.kernel.invokeFunction('convertToInteractive',\n",
              "                                                     [key], {});\n",
              "          if (!dataTable) return;\n",
              "\n",
              "          const docLinkHtml = 'Like what you see? Visit the ' +\n",
              "            '<a target=\"_blank\" href=https://colab.research.google.com/notebooks/data_table.ipynb>data table notebook</a>'\n",
              "            + ' to learn more about interactive tables.';\n",
              "          element.innerHTML = '';\n",
              "          dataTable['output_type'] = 'display_data';\n",
              "          await google.colab.output.renderOutput(dataTable, element);\n",
              "          const docLink = document.createElement('div');\n",
              "          docLink.innerHTML = docLinkHtml;\n",
              "          element.appendChild(docLink);\n",
              "        }\n",
              "      </script>\n",
              "    </div>\n",
              "  </div>\n",
              "  "
            ]
          },
          "metadata": {},
          "execution_count": 40
        }
      ]
    },
    {
      "cell_type": "markdown",
      "source": [
        "Finally, we create a soup object that contains the cleaned features: cast, keywords, director, genres values to. This function will be given to our vectorizer"
      ],
      "metadata": {
        "id": "xr_NIeGINsq6"
      }
    },
    {
      "cell_type": "code",
      "source": [
        "def create_soup(df):\n",
        "    return ' '.join(df['keywords']) + ' ' + ' '.join(df['cast']) +  ' ' + df['director'] + ' ' + ' '.join(df['genres'])"
      ],
      "metadata": {
        "id": "Ilnpz1JhNwTj"
      },
      "execution_count": null,
      "outputs": []
    },
    {
      "cell_type": "code",
      "source": [
        "data['soup'] = data.apply(create_soup, axis = 1)"
      ],
      "metadata": {
        "id": "BR3c8HXzPSBn"
      },
      "execution_count": null,
      "outputs": []
    },
    {
      "cell_type": "markdown",
      "source": [
        "Now, we do the same steps as before but instead of using TF-IDF, we use Count_Vectorizer.\n",
        "\n",
        "This is because we don't want to down-weight the presence of an actor/director if he/she has acted or directed in relatively more movies. It does not make much sense."
      ],
      "metadata": {
        "id": "GIkFR453XxLM"
      }
    },
    {
      "cell_type": "code",
      "source": [
        "# Create the count matrix\n",
        "count = CountVectorizer(stop_words = 'english')\n",
        "count_matrix = count.fit_transform(data['soup'])\n",
        "print(\"Count Matrix Shape:\", count_matrix.shape)"
      ],
      "metadata": {
        "colab": {
          "base_uri": "https://localhost:8080/"
        },
        "id": "PYGZRt5NO3m2",
        "outputId": "40bdc268-9772-4d70-e61e-bdf30fd57f38"
      },
      "execution_count": null,
      "outputs": [
        {
          "output_type": "stream",
          "name": "stdout",
          "text": [
            "Count Matrix Shape: (4803, 11520)\n"
          ]
        }
      ]
    },
    {
      "cell_type": "code",
      "source": [
        "# Compute the cosine similarity matrix\n",
        "cosine_sim_2 = cosine_similarity(count_matrix, count_matrix)"
      ],
      "metadata": {
        "id": "diuXsvTSO-ga"
      },
      "execution_count": null,
      "outputs": []
    },
    {
      "cell_type": "code",
      "source": [
        "# Reset index of our main DataFrame\n",
        "data = data.reset_index()"
      ],
      "metadata": {
        "id": "7FCF0AP-bI7p"
      },
      "execution_count": null,
      "outputs": []
    },
    {
      "cell_type": "code",
      "source": [
        "indices = pd.Series(data.index, index = data['title_x'])"
      ],
      "metadata": {
        "id": "Dxjd3tBxbrjK"
      },
      "execution_count": null,
      "outputs": []
    },
    {
      "cell_type": "markdown",
      "source": [
        "Now, we can use our **get_content_recommendations()** function by passing the new cosine similarity as our second argument."
      ],
      "metadata": {
        "id": "s_6kWMAQb2-V"
      }
    },
    {
      "cell_type": "code",
      "source": [
        "# Test 1\n",
        "get_content_recommendations('The Dark Knight Rises', cosine_sim_2)"
      ],
      "metadata": {
        "colab": {
          "base_uri": "https://localhost:8080/"
        },
        "id": "-sOu1JMUbrlq",
        "outputId": "56e31ad6-a6aa-453f-af8b-9b138b733080"
      },
      "execution_count": null,
      "outputs": [
        {
          "output_type": "execute_result",
          "data": {
            "text/plain": [
              "65      The Dark Knight         \n",
              "119     Batman Begins           \n",
              "4638    Amidst the Devil's Wings\n",
              "1196    The Prestige            \n",
              "3073    Romeo Is Bleeding       \n",
              "3326    Black November          \n",
              "1503    Takers                  \n",
              "1986    Faster                  \n",
              "303     Catwoman                \n",
              "747     Gangster Squad          \n",
              "Name: original_title, dtype: object"
            ]
          },
          "metadata": {},
          "execution_count": 47
        }
      ]
    },
    {
      "cell_type": "code",
      "source": [
        "# Test 2\n",
        "get_content_recommendations('The Godfather', cosine_sim_2)"
      ],
      "metadata": {
        "colab": {
          "base_uri": "https://localhost:8080/"
        },
        "id": "oPX-ga4Kbrn7",
        "outputId": "e5868e97-c72c-4107-a739-25a77a1ba645"
      },
      "execution_count": null,
      "outputs": [
        {
          "output_type": "execute_result",
          "data": {
            "text/plain": [
              "867     The Godfather: Part III \n",
              "2731    The Godfather: Part II  \n",
              "4638    Amidst the Devil's Wings\n",
              "2649    The Son of No One       \n",
              "1525    Apocalypse Now          \n",
              "1018    The Cotton Club         \n",
              "1170    The Talented Mr. Ripley \n",
              "1209    The Rainmaker           \n",
              "1394    Donnie Brasco           \n",
              "1850    Scarface                \n",
              "Name: original_title, dtype: object"
            ]
          },
          "metadata": {},
          "execution_count": 48
        }
      ]
    },
    {
      "cell_type": "markdown",
      "source": [
        "Seems it worked.\n",
        "\n",
        "Our recommender has been picking up more information due to more metadata and has given us (arguably) better recommendations. It's more likely that DC fans will like movies of darker background and Marvel fans like more lighter movies.\n",
        "\n",
        "We can throw in more features (production_company, movie_duration, etc.) to get an even higher recommendation accuracy. \n"
      ],
      "metadata": {
        "id": "w4Pvf2H1caRm"
      }
    },
    {
      "cell_type": "markdown",
      "source": [
        "Limitation: \n",
        "\n",
        "1. Only capable of suggesting movies which are close to a certain movie. That is, it is not capable of capturing tastes and providing recommendations across genres.\n",
        "\n",
        "2. It also does not capture personal tastes and biases of a user. Anyone querying our engine for recommendations based on a movie will receive the same recommendation of that movie.\n",
        "\n",
        "Therefore, the next section we will try to surpass these limitations."
      ],
      "metadata": {
        "id": "83i_VKG2coZ1"
      }
    },
    {
      "cell_type": "markdown",
      "source": [
        "## Collabrative Filtering\n",
        "\n",
        "This technique will be applied in the next version of this notebook."
      ],
      "metadata": {
        "id": "MxXl5Bhz3zcO"
      }
    }
  ]
}